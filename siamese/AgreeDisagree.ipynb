{
 "cells": [
  {
   "cell_type": "code",
   "execution_count": 44,
   "metadata": {
    "collapsed": true
   },
   "outputs": [],
   "source": [
    "agree = \"\"\"Yes.\n",
    "I agree with you 100 percent.\n",
    "I couldn't agree with you more.\n",
    "That's so true.\n",
    "That's for sure.\n",
    "Tell me about it!\n",
    "You're absolutely right.\n",
    "Absolutely.\n",
    "That's exactly how I feel.\n",
    "Exactly.\n",
    "I'm afraid I agree with James.\n",
    "I have to side with Dad on this one.\n",
    "No doubt about it.\n",
    "Me neither.\n",
    "I suppose so.\n",
    "I guess so.\n",
    "You have a point there.\n",
    "I was just going to say that.\n",
    "OK.\n",
    "Why not\"\"\"\n",
    "\n",
    "disagree = \"\"\"No.\n",
    "I don't think so.\n",
    "(strong) No way.\n",
    "I'm afraid I disagree.\n",
    "(strong) I totally disagree.\n",
    "I beg to differ.\n",
    "(strong) I'd say the exact opposite.\n",
    "Not necessarily.\n",
    "That's not always true.\n",
    "That's not always the case.\n",
    "No, I'm not so sure about that.\n",
    "I would rather walk to town\n",
    "I'd rather do something else\n",
    "I'd prefer something different\n",
    "Maybe the opposite\"\"\""
   ]
  },
  {
   "cell_type": "code",
   "execution_count": 45,
   "metadata": {
    "collapsed": true
   },
   "outputs": [],
   "source": [
    "from spacy.en import English\n",
    "nlp = English()"
   ]
  },
  {
   "cell_type": "code",
   "execution_count": 48,
   "metadata": {
    "collapsed": false
   },
   "outputs": [],
   "source": [
    "from sklearn.neighbors import KNeighborsClassifier\n",
    "from sklearn.svm import LinearSVC"
   ]
  },
  {
   "cell_type": "code",
   "execution_count": 50,
   "metadata": {
    "collapsed": false
   },
   "outputs": [
    {
     "data": {
      "text/plain": [
       "LinearSVC(C=1.0, class_weight=None, dual=True, fit_intercept=True,\n",
       "     intercept_scaling=1, loss='squared_hinge', max_iter=1000,\n",
       "     multi_class='ovr', penalty='l2', random_state=None, tol=0.0001,\n",
       "     verbose=0)"
      ]
     },
     "execution_count": 50,
     "metadata": {},
     "output_type": "execute_result"
    }
   ],
   "source": [
    "knn = KNeighborsClassifier()\n",
    "svm = LinearSVC()\n",
    "\n",
    "Xs = [nlp(phrase).vector for phrase in agree] + [nlp(phrase).vector for phrase in disagree]\n",
    "ys = ['agree' for _ in agree] + ['disagree' for _ in disagree]\n",
    "\n",
    "svm.fit(Xs, ys)"
   ]
  },
  {
   "cell_type": "code",
   "execution_count": 51,
   "metadata": {
    "collapsed": true
   },
   "outputs": [],
   "source": [
    "def predict(classifier, phrase):\n",
    "    x = nlp(phrase).vector.reshape(1, -1)\n",
    "    return classifier.predict(x)[0]"
   ]
  },
  {
   "cell_type": "code",
   "execution_count": 79,
   "metadata": {
    "collapsed": false
   },
   "outputs": [
    {
     "name": "stdout",
     "output_type": "stream",
     "text": [
      "Sentiment(polarity=0.0, subjectivity=0.0)\n",
      "Sentiment(polarity=0.0, subjectivity=0.0)\n",
      "Sentiment(polarity=0.5, subjectivity=0.5)\n",
      "Sentiment(polarity=0.35, subjectivity=0.65)\n",
      "Sentiment(polarity=0.5, subjectivity=0.8888888888888888)\n",
      "Sentiment(polarity=0.0, subjectivity=0.0)\n",
      "Sentiment(polarity=0.2857142857142857, subjectivity=0.5357142857142857)\n",
      "Sentiment(polarity=0.2, subjectivity=0.9)\n",
      "Sentiment(polarity=0.25, subjectivity=0.25)\n",
      "Sentiment(polarity=0.25, subjectivity=0.25)\n",
      "Sentiment(polarity=-0.6, subjectivity=0.9)\n",
      "Sentiment(polarity=0.0, subjectivity=0.0)\n",
      "Sentiment(polarity=0.0, subjectivity=0.0)\n",
      "Sentiment(polarity=0.0, subjectivity=0.0)\n",
      "Sentiment(polarity=0.0, subjectivity=0.0)\n",
      "Sentiment(polarity=0.0, subjectivity=0.0)\n",
      "Sentiment(polarity=0.0, subjectivity=0.0)\n",
      "Sentiment(polarity=0.0, subjectivity=0.0)\n",
      "Sentiment(polarity=0.5, subjectivity=0.5)\n",
      "Sentiment(polarity=0.0, subjectivity=0.0)\n"
     ]
    }
   ],
   "source": [
    "from textblob import TextBlob\n",
    "\n",
    "for phrase in agree.split(\"\\n\"):\n",
    "    print(TextBlob(phrase).sentiment)"
   ]
  },
  {
   "cell_type": "code",
   "execution_count": 34,
   "metadata": {
    "collapsed": true
   },
   "outputs": [],
   "source": [
    "agree_vec = nlp(agree)\n",
    "dis_vec = nlp(disagree)"
   ]
  },
  {
   "cell_type": "code",
   "execution_count": 39,
   "metadata": {
    "collapsed": false
   },
   "outputs": [],
   "source": [
    "def predict(phrase):\n",
    "    p = nlp(phrase)\n",
    "    return 'agree' if p.similarity(agree_vec) > p.similarity(dis_vec) else 'disagree'"
   ]
  },
  {
   "cell_type": "code",
   "execution_count": 69,
   "metadata": {
    "collapsed": false
   },
   "outputs": [
    {
     "ename": "TypeError",
     "evalue": "predict() missing 1 required positional argument: 'phrase'",
     "output_type": "error",
     "traceback": [
      "\u001b[0;31m---------------------------------------------------------------------------\u001b[0m",
      "\u001b[0;31mTypeError\u001b[0m                                 Traceback (most recent call last)",
      "\u001b[0;32m<ipython-input-69-cb552ef19bf1>\u001b[0m in \u001b[0;36m<module>\u001b[0;34m()\u001b[0m\n\u001b[0;32m----> 1\u001b[0;31m \u001b[0mpredict\u001b[0m\u001b[0;34m(\u001b[0m\u001b[0;34m\"why not\"\u001b[0m\u001b[0;34m)\u001b[0m\u001b[0;34m\u001b[0m\u001b[0m\n\u001b[0m",
      "\u001b[0;31mTypeError\u001b[0m: predict() missing 1 required positional argument: 'phrase'"
     ]
    }
   ],
   "source": [
    "predict(\"why not\")"
   ]
  },
  {
   "cell_type": "code",
   "execution_count": null,
   "metadata": {
    "collapsed": true
   },
   "outputs": [],
   "source": []
  }
 ],
 "metadata": {
  "kernelspec": {
   "display_name": "Python 3",
   "language": "python",
   "name": "python3"
  },
  "language_info": {
   "codemirror_mode": {
    "name": "ipython",
    "version": 3
   },
   "file_extension": ".py",
   "mimetype": "text/x-python",
   "name": "python",
   "nbconvert_exporter": "python",
   "pygments_lexer": "ipython3",
   "version": "3.6.0"
  }
 },
 "nbformat": 4,
 "nbformat_minor": 2
}
