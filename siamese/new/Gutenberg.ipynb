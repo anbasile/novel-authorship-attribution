{
 "cells": [
  {
   "cell_type": "code",
   "execution_count": 1,
   "metadata": {
    "collapsed": true
   },
   "outputs": [],
   "source": [
    "import os\n",
    "\n",
    "data_dir = \"/dev/data/gut/\"\n",
    "\n",
    "files = os.listdir(data_dir)\n",
    "files = [x for x in files if x.endswith(\".txt\") and \"__\" in x]"
   ]
  },
  {
   "cell_type": "code",
   "execution_count": 2,
   "metadata": {
    "collapsed": true
   },
   "outputs": [],
   "source": [
    "texts = []\n",
    "labels = []\n",
    "\n",
    "for fn in files:\n",
    "    with open(os.path.join(data_dir, fn), encoding=\"ISO-8859-1\") as f:\n",
    "        s = f.read()\n",
    "    texts.append(s[1000:])\n",
    "    labels.append(fn[:-4])"
   ]
  },
  {
   "cell_type": "code",
   "execution_count": 3,
   "metadata": {
    "collapsed": true
   },
   "outputs": [],
   "source": [
    "shortest = sorted([(len(text), i) for i, text in enumerate(texts)])[:36]"
   ]
  },
  {
   "cell_type": "code",
   "execution_count": 4,
   "metadata": {
    "collapsed": true
   },
   "outputs": [],
   "source": [
    "shortest_is = set([s[1] for s in shortest])"
   ]
  },
  {
   "cell_type": "code",
   "execution_count": 5,
   "metadata": {
    "collapsed": true
   },
   "outputs": [],
   "source": [
    "texts = [x for i, x in enumerate(texts) if i not in shortest_is]\n",
    "labels = [x for i, x in enumerate(labels) if i not in shortest_is]"
   ]
  },
  {
   "cell_type": "code",
   "execution_count": 6,
   "metadata": {
    "collapsed": true
   },
   "outputs": [],
   "source": [
    "def get_chunks(l, n):\n",
    "    n = max(1, n)\n",
    "    return (l[i:i+n] for i in range(0, len(l), n))"
   ]
  },
  {
   "cell_type": "code",
   "execution_count": 9,
   "metadata": {
    "collapsed": true
   },
   "outputs": [],
   "source": [
    "text_fragments = []\n",
    "label_fragments = []\n",
    "\n",
    "for i, text in enumerate(texts):\n",
    "    num_added = 0\n",
    "    chunks = get_chunks(text, 1000)\n",
    "    for chunk in chunks:\n",
    "        #if num_added > 100:\n",
    "        #    continue\n",
    "        num_added += 1\n",
    "        text_fragments.append(chunk)\n",
    "        label_fragments.append(labels[i])\n",
    "        "
   ]
  },
  {
   "cell_type": "code",
   "execution_count": 10,
   "metadata": {},
   "outputs": [
    {
     "data": {
      "text/plain": [
       "1185868"
      ]
     },
     "execution_count": 10,
     "metadata": {},
     "output_type": "execute_result"
    }
   ],
   "source": [
    "len(text_fragments)"
   ]
  },
  {
   "cell_type": "code",
   "execution_count": 11,
   "metadata": {
    "collapsed": true
   },
   "outputs": [],
   "source": [
    "import numpy as np\n",
    "from random import shuffle\n",
    "\n",
    "indices = list(range(len(text_fragments)))\n",
    "shuffle(indices)"
   ]
  },
  {
   "cell_type": "code",
   "execution_count": 12,
   "metadata": {
    "collapsed": true
   },
   "outputs": [],
   "source": [
    "text_fragments = np.array(text_fragments)\n",
    "label_fragments = np.array(label_fragments)"
   ]
  },
  {
   "cell_type": "code",
   "execution_count": 13,
   "metadata": {
    "collapsed": true
   },
   "outputs": [],
   "source": [
    "text_fragments = text_fragments[indices]\n",
    "label_fragments = label_fragments[indices]"
   ]
  },
  {
   "cell_type": "code",
   "execution_count": 14,
   "metadata": {
    "collapsed": true
   },
   "outputs": [],
   "source": [
    "from sklearn.feature_extraction.text import TfidfVectorizer"
   ]
  },
  {
   "cell_type": "code",
   "execution_count": 17,
   "metadata": {},
   "outputs": [
    {
     "name": "stdout",
     "output_type": "stream",
     "text": [
      "CPU times: user 33min 7s, sys: 41.2 s, total: 33min 48s\n",
      "Wall time: 33min 48s\n"
     ]
    }
   ],
   "source": [
    "%%time\n",
    "vectorizer = TfidfVectorizer(analyzer='char', min_df=10, ngram_range=(1,3))\n",
    "\n",
    "vectors = vectorizer.fit_transform(text_fragments)"
   ]
  },
  {
   "cell_type": "code",
   "execution_count": 18,
   "metadata": {},
   "outputs": [
    {
     "data": {
      "text/plain": [
       "(1185868, 42854)"
      ]
     },
     "execution_count": 18,
     "metadata": {},
     "output_type": "execute_result"
    }
   ],
   "source": [
    "vectors.shape"
   ]
  },
  {
   "cell_type": "code",
   "execution_count": 24,
   "metadata": {
    "collapsed": true
   },
   "outputs": [],
   "source": [
    "from sklearn.naive_bayes import MultinomialNB\n",
    "from sklearn.model_selection import train_test_split\n",
    "from sklearn.svm import SVC\n",
    "\n",
    "nb = MultinomialNB(fit_prior=False, alpha=0.001)\n",
    "# svm = SVC(kernel='linear', probability=True)\n",
    "\n",
    "X_train, X_test, y_train, y_test = train_test_split(vectors, label_fragments, test_size=0.5)"
   ]
  },
  {
   "cell_type": "code",
   "execution_count": 25,
   "metadata": {},
   "outputs": [
    {
     "name": "stdout",
     "output_type": "stream",
     "text": [
      "CPU times: user 23min 52s, sys: 10.9 s, total: 24min 3s\n",
      "Wall time: 24min 3s\n"
     ]
    },
    {
     "data": {
      "text/plain": [
       "MultinomialNB(alpha=0.001, class_prior=None, fit_prior=False)"
      ]
     },
     "execution_count": 25,
     "metadata": {},
     "output_type": "execute_result"
    }
   ],
   "source": [
    "%%time\n",
    "nb.fit(X_train, y_train)"
   ]
  },
  {
   "cell_type": "code",
   "execution_count": 26,
   "metadata": {},
   "outputs": [
    {
     "name": "stdout",
     "output_type": "stream",
     "text": [
      "0.644078430314\n",
      "CPU times: user 21min 47s, sys: 14.3 s, total: 22min 1s\n",
      "Wall time: 22min 1s\n"
     ]
    }
   ],
   "source": [
    "%%time\n",
    "from sklearn.metrics import accuracy_score\n",
    "preds = nb.predict(X_test)\n",
    "\n",
    "print(accuracy_score(y_test, preds))"
   ]
  },
  {
   "cell_type": "code",
   "execution_count": null,
   "metadata": {
    "collapsed": true
   },
   "outputs": [],
   "source": [
    "preds[:10]"
   ]
  },
  {
   "cell_type": "code",
   "execution_count": null,
   "metadata": {
    "collapsed": true
   },
   "outputs": [],
   "source": [
    "y_test[:10]"
   ]
  },
  {
   "cell_type": "code",
   "execution_count": 27,
   "metadata": {},
   "outputs": [
    {
     "data": {
      "text/plain": [
       "['/dev/data/vec.pickle']"
      ]
     },
     "execution_count": 27,
     "metadata": {},
     "output_type": "execute_result"
    }
   ],
   "source": [
    "from sklearn.externals import joblib\n",
    "joblib.dump(vectorizer,\"/dev/data/vec.pickle\")"
   ]
  },
  {
   "cell_type": "code",
   "execution_count": 58,
   "metadata": {},
   "outputs": [
    {
     "data": {
      "text/plain": [
       "['/dev/data/nb_author.pickle']"
      ]
     },
     "execution_count": 58,
     "metadata": {},
     "output_type": "execute_result"
    }
   ],
   "source": [
    "joblib.dump(nb,\"/dev/data/nb_author.pickle\")"
   ]
  },
  {
   "cell_type": "code",
   "execution_count": 29,
   "metadata": {},
   "outputs": [
    {
     "data": {
      "text/plain": [
       "array(['James Fenimore Cooper___The Chainbearer',\n",
       "       'George Alfred Henty___Held Fast For England',\n",
       "       'Mark Twain___Tom Sawyer Abroad',\n",
       "       'James Fenimore Cooper___The Deerslayer',\n",
       "       \"Robert Louis Stevenson___A Child's Garden of Verses, Verse 130\",\n",
       "       'Rudyard Kipling___Letters of Travel (1892-1913)',\n",
       "       'Edgar Rice Burroughs___The People that Time Forgot',\n",
       "       'George Alfred Henty___Through Russian Snows',\n",
       "       'Bret Harte___Clarence', 'Andrew Lang___Adventures among Books'], \n",
       "      dtype='<U176')"
      ]
     },
     "execution_count": 29,
     "metadata": {},
     "output_type": "execute_result"
    }
   ],
   "source": [
    "y_train[:10]"
   ]
  },
  {
   "cell_type": "code",
   "execution_count": 30,
   "metadata": {
    "collapsed": true
   },
   "outputs": [],
   "source": [
    "y_train_authors = [y.split(\"__\")[0] for y in y_train]"
   ]
  },
  {
   "cell_type": "code",
   "execution_count": 31,
   "metadata": {
    "collapsed": true
   },
   "outputs": [],
   "source": [
    "y_test_authors = [y.split(\"__\")[0] for y in y_test]"
   ]
  },
  {
   "cell_type": "code",
   "execution_count": 40,
   "metadata": {},
   "outputs": [
    {
     "name": "stdout",
     "output_type": "stream",
     "text": [
      "CPU times: user 1min 18s, sys: 668 ms, total: 1min 19s\n",
      "Wall time: 1min 19s\n"
     ]
    }
   ],
   "source": [
    "%%time\n",
    "nb = MultinomialNB(alpha=0.00001, fit_prior=False)\n",
    "nb.fit(X_train, y_train_authors)"
   ]
  },
  {
   "cell_type": "code",
   "execution_count": 41,
   "metadata": {},
   "outputs": [
    {
     "name": "stdout",
     "output_type": "stream",
     "text": [
      "0.60590217461\n",
      "CPU times: user 1min 18s, sys: 856 ms, total: 1min 19s\n",
      "Wall time: 1min 19s\n"
     ]
    }
   ],
   "source": [
    "%%time\n",
    "from sklearn.metrics import accuracy_score\n",
    "preds = nb.predict(X_test)\n",
    "print(accuracy_score(y_test_authors, preds))"
   ]
  },
  {
   "cell_type": "code",
   "execution_count": 42,
   "metadata": {
    "collapsed": true
   },
   "outputs": [],
   "source": [
    "probs = nb.predict_proba(X_test[:100])"
   ]
  },
  {
   "cell_type": "code",
   "execution_count": 43,
   "metadata": {},
   "outputs": [
    {
     "data": {
      "text/plain": [
       "array([[  4.97274144e-03,   4.90674204e-04,   8.62198136e-06, ...,\n",
       "          2.45726009e-04,   1.19921565e-02,   2.81849550e-03],\n",
       "       [  7.36012931e-03,   1.65195559e-04,   8.00881342e-06, ...,\n",
       "          2.31234700e-04,   1.01864427e-03,   2.11504229e-03],\n",
       "       [  1.73113690e-12,   4.75216414e-14,   1.53592070e-15, ...,\n",
       "          3.54175881e-13,   1.05191271e-15,   8.65668152e-11],\n",
       "       ..., \n",
       "       [  1.90269805e-08,   4.50320873e-10,   5.93732120e-12, ...,\n",
       "          2.75332980e-11,   1.45413891e-10,   9.98293174e-10],\n",
       "       [  5.15162188e-04,   1.07883640e-03,   2.39489975e-08, ...,\n",
       "          9.38622484e-04,   9.19465945e-03,   2.29554923e-03],\n",
       "       [  6.44355436e-04,   3.41505664e-03,   9.04901957e-08, ...,\n",
       "          2.25966051e-03,   1.61112192e-02,   1.85214379e-02]])"
      ]
     },
     "execution_count": 43,
     "metadata": {},
     "output_type": "execute_result"
    }
   ],
   "source": [
    "probs"
   ]
  },
  {
   "cell_type": "code",
   "execution_count": 44,
   "metadata": {},
   "outputs": [
    {
     "data": {
      "text/plain": [
       "(142,)"
      ]
     },
     "execution_count": 44,
     "metadata": {},
     "output_type": "execute_result"
    }
   ],
   "source": [
    "probs[0].shape"
   ]
  },
  {
   "cell_type": "code",
   "execution_count": 46,
   "metadata": {},
   "outputs": [
    {
     "data": {
      "text/plain": [
       "142"
      ]
     },
     "execution_count": 46,
     "metadata": {},
     "output_type": "execute_result"
    }
   ],
   "source": [
    "len(set(y_test_authors))"
   ]
  },
  {
   "cell_type": "code",
   "execution_count": 57,
   "metadata": {},
   "outputs": [
    {
     "data": {
      "text/plain": [
       "0.14869105294563928"
      ]
     },
     "execution_count": 57,
     "metadata": {},
     "output_type": "execute_result"
    }
   ],
   "source": []
  },
  {
   "cell_type": "code",
   "execution_count": null,
   "metadata": {
    "collapsed": true
   },
   "outputs": [],
   "source": []
  }
 ],
 "metadata": {
  "kernelspec": {
   "display_name": "Python 3",
   "language": "python",
   "name": "python3"
  },
  "language_info": {
   "codemirror_mode": {
    "name": "ipython",
    "version": 3
   },
   "file_extension": ".py",
   "mimetype": "text/x-python",
   "name": "python",
   "nbconvert_exporter": "python",
   "pygments_lexer": "ipython3",
   "version": "3.5.1"
  }
 },
 "nbformat": 4,
 "nbformat_minor": 2
}
