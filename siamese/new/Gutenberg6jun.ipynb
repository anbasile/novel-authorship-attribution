{
 "cells": [
  {
   "cell_type": "code",
   "execution_count": 154,
   "metadata": {
    "collapsed": true
   },
   "outputs": [],
   "source": [
    "import os\n",
    "\n",
    "data_dir = \"gut/\"\n",
    "\n",
    "files = os.listdir(data_dir)\n",
    "files = [x for x in files if x.endswith(\".txt\") and \"__\" in x]"
   ]
  },
  {
   "cell_type": "code",
   "execution_count": 186,
   "metadata": {
    "collapsed": true
   },
   "outputs": [],
   "source": [
    "texts = []\n",
    "labels = []\n",
    "\n",
    "for fn in files:\n",
    "    with open(os.path.join(data_dir, fn), encoding=\"ISO-8859-1\") as f:\n",
    "        s = f.read()\n",
    "    texts.append(s[1000:])\n",
    "    labels.append(fn[:-4])"
   ]
  },
  {
   "cell_type": "code",
   "execution_count": 187,
   "metadata": {
    "collapsed": true
   },
   "outputs": [],
   "source": [
    "shortest = sorted([(len(text), i) for i, text in enumerate(texts)])[:36]"
   ]
  },
  {
   "cell_type": "code",
   "execution_count": 188,
   "metadata": {
    "collapsed": true
   },
   "outputs": [],
   "source": [
    "shortest_is = set([s[1] for s in shortest])"
   ]
  },
  {
   "cell_type": "code",
   "execution_count": 189,
   "metadata": {
    "collapsed": true
   },
   "outputs": [],
   "source": [
    "texts = [x for i, x in enumerate(texts) if i not in shortest_is]\n",
    "labels = [x for i, x in enumerate(labels) if i not in shortest_is]"
   ]
  },
  {
   "cell_type": "code",
   "execution_count": 190,
   "metadata": {},
   "outputs": [
    {
     "data": {
      "text/plain": [
       "3000"
      ]
     },
     "execution_count": 190,
     "metadata": {},
     "output_type": "execute_result"
    }
   ],
   "source": [
    "len(texts)"
   ]
  },
  {
   "cell_type": "code",
   "execution_count": 191,
   "metadata": {
    "collapsed": true
   },
   "outputs": [],
   "source": [
    "def get_chunks(l, n):\n",
    "    n = max(1, n)\n",
    "    return (l[i:i+n] for i in range(0, len(l), n))"
   ]
  },
  {
   "cell_type": "code",
   "execution_count": 192,
   "metadata": {
    "collapsed": true
   },
   "outputs": [],
   "source": [
    "title_chunks = {}  ## 'A Nonamous': ['chunk 1', 'chunk 5', 'chunk 2']\n",
    "\n",
    "for i, text in enumerate(texts):\n",
    "    chunks = get_chunks(text, 1000)\n",
    "    num = 0\n",
    "    for chunk in chunks:\n",
    "        if num >= 50:\n",
    "            break\n",
    "        num += 1\n",
    "        if labels[i] in title_chunks:\n",
    "            title_chunks[labels[i]].append(chunk)\n",
    "        else:\n",
    "            title_chunks[labels[i]] = [chunk]\n",
    "        "
   ]
  },
  {
   "cell_type": "code",
   "execution_count": 193,
   "metadata": {},
   "outputs": [],
   "source": [
    "from random import randrange\n",
    "import random\n",
    "\n",
    "knowns = []\n",
    "unknowns = []\n",
    "\n",
    "for title in title_chunks:\n",
    "    author = title.split(\"__\")[0]\n",
    "    same_authors = [t for t in title_chunks.keys() if author == t.split(\"__\")[0] and t != title]\n",
    "    diff_authors = [t for t in title_chunks.keys() if author != t.split(\"__\")[0]]\n",
    "\n",
    "    for chunk in title_chunks[title]:\n",
    "        # try add a random chunk from a different title by the same author\n",
    "        if len(same_authors) > 0:\n",
    "            same_author = same_authors[random.randrange(len(same_authors))]\n",
    "        # otherwise just add another chunk from this title\n",
    "        else:\n",
    "            same_author = title\n",
    "        \n",
    "        # same author text \n",
    "        sat = title_chunks[same_author][random.randrange(len(title_chunks[same_author]))]\n",
    "        \n",
    "        # different author text\n",
    "        diff_author = diff_authors[random.randrange(len(diff_authors))]\n",
    "        dat = title_chunks[diff_author][random.randrange(len(title_chunks[diff_author]))]\n",
    "        \n",
    "        knowns.append(chunk)\n",
    "        knowns.append(chunk)\n",
    "        unknowns.append(sat)\n",
    "        unknowns.append(dat)"
   ]
  },
  {
   "cell_type": "code",
   "execution_count": 194,
   "metadata": {},
   "outputs": [
    {
     "name": "stdout",
     "output_type": "stream",
     "text": [
      "285448\n"
     ]
    }
   ],
   "source": [
    "print(len(knowns))\n",
    "\n",
    "labels = [1,0] * int(len(knowns) / 2)"
   ]
  },
  {
   "cell_type": "code",
   "execution_count": 195,
   "metadata": {},
   "outputs": [
    {
     "data": {
      "text/plain": [
       "'s Ginger, patting \\'im on the\\nweskit to make sure the locket was still there.  \"It\\'s a good job you\\'ve\\ngot us to look arter you.\"\\n\\n\"We must buy \\'im a money-belt with a pocket in it,\" ses Peter.\\n\\nGinger nodded at \\'im.  \"Yes,\" he ses, \"that would be safer.  And he\\'d\\nbetter wear it next to \\'is skin, with everything over it.  I should feel\\nmore comfortable then.\"\\n\\n\"And wot about me?\" says Sam, turning on \\'im.\\n\\n\"Well, we\\'ll take it in turns,\" ses Ginger.  \"You one day, and then me,\\nand then Peter.\"\\n\\nSam gave way at last, as arter all he could see it was the safest thing\\nto do, but he \\'ad so much to say about it that they got fair sick of the\\nsound of \\'is voice.  They \\'ad to go \\'ome for \\'im to put the belt on; and\\nthen at seven o\\'clock in the evening, arter Sam had \\'ad two or three\\npints, they had to go \\'ome agin, \\'cos he was complaining of tight-lacing.\\n\\nGinger had it on next day and he went \\'ome five times.  The other two\\nwent with \\'im in case he lost \\'imself, and stood there making nasty\\nr'"
      ]
     },
     "execution_count": 195,
     "metadata": {},
     "output_type": "execute_result"
    }
   ],
   "source": [
    "unknowns[0]"
   ]
  },
  {
   "cell_type": "code",
   "execution_count": 196,
   "metadata": {
    "collapsed": true
   },
   "outputs": [],
   "source": [
    "import numpy as np\n",
    "from random import shuffle\n",
    "\n",
    "indices = list(range(len(knowns)))\n",
    "shuffle(indices)"
   ]
  },
  {
   "cell_type": "code",
   "execution_count": 197,
   "metadata": {
    "collapsed": true
   },
   "outputs": [],
   "source": [
    "knowns = np.array(knowns)\n",
    "unknowns = np.array(unknowns)\n",
    "labels = np.array(labels)"
   ]
  },
  {
   "cell_type": "code",
   "execution_count": 198,
   "metadata": {
    "collapsed": true
   },
   "outputs": [],
   "source": [
    "knowns = knowns[indices]\n",
    "unknowns = unknowns[indices]\n",
    "labels = labels[indices]"
   ]
  },
  {
   "cell_type": "code",
   "execution_count": 199,
   "metadata": {
    "collapsed": true
   },
   "outputs": [],
   "source": [
    "from sklearn.feature_extraction.text import TfidfVectorizer"
   ]
  },
  {
   "cell_type": "code",
   "execution_count": 209,
   "metadata": {},
   "outputs": [
    {
     "name": "stdout",
     "output_type": "stream",
     "text": [
      "CPU times: user 2min 22s, sys: 484 ms, total: 2min 22s\n",
      "Wall time: 2min 22s\n"
     ]
    }
   ],
   "source": [
    "%%time\n",
    "vectorizer = TfidfVectorizer(min_df=3, ngram_range=(1,2), lowercase=False)\n",
    "\n",
    "vectorizer.fit(knowns)"
   ]
  },
  {
   "cell_type": "code",
   "execution_count": 210,
   "metadata": {},
   "outputs": [
    {
     "name": "stdout",
     "output_type": "stream",
     "text": [
      "CPU times: user 2min 3s, sys: 12 ms, total: 2min 3s\n",
      "Wall time: 2min 3s\n"
     ]
    }
   ],
   "source": [
    "%%time\n",
    "known_vecs = vectorizer.transform(knowns)"
   ]
  },
  {
   "cell_type": "code",
   "execution_count": 211,
   "metadata": {},
   "outputs": [
    {
     "name": "stdout",
     "output_type": "stream",
     "text": [
      "CPU times: user 2min 3s, sys: 12 ms, total: 2min 3s\n",
      "Wall time: 2min 3s\n"
     ]
    }
   ],
   "source": [
    "%%time\n",
    "unknown_vecs = vectorizer.transform(unknowns)"
   ]
  },
  {
   "cell_type": "code",
   "execution_count": 212,
   "metadata": {
    "collapsed": true
   },
   "outputs": [],
   "source": [
    "diffs = np.abs(known_vecs - unknown_vecs)"
   ]
  },
  {
   "cell_type": "code",
   "execution_count": 213,
   "metadata": {},
   "outputs": [
    {
     "data": {
      "text/plain": [
       "array([1, 1, 0, 1, 0, 0, 1, 1, 1, 0])"
      ]
     },
     "execution_count": 213,
     "metadata": {},
     "output_type": "execute_result"
    }
   ],
   "source": [
    "labels[:10]"
   ]
  },
  {
   "cell_type": "code",
   "execution_count": 217,
   "metadata": {
    "collapsed": true
   },
   "outputs": [],
   "source": [
    "from sklearn.naive_bayes import MultinomialNB\n",
    "from sklearn.model_selection import train_test_split\n",
    "from sklearn.svm import SVC, LinearSVC\n",
    "\n",
    "nb = MultinomialNB(fit_prior=False, alpha=0.001)\n",
    "svm = LinearSVC()\n",
    "\n",
    "X_train, X_test, y_train, y_test = train_test_split(diffs, labels, test_size=0.5)"
   ]
  },
  {
   "cell_type": "code",
   "execution_count": 218,
   "metadata": {},
   "outputs": [
    {
     "name": "stdout",
     "output_type": "stream",
     "text": [
      "CPU times: user 27.1 s, sys: 0 ns, total: 27.1 s\n",
      "Wall time: 27.1 s\n"
     ]
    },
    {
     "data": {
      "text/plain": [
       "LinearSVC(C=1.0, class_weight=None, dual=True, fit_intercept=True,\n",
       "     intercept_scaling=1, loss='squared_hinge', max_iter=1000,\n",
       "     multi_class='ovr', penalty='l2', random_state=None, tol=0.0001,\n",
       "     verbose=0)"
      ]
     },
     "execution_count": 218,
     "metadata": {},
     "output_type": "execute_result"
    }
   ],
   "source": [
    "%%time\n",
    "svm.fit(X_train, y_train)"
   ]
  },
  {
   "cell_type": "code",
   "execution_count": 219,
   "metadata": {},
   "outputs": [
    {
     "name": "stdout",
     "output_type": "stream",
     "text": [
      "0.442020963538\n",
      "CPU times: user 368 ms, sys: 0 ns, total: 368 ms\n",
      "Wall time: 368 ms\n"
     ]
    }
   ],
   "source": [
    "%%time\n",
    "from sklearn.metrics import accuracy_score\n",
    "preds = svm.predict(X_test)\n",
    "\n",
    "print(accuracy_score(y_test, preds))"
   ]
  },
  {
   "cell_type": "code",
   "execution_count": 208,
   "metadata": {},
   "outputs": [
    {
     "data": {
      "text/plain": [
       "Counter({0: 14285, 1: 14260})"
      ]
     },
     "execution_count": 208,
     "metadata": {},
     "output_type": "execute_result"
    }
   ],
   "source": [
    "Counter(preds)"
   ]
  },
  {
   "cell_type": "code",
   "execution_count": null,
   "metadata": {
    "collapsed": true
   },
   "outputs": [],
   "source": [
    "preds[:10]"
   ]
  },
  {
   "cell_type": "code",
   "execution_count": null,
   "metadata": {
    "collapsed": true
   },
   "outputs": [],
   "source": [
    "y_test[:10]"
   ]
  },
  {
   "cell_type": "code",
   "execution_count": 27,
   "metadata": {},
   "outputs": [
    {
     "data": {
      "text/plain": [
       "['/dev/data/vec.pickle']"
      ]
     },
     "execution_count": 27,
     "metadata": {},
     "output_type": "execute_result"
    }
   ],
   "source": [
    "from sklearn.externals import joblib\n",
    "joblib.dump(vectorizer,\"/dev/data/vec.pickle\")"
   ]
  },
  {
   "cell_type": "code",
   "execution_count": 58,
   "metadata": {},
   "outputs": [
    {
     "data": {
      "text/plain": [
       "['/dev/data/nb_author.pickle']"
      ]
     },
     "execution_count": 58,
     "metadata": {},
     "output_type": "execute_result"
    }
   ],
   "source": [
    "joblib.dump(nb,\"/dev/data/nb_author.pickle\")"
   ]
  },
  {
   "cell_type": "code",
   "execution_count": 29,
   "metadata": {},
   "outputs": [
    {
     "data": {
      "text/plain": [
       "array(['James Fenimore Cooper___The Chainbearer',\n",
       "       'George Alfred Henty___Held Fast For England',\n",
       "       'Mark Twain___Tom Sawyer Abroad',\n",
       "       'James Fenimore Cooper___The Deerslayer',\n",
       "       \"Robert Louis Stevenson___A Child's Garden of Verses, Verse 130\",\n",
       "       'Rudyard Kipling___Letters of Travel (1892-1913)',\n",
       "       'Edgar Rice Burroughs___The People that Time Forgot',\n",
       "       'George Alfred Henty___Through Russian Snows',\n",
       "       'Bret Harte___Clarence', 'Andrew Lang___Adventures among Books'], \n",
       "      dtype='<U176')"
      ]
     },
     "execution_count": 29,
     "metadata": {},
     "output_type": "execute_result"
    }
   ],
   "source": [
    "y_train[:10]"
   ]
  },
  {
   "cell_type": "code",
   "execution_count": 30,
   "metadata": {
    "collapsed": true
   },
   "outputs": [],
   "source": [
    "y_train_authors = [y.split(\"__\")[0] for y in y_train]"
   ]
  },
  {
   "cell_type": "code",
   "execution_count": 31,
   "metadata": {
    "collapsed": true
   },
   "outputs": [],
   "source": [
    "y_test_authors = [y.split(\"__\")[0] for y in y_test]"
   ]
  },
  {
   "cell_type": "code",
   "execution_count": 40,
   "metadata": {},
   "outputs": [
    {
     "name": "stdout",
     "output_type": "stream",
     "text": [
      "CPU times: user 1min 18s, sys: 668 ms, total: 1min 19s\n",
      "Wall time: 1min 19s\n"
     ]
    }
   ],
   "source": [
    "%%time\n",
    "nb = MultinomialNB(alpha=0.00001, fit_prior=False)\n",
    "nb.fit(X_train, y_train_authors)"
   ]
  },
  {
   "cell_type": "code",
   "execution_count": 41,
   "metadata": {},
   "outputs": [
    {
     "name": "stdout",
     "output_type": "stream",
     "text": [
      "0.60590217461\n",
      "CPU times: user 1min 18s, sys: 856 ms, total: 1min 19s\n",
      "Wall time: 1min 19s\n"
     ]
    }
   ],
   "source": [
    "%%time\n",
    "from sklearn.metrics import accuracy_score\n",
    "preds = nb.predict(X_test)\n",
    "print(accuracy_score(y_test_authors, preds))"
   ]
  },
  {
   "cell_type": "code",
   "execution_count": 42,
   "metadata": {
    "collapsed": true
   },
   "outputs": [],
   "source": [
    "probs = nb.predict_proba(X_test[:100])"
   ]
  },
  {
   "cell_type": "code",
   "execution_count": 43,
   "metadata": {},
   "outputs": [
    {
     "data": {
      "text/plain": [
       "array([[  4.97274144e-03,   4.90674204e-04,   8.62198136e-06, ...,\n",
       "          2.45726009e-04,   1.19921565e-02,   2.81849550e-03],\n",
       "       [  7.36012931e-03,   1.65195559e-04,   8.00881342e-06, ...,\n",
       "          2.31234700e-04,   1.01864427e-03,   2.11504229e-03],\n",
       "       [  1.73113690e-12,   4.75216414e-14,   1.53592070e-15, ...,\n",
       "          3.54175881e-13,   1.05191271e-15,   8.65668152e-11],\n",
       "       ..., \n",
       "       [  1.90269805e-08,   4.50320873e-10,   5.93732120e-12, ...,\n",
       "          2.75332980e-11,   1.45413891e-10,   9.98293174e-10],\n",
       "       [  5.15162188e-04,   1.07883640e-03,   2.39489975e-08, ...,\n",
       "          9.38622484e-04,   9.19465945e-03,   2.29554923e-03],\n",
       "       [  6.44355436e-04,   3.41505664e-03,   9.04901957e-08, ...,\n",
       "          2.25966051e-03,   1.61112192e-02,   1.85214379e-02]])"
      ]
     },
     "execution_count": 43,
     "metadata": {},
     "output_type": "execute_result"
    }
   ],
   "source": [
    "probs"
   ]
  },
  {
   "cell_type": "code",
   "execution_count": 44,
   "metadata": {},
   "outputs": [
    {
     "data": {
      "text/plain": [
       "(142,)"
      ]
     },
     "execution_count": 44,
     "metadata": {},
     "output_type": "execute_result"
    }
   ],
   "source": [
    "probs[0].shape"
   ]
  },
  {
   "cell_type": "code",
   "execution_count": 46,
   "metadata": {},
   "outputs": [
    {
     "data": {
      "text/plain": [
       "142"
      ]
     },
     "execution_count": 46,
     "metadata": {},
     "output_type": "execute_result"
    }
   ],
   "source": [
    "len(set(y_test_authors))"
   ]
  },
  {
   "cell_type": "code",
   "execution_count": 57,
   "metadata": {},
   "outputs": [
    {
     "data": {
      "text/plain": [
       "0.14869105294563928"
      ]
     },
     "execution_count": 57,
     "metadata": {},
     "output_type": "execute_result"
    }
   ],
   "source": []
  },
  {
   "cell_type": "markdown",
   "metadata": {
    "collapsed": true
   },
   "source": [
    "merchant_id=10004979&merchant_key=n8n01mtnbmxol&amount=3945item_name=TestName&subscription_type=1&billing_date=2017-07-25&recurring_amount=3945&frequency=3&cycles=0"
   ]
  },
  {
   "cell_type": "code",
   "execution_count": null,
   "metadata": {
    "collapsed": true
   },
   "outputs": [],
   "source": [
    "https://sandbox.payfast.co.za/eng/process?merchant_id=10004979&merchant_key=n8n01mtnbmxol&return_url=http%3A//devel.hyperiondev.com/course_payment_success/4362/59f132642a7196d6be5de1363ea6d0487c5e2086f91b9295feb6db77a712e7fb/&cancel_url=http%3A//devel.hyperiondev.com/portal/cpp_prog_essentials/&notify_url=http%3A//devel.hyperiondev.com/course_payment_notify_req/4362/59f132642a7196d6be5de1363ea6d0487c5e2086f91b9295feb6db77a712e7fb/&amount=3945&item_name=MD%20Recurring%20Billing:%20C++%20Programming%20Essentials&item_description=MicroDegree%20Recurring%20Billing%20&subscription_type=1&billing_date=2017-07-25&recurring_amount=3945&frequency=3&cycles=0"
   ]
  }
 ],
 "metadata": {
  "kernelspec": {
   "display_name": "Python 3",
   "language": "python",
   "name": "python3"
  },
  "language_info": {
   "codemirror_mode": {
    "name": "ipython",
    "version": 3
   },
   "file_extension": ".py",
   "mimetype": "text/x-python",
   "name": "python",
   "nbconvert_exporter": "python",
   "pygments_lexer": "ipython3",
   "version": "3.5.2"
  }
 },
 "nbformat": 4,
 "nbformat_minor": 2
}
