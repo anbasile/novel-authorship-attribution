{
 "cells": [
  {
   "cell_type": "code",
   "execution_count": 670,
   "metadata": {
    "collapsed": true,
    "deletable": true,
    "editable": true
   },
   "outputs": [],
   "source": [
    "# Helper functions for preprocessing raw text before feeding it into a Neural Net\n",
    "import string\n",
    "import numpy as np\n",
    "from sklearn.feature_extraction.text import TfidfVectorizer\n",
    "from sklearn.pipeline import FeatureUnion"
   ]
  },
  {
   "cell_type": "code",
   "execution_count": 671,
   "metadata": {
    "collapsed": false,
    "deletable": true,
    "editable": true
   },
   "outputs": [],
   "source": [
    "import os\n",
    "\n",
    "class TextPair:\n",
    "    def __init__(self, author, known, unknown, max_length=1200):\n",
    "        self.author = author\n",
    "        self.known = known\n",
    "        self.unknown = unknown\n",
    "        self.max_length = max_length\n",
    "\n",
    "def get_string(filename):\n",
    "    with open(filename, encoding=\"utf8\") as f:\n",
    "        s = f.read()\n",
    "    return s\n",
    "\n",
    "def get_texts(directory):\n",
    "    authors = [x for x in os.listdir(directory) if x.startswith(\"E\")]\n",
    "    tps = []\n",
    "    for author in authors:\n",
    "        known = os.path.join(directory, author, \"known01.txt\")\n",
    "        unknown = os.path.join(directory, author, \"unknown.txt\")\n",
    "        tps.append(TextPair(author, get_string(known), get_string(unknown)))\n",
    "    return tps\n",
    "\n",
    "def get_data(directory):\n",
    "    \n",
    "    # read all texts into known, unknown pairs\n",
    "    tps = get_texts(directory)\n",
    "    \n",
    "    # get labels\n",
    "    truthfile = os.path.join(directory, \"truth.txt\")\n",
    "    with open(truthfile) as f:\n",
    "        lines = f.read().strip().split(\"\\n\")\n",
    "    y = [1 if line.split()[1] == \"Y\" else 0 for line in lines]\n",
    "    y = np.array(y)\n",
    "    return tps, y"
   ]
  },
  {
   "cell_type": "code",
   "execution_count": null,
   "metadata": {
    "collapsed": true
   },
   "outputs": [],
   "source": [
    "pan15train = \"/data/pan15-authorship-verification-training-dataset-english-2015-04-19/\"\n",
    "pan15test = \"/data/pan15-authorship-verification-test-dataset2-english-2015-04-19/\"\n",
    "# pan15train = \"/data/emails-train/\"\n",
    "# pan15test = \"/data/emails-test/\"\n",
    "\n",
    "pan14train = \"/data/pan14-author-verification-training-corpus-english-essays-2014-04-22/\"\n",
    "pan14test = \"/data/pan14-author-verification-test-corpus2-english-essays-2014-04-22/\"\n",
    "\n",
    "# pan14train = \"/data/pan14-author-verification-training-corpus-english-novels-2014-04-22/\"\n",
    "# pan14test = \"/data/pan14-author-verification-test-corpus2-english-novels-2014-04-22/\"\n",
    "\n",
    "\n",
    "te_pairs, te_y = get_data(pan15test)\n",
    "tr_pairs, tr_y = get_data(pan15train)\n",
    "\n",
    "char_tf = TfidfVectorizer(analyzer='char', ngram_range=(2,4), min_df=0.3)\n",
    "word_tf = TfidfVectorizer(ngram_range=(1,2), min_df=0.05)\n",
    "vec = FeatureUnion([\n",
    "    ('char', char_tf),\n",
    "    ('word', word_tf)\n",
    "])\n",
    "vec.fit([tp.known for tp in te_pairs] + [tp.unknown for tp in te_pairs] +\n",
    "         [tp.known for tp in tr_pairs] + [tp.unknown for tp in tr_pairs])\n",
    "\n"
   ]
  },
  {
   "cell_type": "code",
   "execution_count": 672,
   "metadata": {
    "collapsed": false,
    "deletable": true,
    "editable": true
   },
   "outputs": [],
   "source": [
    "def normalize(text, target_length=1200):\n",
    "    if len(text) > target_length:\n",
    "        return text[:target_length]\n",
    "    else:\n",
    "        return text + (\"$\" * (target_length - len(text)))\n",
    "\n",
    "def vectorize(texts, vec, target_length=1200):\n",
    "    # texts = [normalize(text) for text in texts]\n",
    "    return vec.transform(texts)\n",
    "\n",
    "def create_pairs(knownX, unknownX):\n",
    "    pairs = []\n",
    "    for i in range(knownX.shape[0]):\n",
    "        pairs += [[knownX[i], unknownX[i]]]\n",
    "    pairs = np.array(pairs)\n",
    "    print(pairs.shape)\n",
    "    return pairs    "
   ]
  },
  {
   "cell_type": "code",
   "execution_count": 602,
   "metadata": {
    "collapsed": false,
    "deletable": true,
    "editable": true
   },
   "outputs": [],
   "source": [
    "train_known_X = vectorize([tp.known for tp in tr_pairs], vec)\n",
    "train_unknown_X = vectorize([tp.unknown for tp in tr_pairs], vec)"
   ]
  },
  {
   "cell_type": "code",
   "execution_count": 603,
   "metadata": {
    "collapsed": false,
    "deletable": true,
    "editable": true
   },
   "outputs": [],
   "source": [
    "test_known_X = vectorize([tp.known for tp in te_pairs], vec)\n",
    "test_unknown_X = vectorize([tp.unknown for tp in te_pairs], vec)"
   ]
  },
  {
   "cell_type": "code",
   "execution_count": 604,
   "metadata": {
    "collapsed": false
   },
   "outputs": [],
   "source": [
    "train_known_X = train_known_X.todense()\n",
    "train_unknown_X = train_unknown_X.todense()\n",
    "test_known_X = test_known_X.todense()\n",
    "test_unknown_X = test_unknown_X.todense()"
   ]
  },
  {
   "cell_type": "code",
   "execution_count": 674,
   "metadata": {
    "collapsed": false,
    "deletable": true,
    "editable": true
   },
   "outputs": [],
   "source": [
    "def create_vectorized_pairs(knowntexts, unknowntexts, vec):\n",
    "    known_X = vectorize([text for text in knowntexts], vec).todense()\n",
    "    unknown_X = vectorize([text for text in unknowntexts], vec).todense()\n",
    "    pairs = create_pairs(known_X, unknown_X)\n",
    "    pairs = pairs.squeeze()\n",
    "    print(pairs.shape)\n",
    "    return pairs"
   ]
  },
  {
   "cell_type": "code",
   "execution_count": 606,
   "metadata": {
    "collapsed": false,
    "deletable": true,
    "editable": true
   },
   "outputs": [
    {
     "name": "stdout",
     "output_type": "stream",
     "text": [
      "(100, 2, 1, 4187)\n",
      "(500, 2, 1, 4187)\n"
     ]
    }
   ],
   "source": [
    "tr_pairs = create_pairs(train_known_X, train_unknown_X)\n",
    "te_pairs = create_pairs(test_known_X, test_unknown_X)"
   ]
  },
  {
   "cell_type": "code",
   "execution_count": 607,
   "metadata": {
    "collapsed": false,
    "deletable": true,
    "editable": true
   },
   "outputs": [],
   "source": [
    "tr_pairs = tr_pairs.squeeze()\n",
    "te_pairs = te_pairs.squeeze()"
   ]
  },
  {
   "cell_type": "code",
   "execution_count": 608,
   "metadata": {
    "collapsed": false,
    "deletable": true,
    "editable": true
   },
   "outputs": [
    {
     "data": {
      "text/plain": [
       "(100, 2, 4187)"
      ]
     },
     "execution_count": 608,
     "metadata": {},
     "output_type": "execute_result"
    }
   ],
   "source": [
    "tr_pairs.shape"
   ]
  },
  {
   "cell_type": "code",
   "execution_count": 669,
   "metadata": {
    "collapsed": false,
    "deletable": true,
    "editable": true
   },
   "outputs": [],
   "source": [
    "from __future__ import absolute_import\n",
    "from __future__ import print_function\n",
    "import numpy as np\n",
    "np.random.seed(1337)  # for reproducibility\n",
    "\n",
    "import random\n",
    "from keras.datasets import mnist\n",
    "from keras.models import Sequential, Model\n",
    "from keras.layers import Dense, Dropout, Input, Lambda\n",
    "from keras.optimizers import RMSprop\n",
    "from keras import backend as K\n",
    "\n",
    "\n",
    "def euclidean_distance(vects):\n",
    "    x, y = vects\n",
    "    return K.sqrt(K.sum(K.square(x - y), axis=1, keepdims=True))\n",
    "\n",
    "\n",
    "def eucl_dist_output_shape(shapes):\n",
    "    shape1, shape2 = shapes\n",
    "    return (shape1[0], 1)\n",
    "\n",
    "\n",
    "def contrastive_loss(y_true, y_pred):\n",
    "    '''Contrastive loss from Hadsell-et-al.'06\n",
    "    http://yann.lecun.com/exdb/publis/pdf/hadsell-chopra-lecun-06.pdf\n",
    "    '''\n",
    "    margin = 1\n",
    "    return K.mean(y_true * K.square(y_pred) + (1 - y_true) * K.square(K.maximum(margin - y_pred, 0)))\n",
    "\n",
    "def create_base_network(input_dim):\n",
    "    '''Base network to be shared (eq. to feature extraction).\n",
    "    '''\n",
    "    seq = Sequential()\n",
    "    seq.add(Dense(256, input_shape=(input_dim,), activation='relu'))\n",
    "    seq.add(Dense(256, activation='relu'))      \n",
    "    seq.add(Dense(256, activation='relu'))\n",
    "    seq.add(Dense(256, activation='relu'))\n",
    "    seq.add(Dense(256, activation='relu'))\n",
    "    return seq\n",
    "\n",
    "\n",
    "def compute_accuracy(predictions, labels):\n",
    "    return np.mean(np.equal(predictions.ravel() < 0.5, labels))"
   ]
  },
  {
   "cell_type": "code",
   "execution_count": 647,
   "metadata": {
    "collapsed": false,
    "deletable": true,
    "editable": true
   },
   "outputs": [],
   "source": [
    "input_dim = tr_pairs.shape[-1]\n",
    "\n",
    "# network definition\n",
    "base_network = create_base_network(input_dim)\n",
    "\n",
    "input_a = Input(shape=(input_dim,))\n",
    "input_b = Input(shape=(input_dim,))\n",
    "\n",
    "# because we re-use the same instance `base_network`,\n",
    "# the weights of the network\n",
    "# will be shared across the two branches\n",
    "processed_a = base_network(input_a)\n",
    "processed_b = base_network(input_b)\n",
    "\n",
    "distance = Lambda(euclidean_distance, output_shape=eucl_dist_output_shape)([processed_a, processed_b])\n",
    "\n",
    "model = Model(inputs=[input_a, input_b], outputs=distance)"
   ]
  },
  {
   "cell_type": "code",
   "execution_count": 648,
   "metadata": {
    "collapsed": false,
    "deletable": true,
    "editable": true
   },
   "outputs": [
    {
     "name": "stdout",
     "output_type": "stream",
     "text": [
      "Train on 99 samples, validate on 1 samples\n",
      "Epoch 1/20\n",
      "99/99 [==============================] - 2s - loss: 0.2494 - val_loss: 0.0995\b\b\b\b\b\b\b\b\b\b\b\b\b\b\b\b\b\b\b\b\b\b\b\b\b\b\b\b\b\b\b\b\b\b\b\b\b\b\b\b\b\b\b\b\b\b\b\b\b\b\b\b\b\b\b\b\b\b\b\b\b\b\b\b\b\b\b\b\b\b\b\b\b\b\b\b\b\b\b\b\b\b\b\b\b\b\b\b\b\b\b\b\b\b\b\b\b\b\b\b\b\b\b\b\b\b\b\b\b\b\b\b\b\b\b\b\b\b\b\b\b\b\b\b\b\b\b\b\b\b\b\b\b\b\b\b\b\b\b\b\b\b\b\b\b\b\b\b\b\b\b\b\b\b\b\b\b\b\b\b\b\b\b\b\b\b\b\b\b\b\b\b\b\b\b\b\b\b\b\b\b\b\b\b\b\b\b\b\b\b\b\b\b\b\b\b\b\b\b\b\b\b\b\b\b\b\b\b\b\b\b\b\b\b\b\b\b\b\b\b\b\b\b\b\b\b\b\b\b\b\b\b\b\b\b\b\b\b\n",
      "Epoch 2/20\n",
      "99/99 [==============================] - 0s - loss: 0.1217 - val_loss: 0.0554\b\b\b\b\b\b\b\b\b\b\b\b\b\b\b\b\b\b\b\b\b\b\b\b\b\b\b\b\b\b\b\b\b\b\b\b\b\b\b\b\b\b\b\b\b\b\b\b\b\b\b\b\b\b\b\b\b\b\b\b\b\b\b\b\b\b\b\b\b\b\b\b\b\b\b\b\b\b\b\b\b\b\b\b\b\b\b\b\b\b\b\b\b\b\b\b\b\b\b\b\b\b\b\b\b\b\b\b\b\b\b\b\n",
      "Epoch 3/20\n",
      "99/99 [==============================] - 0s - loss: 0.0444 - val_loss: 0.0062\b\b\b\b\b\b\b\b\b\b\b\b\b\b\b\b\b\b\b\b\b\b\b\b\b\b\b\b\b\b\b\b\b\b\b\b\b\b\b\b\b\b\b\b\b\b\b\b\b\b\b\b\b\b\b\b\b\b\b\b\b\b\b\b\b\b\b\b\b\b\b\b\b\b\b\b\b\b\b\b\b\b\b\b\b\b\b\b\b\b\b\b\b\b\b\b\b\b\b\b\b\b\b\b\b\b\b\b\b\b\b\b\n",
      "Epoch 4/20\n",
      "99/99 [==============================] - 0s - loss: 0.0303 - val_loss: 0.0423\b\b\b\b\b\b\b\b\b\b\b\b\b\b\b\b\b\b\b\b\b\b\b\b\b\b\b\b\b\b\b\b\b\b\b\b\b\b\b\b\b\b\b\b\b\b\b\b\b\b\b\b\b\b\b\b\b\b\b\b\b\b\b\b\b\b\b\b\b\b\b\b\b\b\b\b\b\b\b\b\b\b\b\b\b\b\b\b\b\b\b\b\b\b\b\b\b\b\b\b\b\b\b\b\b\b\b\b\b\b\b\b\n",
      "Epoch 5/20\n",
      "99/99 [==============================] - 0s - loss: 0.0105 - val_loss: 0.0172\b\b\b\b\b\b\b\b\b\b\b\b\b\b\b\b\b\b\b\b\b\b\b\b\b\b\b\b\b\b\b\b\b\b\b\b\b\b\b\b\b\b\b\b\b\b\b\b\b\b\b\b\b\b\b\b\b\b\b\b\b\b\b\b\b\b\b\b\b\b\b\b\b\b\b\b\b\b\b\b\b\b\b\b\b\b\b\b\b\b\b\b\b\b\b\b\b\b\b\b\b\b\b\b\b\b\b\b\b\b\b\b\b\b\b\b\b\b\b\b\b\b\b\b\b\b\b\b\b\b\b\b\b\b\b\b\b\b\b\b\b\b\b\b\b\b\b\b\b\b\b\b\b\b\b\b\b\b\b\b\b\b\b\b\b\b\b\b\b\b\b\b\b\b\b\b\b\b\b\b\b\b\b\b\b\b\b\b\b\b\b\b\b\b\b\b\b\b\b\b\b\b\b\b\b\b\b\b\b\b\b\b\b\b\b\b\b\b\b\b\b\b\b\b\b\b\b\b\b\b\b\b\b\b\b\b\b\b\n",
      "Epoch 6/20\n",
      "99/99 [==============================] - 0s - loss: 0.0082 - val_loss: 0.0371\b\b\b\b\b\b\b\b\b\b\b\b\b\b\b\b\b\b\b\b\b\b\b\b\b\b\b\b\b\b\b\b\b\b\b\b\b\b\b\b\b\b\b\b\b\b\b\b\b\b\b\b\b\b\b\b\b\b\b\b\b\b\b\b\b\b\b\b\b\b\b\b\b\b\b\b\b\b\b\b\b\b\b\b\b\b\b\b\b\b\b\b\b\b\b\b\b\b\b\b\b\b\b\b\b\b\b\b\b\b\b\b\b\b\b\b\b\b\b\b\b\b\b\b\b\b\b\b\b\b\b\b\b\b\b\b\b\b\b\b\b\b\b\b\b\b\b\b\b\b\b\b\b\b\b\b\b\b\b\b\b\b\b\b\b\b\b\b\b\b\b\b\b\b\b\b\b\b\b\b\b\b\b\b\b\b\b\b\b\b\b\b\b\b\b\b\b\b\b\b\b\b\b\b\b\b\b\b\b\b\b\b\b\b\b\b\b\b\b\b\b\b\b\b\b\b\b\b\b\b\b\b\b\b\b\b\b\b\n",
      "Epoch 7/20\n",
      "99/99 [==============================] - 0s - loss: 0.0073 - val_loss: 0.0184\b\b\b\b\b\b\b\b\b\b\b\b\b\b\b\b\b\b\b\b\b\b\b\b\b\b\b\b\b\b\b\b\b\b\b\b\b\b\b\b\b\b\b\b\b\b\b\b\b\b\b\b\b\b\b\b\b\b\b\b\b\b\b\b\b\b\b\b\b\b\b\b\b\b\b\b\b\b\b\b\b\b\b\b\b\b\b\b\b\b\b\b\b\b\b\b\b\b\b\b\b\b\b\b\b\b\b\b\b\b\b\b\b\b\b\b\b\b\b\b\b\b\b\b\b\b\b\b\b\b\b\b\b\b\b\b\b\b\b\b\b\b\b\b\b\b\b\b\b\b\b\b\b\b\b\b\b\b\b\b\b\b\b\b\b\b\b\b\b\b\b\b\b\b\b\b\b\b\b\b\b\b\b\b\b\b\b\b\b\b\b\b\b\b\b\b\b\b\b\b\b\b\b\b\b\b\b\b\b\b\b\b\b\b\b\b\b\b\b\b\b\b\b\b\b\b\b\b\b\b\b\b\b\b\b\b\b\b\n",
      "Epoch 8/20\n",
      "99/99 [==============================] - 0s - loss: 0.0068 - val_loss: 0.0218\b\b\b\b\b\b\b\b\b\b\b\b\b\b\b\b\b\b\b\b\b\b\b\b\b\b\b\b\b\b\b\b\b\b\b\b\b\b\b\b\b\b\b\b\b\b\b\b\b\b\b\b\b\b\b\b\b\b\b\b\b\b\b\b\b\b\b\b\b\b\b\b\b\b\b\b\b\b\b\b\b\b\b\b\b\b\b\b\b\b\b\b\b\b\b\b\b\b\b\b\b\b\b\b\b\b\b\b\b\b\b\b\b\b\b\b\b\b\b\b\b\b\b\b\b\b\b\b\b\b\b\b\b\b\b\b\b\b\b\b\b\b\b\b\b\b\b\b\b\b\b\b\b\b\b\b\b\b\b\b\b\b\b\b\b\b\b\b\b\b\b\b\b\b\b\n",
      "Epoch 9/20\n",
      "99/99 [==============================] - 0s - loss: 0.0085 - val_loss: 0.0081\b\b\b\b\b\b\b\b\b\b\b\b\b\b\b\b\b\b\b\b\b\b\b\b\b\b\b\b\b\b\b\b\b\b\b\b\b\b\b\b\b\b\b\b\b\b\b\b\b\b\b\b\b\b\b\b\b\b\b\b\b\b\b\b\b\b\b\b\b\b\b\b\b\b\b\b\b\b\b\b\b\b\b\b\b\b\b\b\b\b\b\b\b\b\b\b\b\b\b\b\b\b\b\b\b\b\b\b\b\b\b\b\b\b\b\b\b\b\b\b\b\b\b\b\b\b\b\b\b\b\b\b\b\b\b\b\b\b\b\b\b\b\b\b\b\b\b\b\b\b\b\b\b\b\b\b\b\b\b\b\b\b\b\b\b\b\b\b\b\b\b\b\b\b\b\n",
      "Epoch 10/20\n",
      "99/99 [==============================] - 0s - loss: 0.0121 - val_loss: 0.1815\b\b\b\b\b\b\b\b\b\b\b\b\b\b\b\b\b\b\b\b\b\b\b\b\b\b\b\b\b\b\b\b\b\b\b\b\b\b\b\b\b\b\b\b\b\b\b\b\b\b\b\b\b\b\b\b\b\b\b\b\b\b\b\b\b\b\b\b\b\b\b\b\b\b\b\b\b\b\b\b\b\b\b\b\b\b\b\b\b\b\b\b\b\b\b\b\b\b\b\b\b\b\b\b\b\b\b\b\b\b\b\b\b\b\b\b\b\b\b\b\b\b\b\b\b\b\b\b\b\b\b\b\b\b\b\b\b\b\b\b\b\b\b\b\b\b\b\b\b\b\b\b\b\b\b\b\b\b\b\b\b\b\b\b\b\b\b\b\b\b\b\b\b\b\b\b\b\b\b\b\b\b\b\b\b\b\b\b\b\b\b\b\b\b\b\b\b\b\b\b\b\b\b\b\b\b\b\b\b\b\b\b\b\b\b\b\b\b\b\b\b\b\b\b\b\b\b\b\b\b\b\b\b\b\b\b\b\b\n",
      "Epoch 11/20\n",
      "99/99 [==============================] - 0s - loss: 0.0149 - val_loss: 0.0052\b\b\b\b\b\b\b\b\b\b\b\b\b\b\b\b\b\b\b\b\b\b\b\b\b\b\b\b\b\b\b\b\b\b\b\b\b\b\b\b\b\b\b\b\b\b\b\b\b\b\b\b\b\b\b\b\b\b\b\b\b\b\b\b\b\b\b\b\b\b\b\b\b\b\b\b\b\b\b\b\b\b\b\b\b\b\b\b\b\b\b\b\b\b\b\b\b\b\b\b\b\b\b\b\b\b\b\b\b\b\b\b\b\b\b\b\b\b\b\b\b\b\b\b\b\b\b\b\b\b\b\b\b\b\b\b\b\b\b\b\b\b\b\b\b\b\b\b\b\b\b\b\b\b\b\b\b\b\b\b\b\b\b\b\b\b\b\b\b\b\b\b\b\b\b\b\b\b\b\b\b\b\b\b\b\b\b\b\b\b\b\b\b\b\b\b\b\b\b\b\b\b\b\b\b\b\b\b\b\b\b\b\b\b\b\b\b\b\b\b\b\b\b\b\b\b\b\b\b\b\b\b\b\b\b\b\b\b\n",
      "Epoch 12/20\n",
      "99/99 [==============================] - 0s - loss: 0.0192 - val_loss: 0.0210\b\b\b\b\b\b\b\b\b\b\b\b\b\b\b\b\b\b\b\b\b\b\b\b\b\b\b\b\b\b\b\b\b\b\b\b\b\b\b\b\b\b\b\b\b\b\b\b\b\b\b\b\b\b\b\b\b\b\b\b\b\b\b\b\b\b\b\b\b\b\b\b\b\b\b\b\b\b\b\b\b\b\b\b\b\b\b\b\b\b\b\b\b\b\b\b\b\b\b\b\b\b\b\b\b\b\b\b\b\b\b\b\b\b\b\b\b\b\b\b\b\b\b\b\b\b\b\b\b\b\b\b\b\b\b\b\b\b\b\b\b\b\b\b\b\b\b\b\b\b\b\b\b\b\b\b\b\b\b\b\b\b\b\b\b\b\b\b\b\b\b\b\b\b\b\b\b\b\b\b\b\b\b\b\b\b\b\b\b\b\b\b\b\b\b\b\b\b\b\b\b\b\b\b\b\b\b\b\b\b\b\b\b\b\b\b\b\b\b\b\b\b\b\b\b\b\b\b\b\b\b\b\b\b\b\b\b\b\n",
      "Epoch 13/20\n",
      "99/99 [==============================] - 0s - loss: 0.0166 - val_loss: 0.0315\b\b\b\b\b\b\b\b\b\b\b\b\b\b\b\b\b\b\b\b\b\b\b\b\b\b\b\b\b\b\b\b\b\b\b\b\b\b\b\b\b\b\b\b\b\b\b\b\b\b\b\b\b\b\b\b\b\b\b\b\b\b\b\b\b\b\b\b\b\b\b\b\b\b\b\b\b\b\b\b\b\b\b\b\b\b\b\b\b\b\b\b\b\b\b\b\b\b\b\b\b\b\b\b\b\b\b\b\b\b\b\b\b\b\b\b\b\b\b\b\b\b\b\b\b\b\b\b\b\b\b\b\b\b\b\b\b\b\b\b\b\b\b\b\b\b\b\b\b\b\b\b\b\b\b\b\b\b\b\b\b\b\b\b\b\b\b\b\b\b\b\b\b\b\b\b\b\b\b\b\b\b\b\b\b\b\b\b\b\b\b\b\b\b\b\b\b\b\b\b\b\b\b\b\b\b\b\b\b\b\b\b\b\b\b\b\b\b\b\b\b\b\b\b\b\b\b\b\b\b\b\b\b\b\b\b\b\b\n",
      "Epoch 14/20\n",
      "99/99 [==============================] - 0s - loss: 0.0047 - val_loss: 0.0281\b\b\b\b\b\b\b\b\b\b\b\b\b\b\b\b\b\b\b\b\b\b\b\b\b\b\b\b\b\b\b\b\b\b\b\b\b\b\b\b\b\b\b\b\b\b\b\b\b\b\b\b\b\b\b\b\b\b\b\b\b\b\b\b\b\b\b\b\b\b\b\b\b\b\b\b\b\b\b\b\b\b\b\b\b\b\b\b\b\b\b\b\b\b\b\b\b\b\b\b\b\b\b\b\b\b\b\b\b\b\b\b\b\b\b\b\b\b\b\b\b\b\b\b\b\b\b\b\b\b\b\b\b\b\b\b\b\b\b\b\b\b\b\b\b\b\b\b\b\b\b\b\b\b\b\b\b\b\b\b\b\b\b\b\b\b\b\b\b\b\b\b\b\b\b\n",
      "Epoch 15/20\n",
      "99/99 [==============================] - 0s - loss: 0.0038 - val_loss: 0.0222\b\b\b\b\b\b\b\b\b\b\b\b\b\b\b\b\b\b\b\b\b\b\b\b\b\b\b\b\b\b\b\b\b\b\b\b\b\b\b\b\b\b\b\b\b\b\b\b\b\b\b\b\b\b\b\b\b\b\b\b\b\b\b\b\b\b\b\b\b\b\b\b\b\b\b\b\b\b\b\b\b\b\b\b\b\b\b\b\b\b\b\b\b\b\b\b\b\b\b\b\b\b\b\b\b\b\b\b\b\b\b\b\b\b\b\b\b\b\b\b\b\b\b\b\b\b\b\b\b\b\b\b\b\b\b\b\b\b\b\b\b\b\b\b\b\b\b\b\b\b\b\b\b\b\b\b\b\b\b\b\b\b\b\b\b\b\b\b\b\b\b\b\b\b\b\b\b\b\b\b\b\b\b\b\b\b\b\b\b\b\b\b\b\b\b\b\b\b\b\b\b\b\b\b\b\b\b\b\b\b\b\b\b\b\b\b\b\b\b\b\b\b\b\b\b\b\b\b\b\b\b\b\b\b\b\b\b\b\n",
      "Epoch 16/20\n",
      "99/99 [==============================] - 0s - loss: 0.0045 - val_loss: 0.0242\b\b\b\b\b\b\b\b\b\b\b\b\b\b\b\b\b\b\b\b\b\b\b\b\b\b\b\b\b\b\b\b\b\b\b\b\b\b\b\b\b\b\b\b\b\b\b\b\b\b\b\b\b\b\b\b\b\b\b\b\b\b\b\b\b\b\b\b\b\b\b\b\b\b\b\b\b\b\b\b\b\b\b\b\b\b\b\b\b\b\b\b\b\b\b\b\b\b\b\b\b\b\b\b\b\b\b\b\b\b\b\b\b\b\b\b\b\b\b\b\b\b\b\b\b\b\b\b\b\b\b\b\b\b\b\b\b\b\b\b\b\b\b\b\b\b\b\b\b\b\b\b\b\b\b\b\b\b\b\b\b\b\b\b\b\b\b\b\b\b\b\b\b\b\b\b\b\b\b\b\b\b\b\b\b\b\b\b\b\b\b\b\b\b\b\b\b\b\b\b\b\b\b\b\b\b\b\b\b\b\b\b\b\b\b\b\b\b\b\b\b\b\b\b\b\b\b\b\b\b\b\b\b\b\b\b\b\b\n",
      "Epoch 17/20\n",
      "99/99 [==============================] - 0s - loss: 0.0052 - val_loss: 0.0037\b\b\b\b\b\b\b\b\b\b\b\b\b\b\b\b\b\b\b\b\b\b\b\b\b\b\b\b\b\b\b\b\b\b\b\b\b\b\b\b\b\b\b\b\b\b\b\b\b\b\b\b\b\b\b\b\b\b\b\b\b\b\b\b\b\b\b\b\b\b\b\b\b\b\b\b\b\b\b\b\b\b\b\b\b\b\b\b\b\b\b\b\b\b\b\b\b\b\b\b\b\b\b\b\b\b\b\b\b\b\b\b\b\b\b\b\b\b\b\b\b\b\b\b\b\b\b\b\b\b\b\b\b\b\b\b\b\b\b\b\b\b\b\b\b\b\b\b\b\b\b\b\b\b\b\b\b\b\b\b\b\b\b\b\b\b\b\b\b\b\b\b\b\b\b\b\b\b\b\b\b\b\b\b\b\b\b\b\b\b\b\b\b\b\b\b\b\b\b\b\b\b\b\b\b\b\b\b\b\b\b\b\b\b\b\b\b\b\b\b\b\b\b\b\b\b\b\b\b\b\b\b\b\b\b\b\b\b\n",
      "Epoch 18/20\n",
      "99/99 [==============================] - 0s - loss: 0.0072 - val_loss: 0.0321\b\b\b\b\b\b\b\b\b\b\b\b\b\b\b\b\b\b\b\b\b\b\b\b\b\b\b\b\b\b\b\b\b\b\b\b\b\b\b\b\b\b\b\b\b\b\b\b\b\b\b\b\b\b\b\b\b\b\b\b\b\b\b\b\b\b\b\b\b\b\b\b\b\b\b\b\b\b\b\b\b\b\b\b\b\b\b\b\b\b\b\b\b\b\b\b\b\b\b\b\b\b\b\b\b\b\b\b\b\b\b\b\b\b\b\b\b\b\b\b\b\b\b\b\b\b\b\b\b\b\b\b\b\b\b\b\b\b\b\b\b\b\b\b\b\b\b\b\b\b\b\b\b\b\b\b\b\b\b\b\b\b\b\b\b\b\b\b\b\b\b\b\b\b\b\n",
      "Epoch 19/20\n",
      "99/99 [==============================] - 0s - loss: 0.0070 - val_loss: 0.0138\b\b\b\b\b\b\b\b\b\b\b\b\b\b\b\b\b\b\b\b\b\b\b\b\b\b\b\b\b\b\b\b\b\b\b\b\b\b\b\b\b\b\b\b\b\b\b\b\b\b\b\b\b\b\b\b\b\b\b\b\b\b\b\b\b\b\b\b\b\b\b\b\b\b\b\b\b\b\b\b\b\b\b\b\b\b\b\b\b\b\b\b\b\b\b\b\b\b\b\b\b\b\b\b\b\b\b\b\b\b\b\b\b\b\b\b\b\b\b\b\b\b\b\b\b\b\b\b\b\b\b\b\b\b\b\b\b\b\b\b\b\b\b\b\b\b\b\b\b\b\b\b\b\b\b\b\b\b\b\b\b\b\b\b\b\b\b\b\b\b\b\b\b\b\b\n",
      "Epoch 20/20\n",
      "99/99 [==============================] - 0s - loss: 0.0106 - val_loss: 0.0559\b\b\b\b\b\b\b\b\b\b\b\b\b\b\b\b\b\b\b\b\b\b\b\b\b\b\b\b\b\b\b\b\b\b\b\b\b\b\b\b\b\b\b\b\b\b\b\b\b\b\b\b\b\b\b\b\b\b\b\b\b\b\b\b\b\b\b\b\b\b\b\b\b\b\b\b\b\b\b\b\b\b\b\b\b\b\b\b\b\b\b\b\b\b\b\b\b\b\b\b\b\b\b\b\b\b\b\b\b\b\b\b\n"
     ]
    },
    {
     "data": {
      "text/plain": [
       "<keras.callbacks.History at 0x2cf69feb8>"
      ]
     },
     "execution_count": 648,
     "metadata": {},
     "output_type": "execute_result"
    }
   ],
   "source": [
    "# train\n",
    "\"\"\"\n",
    "tr_pairs1 = tr_pairs[:250]\n",
    "te_pairs1 = tr_pairs[250:]\n",
    "tr_y1 = tr_y[:250]\n",
    "te_y1 = tr_y[250:]\n",
    "\n",
    "tr_pairs = tr_pairs1\n",
    "te_pairs = te_pairs1\n",
    "tr_y = tr_y1\n",
    "te_y = te_y1\n",
    "\"\"\"\n",
    "# tr_pairs = np.vstack([tr_pairs, te_pairs])\n",
    "# print(tr_pairs.shape)\n",
    "\n",
    "rms = RMSprop()\n",
    "model.compile(loss=contrastive_loss, optimizer=rms)\n",
    "model.fit([tr_pairs[:, 0], tr_pairs[:, 1]], tr_y,\n",
    "          validation_split=0.001,\n",
    "          batch_size=20,\n",
    "          epochs=20)\n",
    "\n"
   ]
  },
  {
   "cell_type": "code",
   "execution_count": 650,
   "metadata": {
    "collapsed": false,
    "deletable": true,
    "editable": true
   },
   "outputs": [
    {
     "name": "stdout",
     "output_type": "stream",
     "text": [
      "* Accuracy on training set: 99.00%\n",
      "* Accuracy on test set: 81.20%\n"
     ]
    }
   ],
   "source": [
    "# compute final accuracy on training and test sets\n",
    "pred = model.predict([tr_pairs[:, 0], tr_pairs[:, 1]])\n",
    "tr_acc = compute_accuracy(pred, tr_y)\n",
    "pred = model.predict([te_pairs[:, 0], te_pairs[:, 1]])\n",
    "te_acc = compute_accuracy(pred, te_y)\n",
    "\n",
    "print('* Accuracy on training set: %0.2f%%' % (100 * tr_acc))\n",
    "print('* Accuracy on test set: %0.2f%%' % (100 * te_acc))"
   ]
  },
  {
   "cell_type": "code",
   "execution_count": 668,
   "metadata": {
    "collapsed": false
   },
   "outputs": [
    {
     "name": "stdout",
     "output_type": "stream",
     "text": [
      "Counter({1: 371, 0: 129})\n",
      "             precision    recall  f1-score   support\n",
      "\n",
      "          0       0.95      0.49      0.65       250\n",
      "          1       0.66      0.98      0.79       250\n",
      "\n",
      "avg / total       0.81      0.73      0.72       500\n",
      "\n"
     ]
    }
   ],
   "source": [
    "from collections import Counter\n",
    "from sklearn.metrics import classification_report\n",
    "preds = [1 if p[0] < 0.8 else 0 for p in pred]\n",
    "print(Counter(preds))\n",
    "print(classification_report(te_y, preds))"
   ]
  },
  {
   "cell_type": "code",
   "execution_count": 693,
   "metadata": {
    "collapsed": false
   },
   "outputs": [
    {
     "name": "stdout",
     "output_type": "stream",
     "text": [
      "(100, 2, 1, 4187)\n",
      "(100, 2, 4187)\n",
      "(200, 2, 1, 4187)\n",
      "(200, 2, 4187)\n"
     ]
    }
   ],
   "source": [
    "pan14train = \"/data/pan14-author-verification-training-corpus-english-novels-2014-04-22/\"\n",
    "pan14test = \"/data/pan14-author-verification-test-corpus2-english-novels-2014-04-22/\"\n",
    "\n",
    "p14_tr_texts, p14_tr_labels = get_data(pan14train)\n",
    "p14_tr_pairs = create_vectorized_pairs([tp.known for tp in p14_tr_texts], [tp.unknown for tp in p14_tr_texts], vec)\n",
    "\n",
    "p14_te_texts, p14_te_labels = get_data(pan14test)\n",
    "p14_te_pairs = create_vectorized_pairs([tp.known for tp in p14_te_texts], [tp.unknown for tp in p14_te_texts], vec)"
   ]
  },
  {
   "cell_type": "code",
   "execution_count": 704,
   "metadata": {
    "collapsed": false
   },
   "outputs": [
    {
     "name": "stdout",
     "output_type": "stream",
     "text": [
      "(50, 2, 1, 4187)\n",
      "(50, 2, 4187)\n"
     ]
    }
   ],
   "source": [
    "c50_known, c50_unknown, c50_labels = load_C50(\"/data/C50/C50TrainVerification/\")\n",
    "c50_pairs = create_vectorized_pairs(c50_known, c50_unknown, vec)"
   ]
  },
  {
   "cell_type": "code",
   "execution_count": 705,
   "metadata": {
    "collapsed": false
   },
   "outputs": [],
   "source": [
    "# pred = model.predict([p14_te_pairs[:, 0], p14_te_pairs[:, 1]])\n",
    "pred = model.predict([c50_pairs[:, 0], c50_pairs[:, 1]])"
   ]
  },
  {
   "cell_type": "code",
   "execution_count": 746,
   "metadata": {
    "collapsed": false
   },
   "outputs": [
    {
     "name": "stdout",
     "output_type": "stream",
     "text": [
      "Counter({1: 25, 0: 25})\n",
      "             precision    recall  f1-score   support\n",
      "\n",
      "          0       0.72      0.72      0.72        25\n",
      "          1       0.72      0.72      0.72        25\n",
      "\n",
      "avg / total       0.72      0.72      0.72        50\n",
      "\n"
     ]
    }
   ],
   "source": [
    "preds = [1 if p[0] < 0.0772 else 0 for p in pred]\n",
    "print(Counter(preds))\n",
    "print(classification_report(c50_labels, preds))\n"
   ]
  },
  {
   "cell_type": "code",
   "execution_count": 703,
   "metadata": {
    "collapsed": false
   },
   "outputs": [],
   "source": [
    "def load_C50(directory):\n",
    "    def read_file(path):\n",
    "        with open(path) as f:\n",
    "            return f.read()\n",
    "    \"\"\"Load known and unknown texts in the PAN data format\"\"\"\n",
    "    # FIXME: assumes one known file per author, which is fine for English datasets only\n",
    "    authors = sorted([x for x in os.listdir(directory)])\n",
    "    known_texts = []\n",
    "    unknown_texts = []\n",
    "    for author in authors:\n",
    "        kf = os.path.join(directory, author, \"known.txt\")\n",
    "        uf = os.path.join(directory, author, \"unknown.txt\")\n",
    "        known_texts.append(read_file(kf))\n",
    "        unknown_texts.append(read_file(uf))\n",
    "    y = [1] * 25 + [0] * 25\n",
    "    return known_texts, unknown_texts, y"
   ]
  },
  {
   "cell_type": "code",
   "execution_count": 702,
   "metadata": {
    "collapsed": false
   },
   "outputs": [
    {
     "data": {
      "text/plain": [
       "'The Internet may be overflowing with new technology but crime in cyberspace is still of the old-fashioned variety.\\nThe National Consumers League said Wednesday that the most popular scam on the Internet was the pyramid scheme, in which early investors in a bogus fund are paid off with deposits of later investors.\\nThe league, a non-profit consumer advocacy group, tracks web scams through a site it set up on the world wide web in February called Internet Fraud Watch at http://www.fraud.org.\\nThe site, which collects reports directly from consumers, has been widely praised by law enforcement agencies.\\n\"Consumers who suspect a scam on the Internet have critical information,\" said Jodie Bernstein, director of the Federal Trade Commission\\'s Bureau of Consumer Protection. Internet Fraud Watch \"has been a major help to the FTC in identifying particular scams in their infancy.\"\\nIn May, for example, the commission used Internet reports to shut down a site run by Fortuna Alliance that had taken in over $6 million, promising investors they could earn $5,000 a month from an initial deposit of $250. Instead, Fortuna kept most of the money, the commission charged.\\nFraud reports from the league\\'s site, which has been visited over 370,000 times, are forwarded to local, state and federal authorities.\\nThe second-most-popular Internet scam, the league said, was the sale of bogus Internet services, such as custom designed web sites or Internet access accounts.\\nIn third place were crooks who sell computer equipment, such as memory chips or sound boards, over the net and then deliver significantly lower quality goods or nothing at all, the league said.\\nOther top scams involve business opportunities. Con artists may offer shares in a business or franchise using unreasonable predictions or misrepresentations. One popular scheme promised to let consumers get rich while working at home.\\nThe League also announced Tuesday that NationsBank had donated $100,000 to become a sponsor of the Fraud Watch site.\\n\\n\\nThe U.S. Postal Service announced Wednesday a plan to boost online commerce by enhancing the security and reliability of electronic mail traveling on the Internet.\\nUnder the plan, businesses and consumers can verify that e-mail has not been tampered with and use services now available for ordinary mail like sending a certified letter.\\n\"The leap from trading messages to buying and selling goods has been blocked by the fear of security threats,\" Robert Reisner, vice president of stategic planning, said.  \\n\"To expand from local area networks and bilateral secure communications to wide use of electronic commerce will require a new generation of security services,\" Reisner said.\\nCylink Corp is developing a system for the Post Office to use to verify the identity of e-mail senders. The system will enable people to register a digital \"signature\" with the Post Office that can be compared against electronic mail they send.\\nIf any tampering is discovered, the Postal Service would investigate, just like it investigates tampering with regular mail, Reisner said.  \\nThe Post Office is also using the Internet to enhance non-electronic mail delivery.\\nIn conjunction with Sun Microsystems, the Postal Service has also developed a new online system for bulk mailers that relies on Sun\\'s Java computer language, Reisner said.\\nInstead of manually calculating postage rates for bulk mailings, possibly using outdated forms, a bulk mailer will be able to add up the charges using a software application written with Java and posted on the Internet.  \\nEventually, the Post Office plans to offer hybrid services involving both kinds of mail, Reisner said.\\nElectronic mail could be converted to paper and delivered within one business day, for example. Or someone who moves could register a change of address with the Post Office over the Internet.\\nCritics of the Post Office\\'s Internet plans have said the service is usurping functions that could be better performed by the private sector. But Reisner rejected those arguments, maintaining that the Post Office has often facilitated the spread of new technologies, such as railroads and aircraft.  \\n\"Remember the pilots who returned from World War I and then risked their lives in an even more dangerous duty,\" Resiner said refering to early airmail delivery efforts.\\n\"To keep these daring pilots alive, the Postal Service had to create parts of what we know as the weather service today. Navigation aids had to be developed. We are watching many of these same dynamics today. Earlier experience tells us that this is a public and private job.\"\\n--202-898-8312\\n\\n\\nElementary school students with access to the Internet learned more than kids who lacked access, an indepedent research group concluded after conducting a comparative study in seven urban school districts.\\n\"This study dramatically illustrates the positive effects of online use on learning,\" said Michael Casserly, executive director of the Council of Great City Schools, an association of 49 large inner city public school districts which co-sponsored the study along with Scholastic Corp.\\n\\n\\nAn influential Internet organisation has backed away from a proposal to dramatically expand the number of addresses available on the global computer network.\\nThe Internet Society, which helps develop and coordinate Internet standards, announced this week that instead of moving ahead with the proposal it would form a nine-member committee to study the issue.\\nUnveiled in August, the proposal was an attempt to quell the growing number of disputes over desirable address names.\\n\"There just seems to be no consensus at all,\" said Don Heath, president of the society. A variety of objections and questions have been raised about the August proposal, from technical networking issues to concerns about protection for trademarks and intellectual property.\\n\"We thought we should try to pull it all together and have a good cross-section of people to discuss it and see if we can\\'t reach a consensus,\" he said.\\nThe new committee ought to finish its work by early next year and new names could be doled out four to six months later, Heath said. The committee could decide not to go forward with any address expansion, but Heath said that was an unlikely outcome.\\n\"The facts of life are that people want descriptive names and vanity plates,\" Heath said.\\nDisputes over Internet names are occuring with increasing frequency as more companies seek to publicise and market their products over the Net.\\nFor example, Viacom Inc.\\'s MTV cable music channel fought with one of its employees who had registered \"mtv.com,\" eventually regaining control of the name in an out-of-court settlement.\\nEvery site on the World Wide Web must have a unique address name. Most addresses end with one of a few three letter designations, known as top-level domains, including \"com\" for private sites, \"gov for government sites and \"edu\" for sites run by schools.\\nIn August, Internet Assigned Numbers Authority said it would oversee the creation of up to 150 new top level domains, easing the squeeze, especially for names in the private sector category.\\nThe authority, operating under charter from the society and the Federal Network Council, is the central coordinator of Internet addresses and other standards.\\nThe society\\'s board of trustees voted in June to accept a preliminary version of the numbers authority proposal, with the proviso that the business aspects of proposal be fleshed out.\\nBut with the ensuing controversy, the society decided a committee was needed to reexamine the proposal, Heath said. The committee will meet confer mostly by telephone and online, though an open forum is planned for mid-December in California.\\nThe committee will include two members appointed by the society, two by the numbers authority and two by the Internet Architecure Board.\\nThe International Telecommunication Union, the World Intellectual Property Organisation and the International Trademark Association will each appoint one member.\\n\\n\\nAn influential Internet organisation has backed away from a proposal to dramatically expand the number of addresses available on the global computer network.\\nThe Internet Society, which helps develop and coordinate Internet standards, announced this week that instead of moving ahead with the proposal it would form a nine-member committee to study the issue.\\nUnveiled in August, the proposal was an attempt to quell the growing number of disputes over desirable address names.\\n\"There has been considerable international debate on various aspects of the proposal with no consensus,\" Don Heath, president of the society, said in a statement. \"It is in the best interest of the continued beneficial evolution of the Internet that these issues be aired and resolved.\"\\nDisputes over Internet names are occuring with increasing frequency as more companies seek to publicise and market their products over the Net.\\nFor example, Viacom Inc.\\'s MTV cable music channel fought with one of its employees who had registered \"mtv.com,\" eventually regaining control of the name in an out-of-court settlement.\\nEvery site on the World Wide Web must have a unique address name. Most addresses end with one of a few three letter designations, known as top-level domains, including \"com\" for private sites, \"gov for government sites and \"edu\" for sites run by schools.\\nIn August, Internet Assigned Numbers Authority said it would oversee the creation of up to 150 new top level domains, easing the squeeze, especially for names in the private sector category.\\nThe authority, operating under charter from the society and the Federal Network Council, is the central coordinator of Internet addresses and other standards.\\nThe society\\'s board of trustees voted in June to accept a preliminary version of the numbers authority proposal, with the proviso that the business aspects of proposal be fleshed out.\\nBut with the ensuing controversy, the society decided a committee was needed to reexamine the proposal, Heath said.\\nThe committee will include two members appointed by the society, two by the numbers authority and two by the Internet Architecure Board.\\nThe International Telecommunication Union, the World Intellectual Property Organisation and the International Trademark Association will each appoint one member.\\n\\n\\nA group of leading trademark specialists plans to release recommendations aimed at minimizing disputes over Internet address names.\\nThe International Trademark Association is working on a white paper that will be completed in the next few months, David Maher, co-chair of the association\\'s Internet issues committee, said in a telephone interview.\\n\\n\\nWhen a company in California sells a book to a consumer in Canada from a Web site hosted on a computer in England, what laws govern the transaction?\\nAs sales of all kinds of goods over the Internet continue to grow, questions are multiplying about basic regulations covering consumer protection, taxation and other issues.\\n\"Most commercial law has built in a hidden assumption of geographical boundaries within which certain kinds of actions will occur,\" said Jerry Kaplan, who runs an Internet site called OnSale that auctions electronic merchandise. \"Now the legal system is facing a medium which is inherently boundary-less.\"\\nFor example, some states tax transactions that originate within their borders while others hope to collect so-called use taxes when their residents buy from out-of-state merchants. \"Sin\" laws on obscenity, gambling and sales of alcohol also differ from state to state and apply to some Web merchants.\\nWith the potential for so much confusion, some online mavens argue the federal government should step in and set clear policies.\\n\"The role of the federal government is to set national standards or national policy,\" said Gary Arlen, president of Arlen Communications and a leading analyst of online companies. \"A lot of what we\\'re talking about online transcends state borders and even national borders.\"\\nA top priority is protecting consumers\\' private information.\\n\"More regulation is really needed on the privacy issues compared to other areas,\" said Jonathan Rosenoer, an attorney and author of the online \"Cyberlaw\" column. Existing laws protect some kinds of records, like medical data, but not other information, Rosenoer said.\\nBoth real and imagined privacy violations are feeding public sentiment in favour of reform. Lexis-Nexis was deluged with protests last month after word spread that the database company was selling personal information such as social security numbers and maiden names over the Internet.\\nThe company responded that its P-TRAK product no longer provided social security numbers and never contained maiden names. But it withdrew the names of thousands of individuals that asked to be deleted.\\nFollowing the controversey, the Federal Trade Commission asked Congress to amend the Fair Credit Reporting Act, a law governing personal financial information held by credit agencies. The commission suggested the law be extended to cover nonfinancial information like social security numbers.\\nIn many cases, however, the federal government is still deciding what steps to take.\\nThe Treasury Department, which has a hand in tax policy, banking regulation and international trade, has several groups studying online commerce issues but has not reached any conclusions yet.\\nTop Treasury officials and banking regulators have expressed a desire not to intrude on the nascent market for electronic money. Some banks would like federal rules barring non-banks from issuing electronic money.\\n\"Heavyhanded, pre-emptive attempts to regulate these products before any social risks have been demonstrated would handicap innovation,\" Federal Reserve Gov. Edward Kelley said earlier this month.\\nThere is little confusion about criminal scheming online, however. The Federal Trade Commission, Commodity Futures Trading Commission and the Securities and Exchange Commission are all prosecuting online crooks and collecting complaints at their Web sites.\\n\"It\\'s not an area where we need new laws or new authority,\" John Stark, special counsel of Internet projects at the SEC said. \"It\\'s the same swindles, just in a different medium.\"\\n\\n\\nU.S. laws governing the trillion dollar futures markets could be rocked by the Supreme Court\\'s interpretation of the word \"in\" in a case to be argued Wednesday. But a legislative solution is in the offing.\\nAt issue is a 1974 amendment to the Commodity Exchange Act, the primary law regulating trading of futures contracts on everything from wheat and corn to interest rates and electricity.  \\nFutures exchanges say a broad reading of the amendment would put them out of business, while major banks argue a narrow reading would force them to move vast operations out of the United States.\\nWhatever the outcome, Congressional action is expected next year. \"It\\'s certainly significant, but I suspect that at the end of the day, legislation will overtake this,\" said Howard Schneider, former Commodity Futures Trading Commission general counsel.  \\nWhen Congress expanded the commodity act in 1974 to cover futures on non-agricultural commodities and created the Commodity Futures Trading Commission to police the markets, some big banks objected.\\nThey argued the law should not apply to trading of foreign currency, government securities and similiar items already flourishing among banks and securities firms.\\nThe Treasury Department agreed and in a letter to Congress suggested an amendment to the law that became known as the Treasury Amendment.  \\nThe amendment says \"transactions in\" foreign currency, security warrants, repurchase options, government securities and a few other items are exempt from the Commodity Exchange Act unless they involve sale for future delivery conducted \"on a board of trade.\"\\nThe banks continued to trade foreign currencies unimpeded but the CFTC began to encounter a new problem. Unscrupulous \"bucket shops\" that peddled off-exchange commodity contracts to rip off unsuspecting investors were expanding into foreign currency schemes.  \\nThe CFTC shut down the forex shops but lawyers for the shops argued forex investment contracts should be considered transactions \"in\" foreign currency and exempt from CFTC rules.\\nLower federal courts took up the issue but reached conflicting conclusions. Some said \"transactions in foreign currency\" exempted dealings only with actual currencies, not derivatives on the currencies like futures and options. Others decided that \"in\" exempted all trading involving currencies.\\nThe Supreme Court will likely resolve that conflict in Wednesday\\'s case concerning William Dunn, the manager of a $180 million hedge fund investing in foreign currencies.  \\nIn November, 1993, Dunn told his investors he had lost $95 million. The CFTC soon charged Dunn with fraud under the Commodity Exchange Act. A lower court agreed.\\nAsking the Supreme Court to uphold that decision, CFTC lawyers argue that Congress would have used the word \"involving\" rather than \"in\" if it had wanted to exempt forex derivatives.\\nBut Dunn\\'s lawyers and four banks that dealt with his fund maintain that the CFTC has no jurisdiction to prosecute under the commodity act.  \\nAffirming the earlier decision would undermine the $40 billion a day global currency market by subjecting it to unworkable regulation, the banks said. And Dunn, if guilty of any misconduct, could be prosecuted under wire fraud or securities laws, the banks said.\\nAt the other extreme, the Chicago futures exchanges appear terrified the court will strike down the lower court ruling.  \\nChicago Board of Trade, in an amicus brief written in part by Kenneth Starr, the independent counsel in the Whitewater investigation, warned that a broad reading of the exemption would create havoc, allowing unregulated dealings in all kinds of futures contracts now traded on exchanges.\\n\"The idea that someone could clone the Board of Trade\\'s principal products, trade them off-exchange and not be subject to any regulation is pretty darn troublesome,\" Mark Young, another exchange attorney, said.\\nA ruling is not expected for months, but the banks and exchanges will have to continue their struggle in the legislative venue almost immediately.\\nCongress could resolve the dispute through legislation, which would render the decision moot. One bill was introduced in the last Congress to amend the Treasury Amendment and Senator Richard Lugar (R-IN) has said he will likely offer a new bill early next year.\\n-- 202-898-8312\\n\\n\\nSupreme Court justices Wednesday sharply questioned rules governing so-called derivative investments and foreign currency trading in a case that could have wide repercussions for both markets.\\nThe Commodity Futures Trading Commission has traditionally prosecuted crooks who ripped off the public with fraudulent investments. But sophisticated investors such as big banks have been allowed to trade similiar financial instruments with little direct regulation, market participants said.\\nThat distinction has been blurred in recent years, as defendants accused of fraud by the CFTC have sought to rely on an exemption from regulation, relied on by the bigger players, in a 1974 amendment to the Commodity Exchange Act.\\nThe amendment was added at the request of the Treasury Department to ensure that sophisticated investors trading in foreign currency and a few other markets would not be subject to uneccessary regulation by the CFTC.\\nLower courts have made conflicting rulings about the 1974 amendment and the Supreme Court decided last year to hear the case of William Dunn, a foreign currency investment advisor charged with fraud by the CFTC after losing $95 million of his clients\\' money.\\nJeffrey Minear, assistant to the Solicitor General -- the federal government\\'s representative before the Supreme Court -- defended the CFTC\\'s prosecution of Dunn before the court Wednesday. Minear argued that the 1974 exemption for \"transactions in foreign currency\" did not cover Dunn\\'s trading in foreign currency options, one type of derivative. A derivative is an investment whose value is derived from a stock, bond, currency, commodity or other instrument.\\nBut justices questioned Minear\\'s distinction, which relied heavily on the particular meaning of the word \"in.\"\\nCongress was \"not using consistent language\" in the commodity laws passed in 1974 and since then, Justice Antonin Scalia said. \"They use in, they use on, they use involving.\"\\nMinear drew a sharp rebuke from Chief Justice William Rehnquist when he later argued that Congress expressed greater concern about fraudulent use of options than other types of investments under a 1922 commodity trading law.\\n\"Perhaps it was true in 1922 but that doesn\\'t prove it\\'s true now,\" the chief justice interjected.\\nGary Stumpp, Dunn\\'s lawyer, argued that other federal agencies such as the Securities and Exchange Commission might have jurisdiction over fraudulent foreign exchange trading but not the CFTC.\\nSeveral Wall Street trade groups and big banks filed friend-of-the-court briefs in support of Dunn\\'s position. They warned that if the court upheld the CFTC\\'s position, the burden of additional regulation might drive the gigantic $40 billion a day foreign exchange market in the United States might overseas.\\nOn the other side, Chicago futures exchanges said they could be put out of business by unregulated competitors if the court throws out the CFTC\\'s case against Dunn.\\nBrooksley Born, chairwoman of the CFTC, attended the argument but declined to comment afterwards.\\nA decision is not expected for at least a few months. Several members of Congress have said they may introduce legislation early next year to change the 1974 amendment, possibly rendering the verdict in the Dunn case moot.\\n\\n\\nThe Internet continued to grow in leaps and bounds this year while online services found it much harder to add new customers, a survey said Friday.\\nAn estimated 35 million adults in the United States had used the Internet, according to the poll by Louis Harris and Associates conducted in late September, up from 27 million at the beginning of the year.\\n\"Although the number of people who use computers has fluctuated around just over half of the adult population, the number of adult Americans using computers for cyber-activities is growing,\" said Humphrey Taylor, chairman of the polling organisation.\\nWhile online services like America Online Inc. and Compuserve Corp. could lay claim to almost 41 million subscribers, that was the same level Harris found back in January.\\nOnline services, which provide private online content in addition to Internet access, have faced greater competition this year from companies like AT&amp;T Corp., which provide cheaper Internet-only access.\\nBusinesses, which are looking to the Internet as a potential source of new revenue, are intensely interested in figures on its usage. Differing surveys have come up with widely varying numbers.\\nThe Harris poll found that, although more people are getting wired, they are on average spending less time in cyberspace.\\nHome users said they were online 2.8 hours a week, down from three hours a week in an April survey. Business and other users said they were online for 1.8 hours, down from two hours in April.\\nThe poll also reinforced findings of earlier studies showing that more educated people were more likely to use computers and access the Internet.\\nPeople with college and graduate degrees were twice as likely to use computers and four times more likely to access the Internet as people who only graduated from high school, the poll found.\\nThe poll\\'s results were based on a telephone survey of 1,032 adults at the end of September and have a margin of error of plus or minus 3 percentage points, according to Harris.\\n\\n\\nHewlett-Packard Co. unveiled a new plan Monday to boost sales of computer encoding technology, considered a key component of global communications and the development of commerce over the Internet.\\nThe plan is intended to foster the growth of online commerce worldwide while still abiding by strict U.S. export laws limiting the sale of encryption products abroad.\\nSales of goods and services over the Internet are booming but still lag well behind traditional sales by telephone or in person. Some businesses say that consumers are nervous about sending credit card numbers or other sensitive information over the Internet, where it could be intercepted by criminals.\\nEncryption scrambles information, such as a credit card number, while in transit so that it can be read only by the intended recipient using a password or a software \"key.\"\\n\"The bad news is that, unless you encrypt your information, it\\'s very easy for electronic eavesdroppers to have a look at what you\\'re transmitting,\" said Brad Silverberg, senior vice president at Microsoft Corp., a Hewlett-Packard partner in the new encryption framework.\\nThe Hewlett-Packard plan is \"the first government-approved encryption framework removing a significant barrier to making the Internet secure for business transactions and electronic communications,\" company Chief Executive Officer Lewis Platt told a news conference in Washington.\\nIntel Corp., another partner in the effort, said it plans to incorporate encryption into its market-leading computer hardware products.\\nFederal export laws prohibit the sale of strong encryption technology outside the United States. Last week, President Clinton signed an executive order liberalising but not eliminating the export rules.\\nCompanies will be allowed to sell products with strong, built-in encryption features but only if the products also contain a feature that allows the government to break the codes when acting under a court order or similiar authority.\\nThe administration said law enforcement authorities need the ability to decode messages by having access to the software keys, a system called key recovery or key escrow, in order to keep tabs on criminals and terrorists.\\nUnder the Hewlett-Packard framework, powerful encryption features in a new computer or software could be automatically disabled if the product is sold abroad and does not permit government decoding.\\nThat may not be enough to satisfy those opposed to the administration\\'s policy, including some businesses and civil libertarians.\\n\"It\\'s not a solution for us,\" said Shari Steele, staff attorney at the Electronic Frontier Foundation, a civil liberties group that focuses on cyberspace issues. She said people should have the right to use encryption free of government-mandated escrow.\\n\"The government is just strong-arming some companies by saying if you want to use strong encryption at all, you have to have key escrow,\" Steele said.\\n\\n\\nThe Internet continued to grow in leaps and bounds this year while online services found it much harder to add new customers, a new survey says.\\nAn estimated 35 million adults in the United States had used the Internet, according to the poll by Louis Harris and Associates conducted in late September, up from 27 million at the beginning of the year.\\n\"Although the number of people who use computers has fluctuated around just over half of the adult population, the number of adult Americans using computers for cyber-activities is growing,\" said Humphrey Taylor, chairman of the polling organisation.\\nWhile online services like America Online Inc. and Compuserve Corp. could lay claim to almost 41 million subscribers, that was the same level Harris found back in January.\\nOnline services, which provide private online content in addition to Internet access, have faced greater competition this year from companies like AT&amp;T Corp., which provide cheaper Internet-only access.\\nBusinesses, which are looking to the Internet as a potential source of new revenue, are intensely interested in figures on its usage. Differing surveys have come up with widely varying numbers.\\nThe Harris poll found that, although more people are getting wired, they are on average spending less time in cyberspace.\\nHome users said they were online 2.8 hours a week, down from three hours a week in an April survey. Business and other users said they were online for 1.8 hours, down from two hours in April.\\nThe poll also reinforced findings of earlier studies showing that more educated people were more likely to use computers and access the Internet.\\nPeople with college and graduate degrees were twice as likely to use computers and four times more likely to access the Internet as people who only graduated from high school, the poll found.\\nThe poll\\'s results were based on a telephone survey of 1,032 adults at the end of September and have a margin of error of plus or minus 3 percentage points, according to Harris.\\n\\n\\nThe growing business of doing business on the Internet poses a major challenge to tax collectors, but no special taxes should be imposed in cyberspace, the government said in report released Thursday.\\n\"Treasury believes that these new technologies should not be used to justify new taxes,\" the Treasury Department draft report said. \"Accordingly, Treasury is not considering any type of value added tax, \\'bit tax,\\' or other new excise tax on electronic commerce.\"\\nInstead, the current system should evolve to tax income from all sources in a consistent manner, the department said.\\n\"Our overall tax policy goal in this area should emulate policy in other areas -- maintain neutrality, fairness and simplicity -- a policy which serves to encourage all desirable economic activity new and old,\" the report said.\\nBusinesses are already struggling with tax proposals from state and local governments, according to Kent Johnson, head of sales and transaction tax practice at KPMG Peat Marwick.\\n\"State governments don\\'t feel the same way as the federal government, but this report may be a good starting point for discussing all the issues,\" Johnson said.\\nThis year, about $1 billion of goods and services will be sold online, growing to over $7 billion by the year 2000, according to market researchers at Jupiter Communications.\\nBut the myriad tax laws and regulations affecting businesses may not keep pace with the fast-paced, often chaotic growth of the worldwide computer network.\\nBuyers and sellers on the Internet can be in different states or even different countries, complicating the task of collecting tax at the \"source\" of a transaction.\\nThe department also said it was worried that tax evaders could use the anonymity provided by the Internet as a mask to avoid reporting income or to transfer money to offshore bank accounts.\\nBut the report made no recommendations about how the government should deal with tax evasion issues. \"Treasury intends to study, and requests comments on these issues,\" the report said.\\nThe report is available on the Treasury\\'s web site, http://www.ustreas.gov.\\nThe report on taxation is likely to be followed by reports on other aspects of online commerce that the department is studying, including consumer protection, electronic money, bank regulation and law enforcement, officials said.\\n\\n\\nA leading software industry group is backing away from its early support of the Clinton Administration\\'s new policy to ease export rules on computer encoding technology.\\nIn a letter to vice president Al Gore, the Business Software Alliance, which includes Microsoft Corp and International Business Machine Corp\\'s Lotus Development, warned that rules implementing the new encryption export policy appeared to be flawed.  \\n\"It appears that significant backtracking has occurred since the October 1 announcement,\" the alliance wrote.\\n\"Therefore, we seriously doubt that the regulations will work, meet consumer demands or be accepted by the private sector unless the administration radically changes its approach immediately,\" the alliance added.\\nA spokeswoman for Gore said Greg Simon, the vice president\\'s chief domestic policy adviser, and other administration officials working on the rules have met with the software group to discuss the criticism.  \\n\"There is still an internal decision making process going on,\" spokeswoman Heidi Kukis said. Final rules are expected by January 1, she said.\\nThe administration is attempting to craft a compromise on export sales of products containing encryption, computer programs that use mathematical formulas to scramble information and render it unreadable without a password or software \"key.\"\\nUnder current laws dating from the Cold War, products for export can only include very weak coding features.  \\nBut with the growth of the Internet and online commerce, encryption is spreading as a means to ensure secure communication between businesses and to safeguard consumers\\' credit card numbers.\\nU.S. software companies argue they are losing substantial overseas sales to foreign companies not bound by the export laws.\\nU.S. law enforcement and intelligence officials counter that the spread of sophisticated encryption will make their jobs far more difficult.  \\nUnder the compromise policy announced in October and enacted in an executive order last month, companies would be able to export strong encryption but only if the products also contained a feature known as \"key recovery\" that would permit the government to decode scrambled data.\\nThe software alliance said in October that the new policy was a \"step in the right direction.\" In its letter this week, however, the alliance said it was not happy with the rules being drafted to implement the policy. \"Everything we have seen and heard to date reveals that the government is headed in the absolute wrong direction,\" it said.  \\nPart of the debate revolves around the definition of key recovery. The alliance said key recovery should consist of products which allow the government to decode stored communications, such as an E-mail message saved on a computer hard drive. But products should not be required to allow government decoding of real-time communications.\\n\"There is little if any commercial demand for key recovery function in real-time communications,\" the alliance wrote. \"Our members have seen nothing to suggest that any product developed to date can work on a mass market scale or that there is significant commercial demand for such products.\"\\nA number of companies, including Microsoft and IBM, have announced products designed to meet the new export policy. But not all of them easily allow real-time key recovery.\\nAlthough Microsoft is trying to create products to meet the export policy, \"we still feel government should liberalize the policy more,\" John Browne, head of the company\\'s Internet commerce group, said.\\n-- 202 898-8312\\n\\n\\nA U.S. District Court judge Wednesday barred new federal regulations that allow credit unions to expand their membership beyond workers at one company, saying this would exceed the legal limits of the institutions.\\nThe rules have raised the ire of banks who, fearing the loss of customers, have been battling in court since 1990 to keep credit unions to their traditional role of serving members of just \"one\" community or occupation.\\nThe new rules, which the National Credit Union Administration adopted last month after an unfavorable court ruling, redefined \"a single common bond\" that is the basis of credit union membership.\\nOn Wednesday, Judge Thomas Jackson issued an injunction blocking the new rules, saying they were merely an attempt to circumvent earlier court rulings.\\nEarlier court rulings limited members of a credit union to a single company or organization. The court actions struck down a 1982 NCUA decision allowing credit unions to draw members from multiple companies.\\nUnder the latest NCUA rules, credit unions could include members of a single trade, industry or profession even if the members worked for different companies.\\nJackson chastised the NCUA and said the federal credit union regulator was acting more like a trade association.\\nJackson also said the agency must rescind 31 applications that it had already approved for credit union charters under the new rules.\\nThe judge said he might refer the matter to the attorney general for further investigation of what he termed collusive behavior among the agency and credit unions.\\n\"Why did you go about it in such a surreptitious, collusive, underhanded way?\" Jackson asked lawyers for the agency at a hearing Wednesday.\\nEric Goulian, a lawyer for the Justice Department, denied the agency had acted improperly and said the new rules were a response to emergency conditions.\\nThe fireworks were the latest development in a six-year-old case before Jackson pitting the American Bankers Association against the agency and the credit union industry.\\nIn 1990, the ABA and five North Carolina banks filed suit againt AT&amp;T Family Federal Credit Union, which had grown to encompass members from more than 150 different occupational groups.\\nIn July, a U.S. Court of Appeals handed the banks a major victory in the case, ruling that the NCUA had exceeded its statutory authority in allowing single credit unions each to serve members of more than one employer.\\nJackson issued injunctions in October implementing the ruling. The injunctions limited more than 3,500 non-profit credit unions nationwide to members who share a \"single common bond.\"\\nThe credit union industry has said the injunctions will result in millions of people being expelled from credit unions, with some unable to afford similiar but more expensive services from banks.\\nTwo weeks after Jackson issued the injunctions, the credit union agency adopted new rules, now set aside, to dramatically expand the definition of a single common bond.\\nThe new rules also allowed credit unions to have as many as 1 million members, up from 25,000 under the old rules.\\nAfter the hearing, Brenda Furlow, general counsel for the Credit Union National Association, said the industry was considering an appeal.\\n\"Clearly, we\\'re disappointed with the ruling,\" she said. \"Basically, banks are trying to aggressively protect their competitive interests and the American consumer loses.\"\\nPaul Schosberg, president of the trade association America\\'s Community Bankers, praised Jackson\\'s ruling. \"The NCUA has clearly stretched the law\\'s common bond requirement beyond all recognition,\" he said.\\n\\n\\nThe Internet could provide a huge boost to the U.S. economy if the federal government pursues \"free market\" policies in cyberspace, a group of President Clinton\\'s top advisers says in a draft report obtained by Reuters.\\nThe group, an interagency task force headed by senior presidential adviser Ira Magaziner, recommended that the administration work globally to protect the Internet from new taxes, censorship and other onerous forms of regulation.\\nAfter seven months of deliberations, the task force is preparing to issue for public comment a report of principles and policies the Unites States should pursue, Magaziner said in an interview.\\n\"One of the things we\\'re trying to do with this paper is as much say what government should not do as say what they should do,\" Magaziner said. \"A lot of what industry is concerned about is that governments are already beginning to take actions around the world that would inhibit commerce.\"\\nThe growth of Internet commerce could help boost U.S. exports of everything from movies and news to software and consulting services. Exports of such products totalled $40 billion in 1995, the draft report noted.\\nThe idea is to hitch U.S. exports to the speeding Internet commerce train. Sales of goods and services online are projected to grow to $7 billion in the year 2000, from about $1 billion this year, according to market researchers at Jupiter Communications.\\n\"Companies have told us there would be a tremendous potential to increase world trade across the Internet if we could provide the right kind of environment,\" Magaziner said.\\nThe draft report, called \"A Framework for Global Electronic Commerce,\" covers nine issues, from taxation and customs to privacy and security.\\nOn taxation, the draft report echoes a report issued by the Treasury Department last month by stating no new taxes should be imposed. Acting through the World Trade Organisation, the United States should push for the Internet to be designated a duty-free zone, the draft said.\\nSome consumers worry that their privacy will be violated when they shop online. The report said governments should push vendors to disclose what will be done with information about consumers rather than dictate to merchants what they can or cannot do with the data.\\nOn some issues, such as encryption -- encoding information in a scrambled format to provide a measure of security or privacy -- existing administration policies may be seen as conflicting with the free market approach of the draft report.\\nMagaziner said policies will evolve over time, \"but the paper will reflect where we are now.\"\\nMagaziner headed Clinton\\'s failed effort to reform the U.S. health care system, an initiative critics said favoured government over the private sector.\\nWhile disagreeing with his critics\\' characterisation of the health care plan, Magaziner said the Internet \"is a wholly different animal.\\n\"I\\'m a problem solver, not an ideologue,\" he said.\\n\\n\\nThe Clinton administration will modestly revise controversial export rules for computer encoding technology after a private meeting Wednesday with computer and telecommunications companies, a top Commerce Department official said.\\n\"This is a work in progress,\" Under Secretary of Commerce William Reinsch said in a telephone interview after the hour and a half long meeting. \"There will be some changes that will be more than technical.\"  \\nThe administration circulated a draft this week of new rules that would overhaul Cold War era export limits on products containing encryption, computer programs that scramble information and render it unreadable without a password or software \"key.\"\\nWith the growth of the Internet and online commerce, demand for encryption-capable products is growing worldwide. Coded messages can keep a business\\' e-mail confidential or protect a consumer\\'s credit card number sent on the Internet.\\nReinsch and others who attended Wednesday\\'s meeting said the tone was civil.  \\n\"We had a long meeting but it was actually quite a constructive one and actually also a polite one,\" Reinsch said.\\nIndustry officials argued at the meeting that the draft rules were unclear or unworkable on a number of points.\\n\"In some cases we could tell them what we meant which made them feel better and now we\\'ll go off and try to fix it,\" Reinsch acknowledged. \"In other cases we\\'re going to have to think a little more about what they said and in some cases I\\'m not sure there is a way to fix it.\"  \\n\"We are not optimistic that these (rules) will be turned around and we feel going to Congress is our only option,\" Smiroldo said. The alliance includes a dozen large software firms including Microsoft Corp and International Business Machine Corp\\'s Lotus Development.\\nSeveral bills that would dramatically ease encryption export limits were introduced in the last Congress and are expected to be revived next year.\\nAmbassador David Aaron, appointed by President Clinton as special envoy for cryptography last month, also attended the meeting, Reinsch said.\\nThe draft rules implement an executive order signed by President Bill Clinton last month. Under the order, limits on export of products containing strong encryption would be eased if the products allowed the government to decode encrypted messages by recovering the keys.\\nThe draft rules detail for the first time the government\\'s definition of acceptable key recovery features and other aspects of the revised export approval process.\\nFor example, until 1999, companies will be allowed to export some products that do not include key recovery if the companies promise to include key recovery in future products. -- 202-898-8312\\n\\n\\nA break-in at the U.S. Justice Department\\'s World Wide Web site last week highlighted the Internet\\'s continued vulnerability to hackers.\\nUnidentified hackers gained access to the department\\'s web page on August 16 and replaced it with a hate-filled diatribe labelled the \"Department of Injustice\" that included a swastika and a picture of Adolf Hitler.\\nJustice officials quickly pulled the plug on the vandalised page, but the security flaws that allowed hackers to gain entry likely exist in thousands of other corporate and government web sites, security experts said.\\n\"The vast majority of sites are vulnerable,\" said Richard Power, senior analyst at the Computer Security Institute. \"The Justice Department shouldn\\'t be singled out.\"\\nJustice Department officials said the compromised web site was not connected to any computers containing sensitive files. The web site (http://www.usdoj.gov) included copies of press releases, speeches and other publicly available information.\\nThe security breach \"is just like graffiti on the outside of the building,\" spokesman Bert Brandenburg said.\\nOther organisations have been targeted in the past. Last year, the Nation of Islam\\'s Million Man March web site was vandalised. And hackers make 250,000 attempts annually to break into U.S. military computers, according to a General Accounting Office report.\\nWindows Magazine recently found security flaws at web sites of a dozen major corporations. \"The web is spectacularly insecure,\" editor Mike Elgan said. Relying on security holes that had been documented by software manufacturers months earlier, the magazine\\'s specialists were able to gain various degrees of unauthorised access at the different sites.\\nElgan said hackers who are exploiting some of the same flaws are motivated by anger over the growth and commercialization of the Internet. \"A common theme is that hackers are fed up with non-hackers on the Internet,\" he said.\\nThe battle is not completely hopeless. \"You can secure a web site,\" Richard Power said. \"There\\'s all kinds of measures you can take. Most corporations and institutions don\\'t take them simply because nothing bad has happened to them yet.\"\\nSome sites are using multiple layers of security, well beyond simple password protection, to keep hackers out.\\nOne site mentioned by Windows Magazine was Fidelity Investments. Fidelity\\'s site advertises its mutual funds and disseminates information about personal finance but does not contain confidential customer information.\\nFidelity officials immediately closed the loophole identified by the magazine, a spokeswoman said. But multiple security measures previously in place would have prevented a security breach despite the hole, the spokeswoman added.\\n\\n\\nIf the Board of Governors of the U.S. Federal Reserve System does as expected early Friday and votes to expand banks\\' non-banking activities, it will only heighten the drive in Congress to overhaul U.S. banking regulations completely, analysts and industry officials said.\\nThe Fed is expected to vote to allow banks\\' section 20 subsidiaries to derive 25 percent of their revenue from non-banking activities such as securities underwriting, up from the current 10 percent ceiling.  \\nThe section 20 proposal was released for comment in July, but since then another bank regulator has stolen some of the Fed\\'s thunder. Comptroller of the Currency Eugene Ludwig said his office will begin approving bank affiliates moving into an assortment of non-banking businesses.\\nBoth the Fed\\'s proposal and the Comptroller\\'s actions will raise the pressure on Congress to scrap the Glass-Steagall Act, according to Robert Litan, director of economic studies at the Brookings Institute.  \\nIn the past, banks led the charge to change the law because they wanted to get into other businesses, like selling insurance or underwriting stock deals. Insurance companies and securities firms generally opposed the banks creating legislative gridlock.\\n\"Now the tables have been turned,\" Litan said. \"But it\\'s not a two-way street. Other industries will want to level the playing field.\"  \\nBoth moves also reflect current market realities. The financial services industry, from banks to insurance companies to mutual funds, is converging. Mutual funds already offer checking account-like money market funds and some of the leading stock and bond underwriters are commercial banks.\\nIn the words of one top regulator, the Fed\\'s move from 10 to 25 percent, \"is not material.\" The Fed has required banks to take certain steps to prevent problems in the subsidiaries from affecting the bank itself, and its government-insured deposits.\\nCompetitors in other fields fret that the banks insured deposits are a form of government subsidy giving the banks an unfair advantage when they venture into other fields.\\nComptroller Ludwig disagreed. Speaking to reporters after delivering a speech here Thursday, Ludwig said that walling off the subsidiary \"basically eliminates any subsidization.\"\\nHe opposes efforts by some in Congress to keep banks out of certain fields, such as real estate or merchant banking, entirely. \"It\\'s a mistake to set product limits, particularly in this day and age when we have such a dynamic marketplace,\" he said.\\n((--Aaron Pressman, 202-898-8312))\\n\\n\\nThe Federal Reserve took another step Friday toward eliminating the barriers between banking and other financial service industries, voting to allow banks to further invade the turf of Wall Street securities firms.\\nThe Fed Board of Governors voted unanimously to increase the percentage of revenue bank subsidiaries may earn from underwriting and dealing in securities to 25 percent from 10 percent.\\nBank subsidiaries have been bumping against the 10 percent limit and earlier this year the Fed cited Swiss Bank Corp. for exceeding the cap.\\nBanks were elated by the new rule.\\n\"This is a tremendous boost for banks that already underwrite securities and an incentive for banks considering this business,\" American Bankers Association managing director Larry LaRocca said.\\nSecurities firms, however, were not pleased.\\n\"It\\'s as if Santa Clause delivered all the gifts to only one house in the neighbourhood,\" said Steve Judge, senior vice president for the Securities Industry Association.\\nBruce Thompson, director of government relations at the nation\\'s largest brokerage firm, Merrill Lynch and Co., said he hoped the greater latitude given to banks would not reduce the banks\\' previous support for Congressional action.\\n\"We hope this does not reduce their incentive,\" he said. \"The time really is coming for having everyone put aside their own particular interests and support comprehensive reform.\"\\nOfficials at leading banks said they still wanted Congress to take more dramatic action.\\n\"We need complete financial reform,\" Rachel Robbins, general counsel of J.P. Morgan &amp; Co, said. \"This addresses one piece of it and doesn\\'t address it completely but until Congress can act this is a welcome action.\"\\nFor decades, securities underwriting was the exclusive purview of firms like Merrill Lynch and Salomon Brothers.\\nBut since 1987, when the Fed first allowed bank subsidiaries to earn 5 percent of their revenues from underwriting, big banks like J.P. Morgan &amp; Co. and Bankers Trust have made dramatic inroads.\\nWhile the 1933 Glass-Steagall Act generally prohibits banks from engaging in non-bank activity, under section 20 of the Act banks may affiliate with firms not \"engaged principally\" in such areas. Currently, 41 bank \"Section 20\" subsidiaries have permission to engage in underwriting.\\nThe Fed\\'s action will add to pressure on Congress, which was already planning to review the entire scope of financial sector regulation next year.\\nSecurities firms, insurance companies and others who opposed lifting restriction on banks in the past will likely favour reform this time around, according to Robert Litan, director of economic studies at the Brookings Institute.\\nRaising the revenue cap, and an announcement last month by the Comptroller of the Currency allowing banks another avenue for entering unrelated fields, only go halfway, Litan said.\\n\"It\\'s not a two-way street. Other industries will want to level the playing field,\" he said.\\nAt Friday\\'s meeting, Fed governors called for Congress to follow their lead and and revise the laws.\\n\"We hope that the next move will be up to the Congress in this whole area,\" Fed Vice Chairwoman Alice Rivlin said.\\n\\n\\nThe Federal Reserve Friday rebuffed a request by the Justice Department to allow U.S. banks to collect data about borrowers as part of an effort to discourage racial discrimination in lending.\\nThe unanimous decision put the central bank\\'s board in the unusual position of being at the center of a national debate about how best to discourage discrimination.\\nOn the one side: those who see the collection of data on race, gender, age, religion and other charecteristics as a way to ferret out discrimination. On the other: opponents who view such collection as discriminatory on its face.\\nBacked by banking regulators at the Office of the Comptroller of the Currency, the Justice Department urged the Fed to change a regulation that prohibits banks from collecting such data except in the case of mortgage lending.\\nThe department argued that the lack of data was hindering its ability to evaluate charges of racial discrimination in lending to small businesses.\\nIn an unanimous decision, the central bank\\'s board voted against changing Fed Regulation B, saying it might lack the authority to act without new legislation from Congress.\\n\"The issue ... is not some technical matter of law or economics,\" Fed Governor Lawrence Lindsey said.\\n\"Rather, it is at the center of a heartfelt and ongoing debate in America about the direction of public policy with respect to individual characteristics,\" he added.\\nThe regulation, which was established in 1977, was designed to discourage discrimination by race, gender and age by prohibiting banks from collecting such data from borrowers.\\nFed Governor Edward Kelley described the proposed change in the regulation as \"social policy of the most profound sort\" and said it \"provides no answer to the social conundrum that\\'s before us.\"\\nThat is not the way the Justice Department sees it. In a letter to Fed Chairman Alan Greenspan Friday, Associate Attorney General John Schmidt said changes in the regulation would help combat discrimination.\\n\"Allowing credit providers to collect certain basic data seems to us to be a useful step toward getting a better handle on the extent of this problem,\" he said.\\nExisting studies, though limited, \"do appear to provide some support for the widespread view ... that minority-owned businesses face unusually difficult barriers in obtaining this type of credit,\" Schmidt added.\\nCreditors and their trade associations had opposed the regulation change, which was first released for comment by the Fed in April, 1995.\\n\\n\\nAn international task force working to resolve the simmering controversy over desirable addresses on the Internet released a draft plan Friday for a substantial expansion of the total number of destinations.\\nThe International Ad Hoc Committee on domain names, formed by the Internet Society in October, recommended that seven new so-called top-level domains be added to the Internet.\\nTop-level domains are the three-letter designations most Internet sites end with, such as \"com\" in http://www.gm.com and other commercial sites, \"gov\" in government sites and \"edu\" for sites run by schools.\\nThe committee recommended that an unlimited number of firms be authorised to register the new addresses, although the panel said it hoped to initially approve 20 to 30 new registration services.\\nAddresses for most sites are currently handed out by Network Solutions Inc. of Herndon, Va., which charges $100 for each registration.\\nAt first, Network Solutions would continue to have a monopoly on the domain names it already controls but the committee said its \"ultimate goal\" is to have all names handled by all qualifed firms.\\n\"The IAHC members were faced with a formidable challenge,\" said Donald Heath, president of the Internet Society and chairman of the committee. \"We accomplished our goal, in no small part, because we were able to bring people together from around the world, via the Internet.\"\\nThe full text of the recommendations was posted on the Internet at http://www.iahc.org, Heath said. The proposal will be open for public comment until Jan. 17 and a final report is expected by Feb. 3.\\nNew names and competing registration services should help quell disputes over popular or trademarked names.\\nDisputes are arising more frequently, usually when the holder of a trademark discovers that someone else is using their trademark as the name of an Internet site.\\nFor example, Viacom Inc.\\'s MTV music channel fought with one of its employees, who had registered \"mtv.com,\" eventually regaining control of the name in an out-of-court settlement.\\nIn another case, a journalist tweaked McDonald\\'s Corp. by registering \"mcdonalds.com\" before the fast-food giant did and before the Web had attained its current prominence. The address now belongs to McDonald\\'s.\\nOnce new top-level domain names are available, 10 people or organisations could register similar names. The new top-level domains will contain three to five letters but have not yet been selected.\\nThe committee included members from the Internet Society, which helps coordinate and develop Net standards; the Internet Assigned Number Authority, which oversees certain of the standards, and the Internet Architecture Board, which helps draft and promulgate new technical standards.\\nThe committee also included representatives from the International Telecommunications Union, the World Intellectual Property Organisation and the International Trademark Association.\\n\\n\\nAn international task force charged with resolving the simmering controversey over desirable Internet address names released a draft plan Friday to expand the total number of addresses substantially.\\nInternational Ad Hoc Committee on domain names, formed by the Internet Society in October, said seven new \"top level domains\" should be added to the Internet.\\nMost Internet addresses end with one of a few three letter designations, including \"com\" for private sites, \"gov\" for government sites and \"edu\" for sites run by schools.  \\nAddresses for most designations, or top level domains, are given out by Network Solutions Inc of Herndon, Va., which charges $100 for each registration.\\nThe committee also recommended that an unlimited number of firms be able to register the new addresses, although the committee said it hoped initially to authorize 20 to 30 new registration services.\\nAt first, Network Solutions would continue to have a monopoly on the domain names it already controls but the committee said its \"ultimate goal\" is to have all names handled by all qualifed firms.  \\n\"The IAHC members were faced with a formidable challenge,\" Donald Heath, president the Internet Society and chair of the committee, said. \"We accomplished our goal, in no small part, because we were able to bring people together from around the world, via the Internet.\"\\nThe full text of the recommendations was posted on the Internet at http://www.iahc.org, Heath said. The proposal will be open for public comment until Jan. 17, 1997 and a final report is expected by Feb. 3, 1997.\\nNew names and competing registration services should help quell disputes over popular or trademarked names.  \\nDisputes are arising more frequently, usually when the holder of a trademark discovers that someone else is using their trademark as the name of an Internet site.\\nFor example, Viacom Inc\\'s MTV music channel fought with one of its employees, who had registered \"mtv.com,\" eventually regaining control of the name in an out-of-court settlement.\\nOnce new top-level domain names are available, 10 people could register similiar names.  The new top level domains will contain three to five letters but have not yet been selected.  \\nThe committee included members from the Internet Society, the Internet Assigned Number Authority, which oversees certain Internet standards, and the Internet Architecture Board, which helps draft and promulgate new standards.\\nThe committee also included representatives from the International Telecommunications Union, the World Intellectual Property Organization and the International Trademark Association.\\n((--202-898-8312))\\n\\n\\nU.S. banks will be able to significantly increase their securities underwriting activities under a rule adopted Friday by the Federal Reserve, but that will only add pressure on Congress to overhaul the entire regulatory system, market participants said.\\nThe Fed voted unanimously to allow so-called section 20 subsidiaries of banks to derive as much as 25 percent of their revenues from underwriting and dealing in securities such as stocks, corporate bonds and commercial paper.\\nThe new rule takes effect in 60 days, the Fed said.  \\nAt the meeting, Fed governors called for Congressional action to reform the 1933 Glass-Steagall Act and other laws separating banks from non-bank financial services industries.\\n\"We hope that the next move will be up to the Congress in this whole area,\" Fed vice chair Alice Rivlin said.\\n\"Legislation is needed but I think this is a constructive step and it is appropriate for us to interpret the existing legislation,\" Governor Susan Phillips said.\\nWhile the Glass-Steagall Act prohibits banks from engaging in non-bank activity, under section 20 of the Act banks may affiliate with firms not \"engaged principally\" in such areas.  \\nThe Fed said it currently authorizes 41 bank subsidiaries to deal and underwrite securities, ranging from stocks and bonds to commercial paper and mortgage-backed securities.\\nBanks were already allowed to handle other sorts of financial instruments, including Treasury securities and over-the-counter derivatives.\\nBoth the Fed\\'s action and an even broader move last month by the Comptroller of the Currency will raise the pressure on Congress to scrap the Glass-Steagall Act, according to Robert Litan, director of economic studies at the Brookings Institute.  \\nIn the past, banks led the charge to change the law because they wanted to get into other businesses, like selling insurance and underwriting. Insurance companies and securities firms generally opposed the banks, creating legislative gridlock.\\nNow, all industries will press for change, Litan said. \"The tables have been turned,\" he said. \"But it\\'s not a two-way street. Other industries will want to level the playing field.\"\\nBanking industry representatives said they were elated by the Fed vote.  \\n\"This is a tremendous boost for banks that already underwrite securities and an incentive for banks considering this business,\" American Bankers Association managing director Larry LaRocca said.\\n\"By lifting the 10 percent revenue cap to 25 percent for Section 20 ineligible securities, the Fed has begun chipping away at the antiquated barriers handicapping banks for years,\" LaRocca added.\\nSecurities industry groups had written to the Fed strongly opposing the proposal and restated their position after the vote.  \\n\"It\\'s as if Santa Clause delivered all the gifts to only one house in the neighborhood,\" Steve Judge, senior vice president for the Securities Industry Association, said.\\nJudge also called for Congress to act. \"Nothing could benefit consumers and our economy more than a modernization of federal laws governing the financial services industry,\" he said.\\n((202-898-8312))\\n\\n\\nThe Federal Reserve took another step Friday toward eliminating the barriers between banking and other financial service industries, voting to allow banks to further invade the turf of Wall Street securities firms.\\nThe Fed Board of Governors voted unanimously to increase the percentage of revenue bank subsidiaries may earn from underwriting and dealing in securities to 25 percent from 10 percent.\\nBank subsidiaries have been bumping against the 10 percent limit and earlier this year the Fed cited Swiss Bank Corp. for exceeding the cap.\\nBanks were elated by the new rule.\\n\"This is a tremendous boost for banks that already underwrite securities and an incentive for banks considering this business,\" American Bankers Association managing director Larry LaRocca said.\\nSecurities firms, however, were not pleased.\\n\"It\\'s as if Santa Clause delivered all the gifts to only one house in the neighbourhood,\" said Steve Judge, senior vice president for the Securities Industry Association.\\nFor decades, securities underwriting was the exclusive purview of firms like Merrill Lynch &amp; Co. and Salomon Brothers. But since 1987, when the Fed first allowed bank subsidiaries to earn 5 percent of their revenues from underwriting, big banks like J.P. Morgan &amp; Co. and Bankers Trust have made dramatic inroads.\\nWhile the 1933 Glass-Steagall Act generally prohibits banks from engaging in non-bank activity, under section 20 of the Act banks may affiliate with firms not \"engaged principally\" in such areas. Currently, 41 bank \"Section 20\" subsidiaries have permission to engage in underwriting.\\nThe Fed\\'s action will add to pressure on Congress, which was already planning to review the entire scope of financial sector regulation next year.\\nSecurities firms, insurance companies and others who opposed lifting restriction on banks in the past will likely favour reform this time around, according to Robert Litan, director of economic studies at the Brookings Institute.\\nRaising the revenue cap, and an announcement last month by the Comptroller of the Currency allowing banks another avenue for entering unrelated fields, only go halfway, Litan said.\\n\"It\\'s not a two-way street. Other industries will want to level the playing field,\" he said.\\nAt Friday\\'s meeting, Fed governors called for Congress to follow their lead and and revise the laws.\\n\"We hope that the next move will be up to the Congress in this whole area,\" Fed Vice Chairwoman Alice Rivlin said.\\n\\n\\n'"
      ]
     },
     "execution_count": 702,
     "metadata": {},
     "output_type": "execute_result"
    }
   ],
   "source": []
  },
  {
   "cell_type": "code",
   "execution_count": 761,
   "metadata": {
    "collapsed": false,
    "deletable": true,
    "editable": true
   },
   "outputs": [
    {
     "data": {
      "image/png": "[encoded data removed]",
      "text/plain": [
       "<matplotlib.figure.Figure at 0x2d099d438>"
      ]
     },
     "metadata": {},
     "output_type": "display_data"
    },
    {
     "data": {
      "text/plain": [
       "[1,\n",
       " 1,\n",
       " 1,\n",
       " 1,\n",
       " 1,\n",
       " 1,\n",
       " 1,\n",
       " 1,\n",
       " 1,\n",
       " 1,\n",
       " 1,\n",
       " 1,\n",
       " 1,\n",
       " 1,\n",
       " 1,\n",
       " 1,\n",
       " 1,\n",
       " 1,\n",
       " 1,\n",
       " 1,\n",
       " 1,\n",
       " 1,\n",
       " 1,\n",
       " 1,\n",
       " 1,\n",
       " 0,\n",
       " 0,\n",
       " 0,\n",
       " 0,\n",
       " 0,\n",
       " 0,\n",
       " 0,\n",
       " 0,\n",
       " 0,\n",
       " 0,\n",
       " 0,\n",
       " 0,\n",
       " 0,\n",
       " 0,\n",
       " 0,\n",
       " 0,\n",
       " 0,\n",
       " 0,\n",
       " 0,\n",
       " 0,\n",
       " 0,\n",
       " 0,\n",
       " 0,\n",
       " 0,\n",
       " 0]"
      ]
     },
     "execution_count": 761,
     "metadata": {},
     "output_type": "execute_result"
    }
   ],
   "source": [
    "from scipy.spatial.distance import euclidean, cosine\n",
    "%matplotlib inline\n",
    "from matplotlib import pyplot as plt\n",
    "\n",
    "def plot(tr_pairs, tr_y):\n",
    "    eucs = [euclidean(tr_pairs[i][0], tr_pairs[i][1]) for i in range(len(tr_pairs))]\n",
    "    coss = [cosine(tr_pairs[i][0], tr_pairs[i][1]) for i in range(len(tr_pairs))]\n",
    "\n",
    "\n",
    "\n",
    "    same = [x for i, x in enumerate(eucs) if tr_y[i]]\n",
    "    diff = [x for i, x in enumerate(eucs) if not tr_y[i]]\n",
    "    plt.scatter(range(len(same)), same)\n",
    "    plt.scatter(range(len(same)), diff)\n",
    "    plt.show()\n",
    "    return eucs, coss\n",
    "\n",
    "e, c = plot(c50_pairs, c50_labels)\n",
    "c50_labels"
   ]
  },
  {
   "cell_type": "code",
   "execution_count": 156,
   "metadata": {
    "collapsed": false
   },
   "outputs": [
    {
     "data": {
      "text/plain": [
       "0.9210017367864325"
      ]
     },
     "execution_count": 156,
     "metadata": {},
     "output_type": "execute_result"
    }
   ],
   "source": [
    "eucs[0]"
   ]
  },
  {
   "cell_type": "code",
   "execution_count": 157,
   "metadata": {
    "collapsed": false,
    "deletable": true,
    "editable": true
   },
   "outputs": [
    {
     "data": {
      "text/plain": [
       "array([ 0.63095238,  0.65662651,  0.70481928])"
      ]
     },
     "execution_count": 157,
     "metadata": {},
     "output_type": "execute_result"
    }
   ],
   "source": [
    "from sklearn.svm import LinearSVC\n",
    "from sklearn.tree import DecisionTreeClassifier\n",
    "from sklearn.model_selection import cross_val_score\n",
    "\n",
    "cross_val_score(DecisionTreeClassifier(), [[x] for x in coss], tr_y)"
   ]
  },
  {
   "cell_type": "code",
   "execution_count": 146,
   "metadata": {
    "collapsed": false,
    "deletable": true,
    "editable": true
   },
   "outputs": [
    {
     "data": {
      "text/plain": [
       "(500, 2, 46519)"
      ]
     },
     "execution_count": 146,
     "metadata": {},
     "output_type": "execute_result"
    }
   ],
   "source": [
    "tr_pairs.shape"
   ]
  },
  {
   "cell_type": "code",
   "execution_count": 216,
   "metadata": {
    "collapsed": false,
    "deletable": true,
    "editable": true
   },
   "outputs": [
    {
     "data": {
      "text/plain": [
       "(500, 1200)"
      ]
     },
     "execution_count": 216,
     "metadata": {},
     "output_type": "execute_result"
    }
   ],
   "source": [
    "te_pairs[:,0].shape"
   ]
  },
  {
   "cell_type": "code",
   "execution_count": 219,
   "metadata": {
    "collapsed": false,
    "deletable": true,
    "editable": true
   },
   "outputs": [
    {
     "data": {
      "text/plain": [
       "array([1, 0, 0, 0, 1, 1, 1, 0, 1, 0, 0, 1, 1, 1, 0, 1, 0, 1, 1, 0, 1, 1, 0,\n",
       "       1, 0, 0, 0, 1, 0, 1, 0, 0, 0, 1, 0, 1, 1, 1, 1, 1, 1, 1, 0, 0, 0, 0,\n",
       "       0, 1, 1, 1, 0, 0, 1, 0, 0, 0, 0, 1, 1, 0, 0, 1, 1, 1, 1, 1, 1, 0, 1,\n",
       "       0, 0, 0, 0, 0, 1, 0, 1, 0, 0, 1, 1, 1, 0, 0, 1, 0, 0, 1, 0, 1, 0, 1,\n",
       "       0, 1, 1, 0, 1, 0, 0, 1, 1, 1, 0, 0, 1, 0, 1, 1, 0, 1, 1, 1, 0, 1, 0,\n",
       "       1, 1, 0, 1, 0, 0, 0, 0, 1, 1, 1, 0, 1, 0, 1, 1, 0, 0, 0, 1, 1, 1, 0,\n",
       "       0, 0, 0, 0, 1, 0, 0, 0, 0, 1, 0, 1, 0, 0, 1, 0, 1, 0, 0, 0, 1, 1, 0,\n",
       "       0, 1, 0, 1, 0, 0, 1, 1, 0, 1, 1, 1, 1, 0, 1, 0, 0, 1, 1, 1, 0, 1, 0,\n",
       "       1, 1, 0, 1, 0, 0, 1, 1, 1, 0, 1, 1, 0, 0, 1, 0, 1, 0, 0, 0, 1, 0, 0,\n",
       "       0, 1, 1, 1, 1, 1, 1, 1, 0, 0, 0, 1, 0, 1, 1, 0, 0, 1, 1, 1, 1, 1, 1,\n",
       "       1, 0, 0, 1, 0, 1, 0, 0, 1, 1, 1, 0, 1, 0, 0, 0, 1, 1, 1, 0, 1, 1, 0,\n",
       "       0, 1, 0, 1, 1, 0, 0, 0, 1, 1, 0, 0, 1, 0, 1, 1, 0, 1, 0, 1, 1, 1, 1,\n",
       "       0, 0, 0, 0, 0, 0, 1, 1, 1, 1, 0, 1, 0, 1, 0, 0, 1, 0, 1, 1, 0, 1, 1,\n",
       "       0, 1, 0, 0, 1, 0, 0, 1, 0, 0, 0, 0, 1, 0, 1, 0, 0, 1, 0, 0, 1, 0, 0,\n",
       "       0, 0, 1, 1, 0, 0, 1, 0, 0, 0, 1, 1, 1, 1, 1, 0, 1, 1, 0, 0, 1, 0, 0,\n",
       "       0, 1, 1, 1, 1, 1, 1, 0, 1, 1, 0, 1, 1, 0, 0, 1, 0, 1, 0, 0, 1, 1, 1,\n",
       "       1, 1, 0, 0, 1, 0, 1, 0, 0, 0, 1, 0, 1, 1, 1, 0, 1, 1, 1, 0, 0, 0, 0,\n",
       "       1, 1, 0, 1, 0, 0, 1, 1, 1, 0, 0, 1, 0, 1, 0, 0, 1, 1, 0, 0, 0, 1, 1,\n",
       "       0, 0, 1, 0, 0, 1, 1, 1, 1, 1, 0, 1, 0, 0, 1, 0, 0, 1, 0, 1, 0, 1, 1,\n",
       "       0, 0, 0, 0, 1, 0, 1, 1, 1, 0, 0, 0, 0, 0, 1, 1, 1, 0, 1, 0, 1, 1, 1,\n",
       "       1, 0, 0, 0, 0, 0, 0, 1, 1, 1, 1, 1, 1, 1, 0, 1, 1, 1, 1, 0, 1, 1, 0,\n",
       "       1, 1, 1, 0, 1, 1, 0, 1, 0, 0, 1, 0, 0, 0, 0, 0, 1, 0, 0, 0, 0, 1, 0,\n",
       "       1, 0, 0, 0, 1, 0, 0, 1, 1, 1, 0, 0, 1, 0, 1, 1, 1, 1, 0, 1, 1, 0, 0,\n",
       "       1, 0, 1, 0, 0, 1, 0, 0, 0, 1, 1, 1, 0, 0, 0, 1, 1, 0, 1, 0, 1, 0, 1,\n",
       "       1, 0, 0, 0, 1, 0, 0, 0, 1, 0, 1, 0, 0, 1, 1, 1, 1, 1, 0, 1, 0, 0, 0,\n",
       "       0, 1, 0, 0, 0, 0, 0, 0, 1, 1, 0, 1, 0, 1, 0, 1, 0, 1, 0, 1, 1, 0, 1,\n",
       "       1, 0])"
      ]
     },
     "execution_count": 219,
     "metadata": {},
     "output_type": "execute_result"
    }
   ],
   "source": [
    "np.hstack([tr_y,te_y])"
   ]
  },
  {
   "cell_type": "code",
   "execution_count": null,
   "metadata": {
    "collapsed": true,
    "deletable": true,
    "editable": true
   },
   "outputs": [],
   "source": []
  }
 ],
 "metadata": {
  "kernelspec": {
   "display_name": "Python 3",
   "language": "python",
   "name": "python3"
  },
  "language_info": {
   "codemirror_mode": {
    "name": "ipython",
    "version": 3
   },
   "file_extension": ".py",
   "mimetype": "text/x-python",
   "name": "python",
   "nbconvert_exporter": "python",
   "pygments_lexer": "ipython3",
   "version": "3.6.0"
  }
 },
 "nbformat": 4,
 "nbformat_minor": 2
}
