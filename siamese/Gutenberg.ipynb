{
 "cells": [
  {
   "cell_type": "code",
   "execution_count": 1,
   "metadata": {
    "collapsed": false,
    "deletable": true,
    "editable": true
   },
   "outputs": [],
   "source": [
    "import os\n",
    "\n",
    "data_dir = \"/data/Gutenberg/\"\n",
    "\n",
    "files = os.listdir(data_dir)\n",
    "files = [x for x in files if x.endswith(\".txt\") and \"__\" in x]"
   ]
  },
  {
   "cell_type": "code",
   "execution_count": 2,
   "metadata": {
    "collapsed": false,
    "deletable": true,
    "editable": true
   },
   "outputs": [],
   "source": [
    "texts = []\n",
    "labels = []\n",
    "\n",
    "for fn in files:\n",
    "    with open(os.path.join(data_dir, fn), encoding=\"ISO-8859-1\") as f:\n",
    "        s = f.read()\n",
    "    texts.append(s[1000:])\n",
    "    labels.append(fn[:-4])"
   ]
  },
  {
   "cell_type": "code",
   "execution_count": 3,
   "metadata": {
    "collapsed": false,
    "deletable": true,
    "editable": true
   },
   "outputs": [],
   "source": [
    "shortest = sorted([(len(text), i) for i, text in enumerate(texts)])[:36]"
   ]
  },
  {
   "cell_type": "code",
   "execution_count": 4,
   "metadata": {
    "collapsed": false,
    "deletable": true,
    "editable": true
   },
   "outputs": [],
   "source": [
    "shortest_is = set([s[1] for s in shortest])"
   ]
  },
  {
   "cell_type": "code",
   "execution_count": 5,
   "metadata": {
    "collapsed": false,
    "deletable": true,
    "editable": true
   },
   "outputs": [],
   "source": [
    "texts = [x for i, x in enumerate(texts) if i not in shortest_is]\n",
    "labels = [x for i, x in enumerate(labels) if i not in shortest_is]"
   ]
  },
  {
   "cell_type": "code",
   "execution_count": 16,
   "metadata": {
    "collapsed": true,
    "deletable": true,
    "editable": true
   },
   "outputs": [],
   "source": [
    "def get_chunks(l, n):\n",
    "    n = max(1, n)\n",
    "    return (l[i:i+n] for i in range(0, len(l), n))"
   ]
  },
  {
   "cell_type": "code",
   "execution_count": 17,
   "metadata": {
    "collapsed": false,
    "deletable": true,
    "editable": true
   },
   "outputs": [],
   "source": [
    "text_fragments = []\n",
    "label_fragments = []\n",
    "\n",
    "for i, text in enumerate(texts):\n",
    "    num_added = 0\n",
    "    chunks = get_chunks(text, 1000)\n",
    "    for chunk in chunks:\n",
    "        if num_added > 10:\n",
    "            continue\n",
    "        num_added += 1\n",
    "        text_fragments.append(chunk)\n",
    "        label_fragments.append(labels[i])\n",
    "        "
   ]
  },
  {
   "cell_type": "code",
   "execution_count": 18,
   "metadata": {
    "collapsed": false
   },
   "outputs": [
    {
     "data": {
      "text/plain": [
       "33000"
      ]
     },
     "execution_count": 18,
     "metadata": {},
     "output_type": "execute_result"
    }
   ],
   "source": [
    "len(text_fragments)"
   ]
  },
  {
   "cell_type": "code",
   "execution_count": 19,
   "metadata": {
    "collapsed": false,
    "deletable": true,
    "editable": true
   },
   "outputs": [],
   "source": [
    "import numpy as np\n",
    "from random import shuffle\n",
    "\n",
    "indices = list(range(len(text_fragments)))\n",
    "shuffle(indices)"
   ]
  },
  {
   "cell_type": "code",
   "execution_count": 20,
   "metadata": {
    "collapsed": false,
    "deletable": true,
    "editable": true
   },
   "outputs": [],
   "source": [
    "text_fragments = np.array(text_fragments)\n",
    "label_fragments = np.array(label_fragments)"
   ]
  },
  {
   "cell_type": "code",
   "execution_count": 21,
   "metadata": {
    "collapsed": false,
    "deletable": true,
    "editable": true
   },
   "outputs": [],
   "source": [
    "text_fragments = text_fragments[indices]\n",
    "label_fragments = label_fragments[indices]"
   ]
  },
  {
   "cell_type": "code",
   "execution_count": 22,
   "metadata": {
    "collapsed": false,
    "deletable": true,
    "editable": true
   },
   "outputs": [],
   "source": [
    "from sklearn.feature_extraction.text import TfidfVectorizer"
   ]
  },
  {
   "cell_type": "code",
   "execution_count": 36,
   "metadata": {
    "collapsed": false,
    "deletable": true,
    "editable": true
   },
   "outputs": [
    {
     "name": "stdout",
     "output_type": "stream",
     "text": [
      "CPU times: user 3min, sys: 7.85 s, total: 3min 8s\n",
      "Wall time: 3min 14s\n"
     ]
    }
   ],
   "source": [
    "%%time\n",
    "vectorizer = TfidfVectorizer(min_df=5, ngram_range=(1,5), analyzer='char', lowercase=False)\n",
    "\n",
    "vectors = vectorizer.fit_transform(text_fragments)"
   ]
  },
  {
   "cell_type": "code",
   "execution_count": 37,
   "metadata": {
    "collapsed": false,
    "deletable": true,
    "editable": true
   },
   "outputs": [
    {
     "data": {
      "text/plain": [
       "(33000, 453674)"
      ]
     },
     "execution_count": 37,
     "metadata": {},
     "output_type": "execute_result"
    }
   ],
   "source": [
    "vectors.shape"
   ]
  },
  {
   "cell_type": "code",
   "execution_count": null,
   "metadata": {
    "collapsed": false,
    "deletable": true,
    "editable": true
   },
   "outputs": [],
   "source": [
    "from sklearn.naive_bayes import MultinomialNB\n",
    "from sklearn.model_selection import train_test_split\n",
    "from sklearn.svm import SVC\n",
    "\n",
    "nb = MultinomialNB(fit_prior=False, alpha=0.001)\n",
    "# svm = SVC(kernel='linear', probability=True)\n",
    "\n",
    "X_train, X_test, y_train, y_test = train_test_split(vectors, label_fragments, test_size=0.1)"
   ]
  },
  {
   "cell_type": "code",
   "execution_count": null,
   "metadata": {
    "collapsed": false,
    "deletable": true,
    "editable": true
   },
   "outputs": [],
   "source": [
    "%%time\n",
    "nb.fit(X_train, y_train)"
   ]
  },
  {
   "cell_type": "code",
   "execution_count": null,
   "metadata": {
    "collapsed": false,
    "deletable": true,
    "editable": true
   },
   "outputs": [],
   "source": [
    "%%time\n",
    "from sklearn.metrics import accuracy_score\n",
    "preds = nb.predict(X_test)\n",
    "\n",
    "print(accuracy_score(y_test, preds))"
   ]
  },
  {
   "cell_type": "code",
   "execution_count": null,
   "metadata": {
    "collapsed": false
   },
   "outputs": [],
   "source": [
    "with open(\"/data/panstuffs/pan15-authorship-verification-training-dataset-english-2015-04-19/EN001/known01.txt\") as f:\n",
    "    k1 = f.read()\n",
    "\n",
    "with open(\"/data/panstuffs/pan15-authorship-verification-training-dataset-english-2015-04-19/EN001/unknown.txt\") as f:\n",
    "    u1 = f.read()\n",
    "\n",
    "vk1 = vectorizer.transform([k1])\n",
    "vu1 = vectorizer.transform([u1])"
   ]
  },
  {
   "cell_type": "code",
   "execution_count": null,
   "metadata": {
    "collapsed": false
   },
   "outputs": [],
   "source": [
    "pdfk = nb.predict_proba(vk1)\n",
    "pdfu = nb.predict_proba(vu1)"
   ]
  },
  {
   "cell_type": "code",
   "execution_count": null,
   "metadata": {
    "collapsed": false
   },
   "outputs": [],
   "source": [
    "print(np.abs(pdfk[0] - pdfu[0]).tolist())"
   ]
  },
  {
   "cell_type": "code",
   "execution_count": null,
   "metadata": {
    "collapsed": false,
    "deletable": true,
    "editable": true
   },
   "outputs": [],
   "source": [
    "preds[:10]"
   ]
  },
  {
   "cell_type": "code",
   "execution_count": null,
   "metadata": {
    "collapsed": false
   },
   "outputs": [],
   "source": [
    "y_test[:10]"
   ]
  },
  {
   "cell_type": "code",
   "execution_count": null,
   "metadata": {
    "collapsed": false
   },
   "outputs": [],
   "source": []
  },
  {
   "cell_type": "code",
   "execution_count": null,
   "metadata": {
    "collapsed": true
   },
   "outputs": [],
   "source": [
    "def read_file(filepath):\n",
    "    with open(filepath) as f:\n",
    "        s = f.read()\n",
    "    return s\n",
    "\n",
    "def load_pan_data(directory, prefix=\"E\"):\n",
    "    \"\"\"Load known and unknown texts in the PAN data format\"\"\"\n",
    "    # FIXME: assumes one known file per author, which is fine for English datasets only\n",
    "    authors = sorted([x for x in os.listdir(directory) if x.startswith(prefix)])\n",
    "    known_texts = []\n",
    "    unknown_texts = []\n",
    "    for author in authors:\n",
    "        kf = os.path.join(directory, author, \"known01.txt\")\n",
    "        uf = os.path.join(directory, author, \"unknown.txt\")\n",
    "        known_texts.append(read_file(kf))\n",
    "        unknown_texts.append(read_file(uf))\n",
    "        \n",
    "    truthfile = os.path.join(directory, \"truth.txt\")\n",
    "    with open(truthfile) as f:\n",
    "        lines = f.read().strip().split(\"\\n\")\n",
    "    y = [1 if line.split()[1] == \"Y\" else 0 for line in lines]\n",
    "    y = np.array(y)\n",
    "    return known_texts, unknown_texts, y"
   ]
  },
  {
   "cell_type": "code",
   "execution_count": null,
   "metadata": {
    "collapsed": true
   },
   "outputs": [],
   "source": [
    "# paths to PAN datasets, available from http://pan.webis.de/clef15/pan15-web/author-identification.html\n",
    "# and http://pan.webis.de/clef14/pan14-web/author-identification.html\n",
    "pan15train = \"/data/panstuffs/pan15-authorship-verification-training-dataset-english-2015-04-19/\"\n",
    "pan15test = \"/data/panstuffs/pan15-authorship-verification-test-dataset2-english-2015-04-19/\"\n",
    "pan14train = \"/data/panstuffs/pan14-author-verification-training-corpus-english-novels-2014-04-22/\"\n",
    "pan14test = \"/data/panstuffs/pan14-author-verification-test-corpus2-english-novels-2014-04-22/\"\n",
    "pan14train_e = \"/data/panstuffs/pan14-author-verification-training-corpus-english-essays-2014-04-22/\"\n",
    "pan14test_e = \"/data/panstuffs/pan14-author-verification-test-corpus2-english-essays-2014-04-22/\""
   ]
  },
  {
   "cell_type": "code",
   "execution_count": null,
   "metadata": {
    "collapsed": false
   },
   "outputs": [],
   "source": [
    "p15tr_known, p15tr_unknown, p15tr_labels = load_pan_data(pan15train)"
   ]
  },
  {
   "cell_type": "code",
   "execution_count": null,
   "metadata": {
    "collapsed": true
   },
   "outputs": [],
   "source": [
    "p15te_known, p15te_unknown, p15te_labels = load_pan_data(pan15test)"
   ]
  },
  {
   "cell_type": "code",
   "execution_count": null,
   "metadata": {
    "collapsed": true
   },
   "outputs": [],
   "source": [
    "p15tr_known_v = vectorizer.transform(p15tr_known)\n",
    "p15tr_unknown_v = vectorizer.transform(p15tr_unknown)"
   ]
  },
  {
   "cell_type": "code",
   "execution_count": null,
   "metadata": {
    "collapsed": false
   },
   "outputs": [],
   "source": [
    "def get_prob_dist_diff(knowns, unknowns, vectorizer, classifier):\n",
    "    known_vecs = vectorizer.transform(knowns)\n",
    "    unknown_vecs = vectorizer.transform(unknowns)\n",
    "    \n",
    "    known_probs = classifier.predict_proba(known_vecs)\n",
    "    unknown_probs = classifier.predict_proba(unknown_vecs)\n",
    "    \n",
    "    diffs = np.abs(known_probs - unknown_probs)\n",
    "    return diffs\n",
    "\n",
    "diffs = get_prob_dist_diff(p15tr_known, p15tr_unknown, vectorizer, nb)\n",
    "    \n",
    "    "
   ]
  },
  {
   "cell_type": "code",
   "execution_count": null,
   "metadata": {
    "collapsed": false
   },
   "outputs": [],
   "source": [
    "from sklearn.svm import SVC, LinearSVC\n",
    "from sklearn.model_selection import cross_val_score\n",
    "\n",
    "\n",
    "pclf = LinearSVC()\n",
    "pclf.fit(diffs, p15tr_labels)\n",
    "# cross_val_score(pclf, diffs, p15tr_labels)"
   ]
  },
  {
   "cell_type": "code",
   "execution_count": null,
   "metadata": {
    "collapsed": false
   },
   "outputs": [],
   "source": [
    "te_diffs = get_prob_dist_diff(p15te_known, p15te_unknown, vectorizer, nb)"
   ]
  },
  {
   "cell_type": "code",
   "execution_count": null,
   "metadata": {
    "collapsed": false
   },
   "outputs": [],
   "source": [
    "from sklearn.metrics import classification_report\n",
    "preds = pclf.predict(te_diffs)\n",
    "print(classification_report(p15te_labels, preds))"
   ]
  },
  {
   "cell_type": "code",
   "execution_count": null,
   "metadata": {
    "collapsed": false
   },
   "outputs": [],
   "source": [
    "from collections import Counter\n",
    "Counter(preds)"
   ]
  },
  {
   "cell_type": "code",
   "execution_count": null,
   "metadata": {
    "collapsed": true
   },
   "outputs": [],
   "source": []
  }
 ],
 "metadata": {
  "kernelspec": {
   "display_name": "Python 3",
   "language": "python",
   "name": "python3"
  },
  "language_info": {
   "codemirror_mode": {
    "name": "ipython",
    "version": 3
   },
   "file_extension": ".py",
   "mimetype": "text/x-python",
   "name": "python",
   "nbconvert_exporter": "python",
   "pygments_lexer": "ipython3",
   "version": "3.6.0"
  }
 },
 "nbformat": 4,
 "nbformat_minor": 2
}
