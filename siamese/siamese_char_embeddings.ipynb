{
 "cells": [
  {
   "cell_type": "code",
   "execution_count": 1,
   "metadata": {
    "collapsed": true,
    "deletable": true,
    "editable": true
   },
   "outputs": [],
   "source": [
    "import os\n",
    "import numpy as np\n",
    "import textacy\n",
    "from spacy.en import English\n",
    "\n",
    "nlp = English()"
   ]
  },
  {
   "cell_type": "code",
   "execution_count": 2,
   "metadata": {
    "collapsed": false,
    "deletable": true,
    "editable": true
   },
   "outputs": [],
   "source": [
    "class TextPair:\n",
    "    def __init__(self, author, known, unknown, max_length=1200):\n",
    "        self.author = author\n",
    "        self.known = known\n",
    "        self.unknown = unknown\n",
    "        self.max_length = max_length\n",
    "\n",
    "def get_string(filename):\n",
    "    with open(filename, encoding=\"utf8\") as f:\n",
    "        s = f.read()\n",
    "    return s\n",
    "\n",
    "def get_texts(directory):\n",
    "    authors = [x for x in os.listdir(directory) if x.startswith(\"EN\")]\n",
    "    tps = []\n",
    "    for author in authors:\n",
    "        known = os.path.join(directory, author, \"known01.txt\")\n",
    "        unknown = os.path.join(directory, author, \"unknown.txt\")\n",
    "        tps.append(TextPair(author, get_string(known), get_string(unknown)))\n",
    "    return tps\n",
    "\n",
    "def get_data(directory):\n",
    "    # read all texts into known, unknown pairs\n",
    "    tps = get_texts(directory)\n",
    "    \n",
    "\n",
    "    return tps, y\n",
    "\n",
    "def load_pan_data(directory, prefix=\"E\"):\n",
    "    \"\"\"Load known and unknown texts in the PAN data format\"\"\"\n",
    "    # FIXME: assumes one known file per author, which is fine for English datasets only\n",
    "    authors = sorted([x for x in os.listdir(directory) if x.startswith(prefix)])\n",
    "    known_texts = []\n",
    "    unknown_texts = []\n",
    "    for author in authors:\n",
    "        kf = os.path.join(directory, author, \"known01.txt\")\n",
    "        uf = os.path.join(directory, author, \"unknown.txt\")\n",
    "        known_texts.append(read_file(kf))\n",
    "        unknown_texts.append(read_file(uf))\n",
    "        \n",
    "    truthfile = os.path.join(directory, \"truth.txt\")\n",
    "    with open(truthfile) as f:\n",
    "        lines = f.read().strip().split(\"\\n\")\n",
    "    y = [1 if line.split()[1] == \"Y\" else 0 for line in lines]\n",
    "    return known_texts, unknown_texts, y"
   ]
  },
  {
   "cell_type": "code",
   "execution_count": 3,
   "metadata": {
    "collapsed": true,
    "deletable": true,
    "editable": true
   },
   "outputs": [],
   "source": [
    "pan15train = \"/data/pan15-authorship-verification-training-dataset-english-2015-04-19/\"\n",
    "pan15test = \"/data/pan15-authorship-verification-test-dataset2-english-2015-04-19/\"\n",
    "pan14traine = \"/data/pan14-author-verification-training-corpus-english-essays-2014-04-22/\"\n",
    "pan14teste = \"/data/pan14-author-verification-test-corpus2-english-essays-2014-04-22/\"\n",
    "pan14trainn = \"/data/pan14-author-verification-training-corpus-english-novels-2014-04-22/\"\n",
    "pan14testn = \"/data/pan14-author-verification-test-corpus2-english-novels-2014-04-22/\""
   ]
  },
  {
   "cell_type": "code",
   "execution_count": 4,
   "metadata": {
    "collapsed": false,
    "deletable": true,
    "editable": true
   },
   "outputs": [
    {
     "ename": "FileNotFoundError",
     "evalue": "[Errno 2] No such file or directory: '/data/pan15-authorship-verification-training-dataset-english-2015-04-19/'",
     "output_type": "error",
     "traceback": [
      "\u001b[0;31m---------------------------------------------------------------------------\u001b[0m",
      "\u001b[0;31mFileNotFoundError\u001b[0m                         Traceback (most recent call last)",
      "\u001b[0;32m<ipython-input-4-e69551873fe7>\u001b[0m in \u001b[0;36m<module>\u001b[0;34m()\u001b[0m\n\u001b[0;32m----> 1\u001b[0;31m \u001b[0mX_train\u001b[0m\u001b[0;34m,\u001b[0m \u001b[0my_train\u001b[0m \u001b[0;34m=\u001b[0m \u001b[0mget_data\u001b[0m\u001b[0;34m(\u001b[0m\u001b[0mpan15train\u001b[0m\u001b[0;34m)\u001b[0m\u001b[0;34m\u001b[0m\u001b[0m\n\u001b[0m\u001b[1;32m      2\u001b[0m \u001b[0mX_test\u001b[0m\u001b[0;34m,\u001b[0m \u001b[0my_test\u001b[0m \u001b[0;34m=\u001b[0m \u001b[0mget_data\u001b[0m\u001b[0;34m(\u001b[0m\u001b[0mpan15test\u001b[0m\u001b[0;34m)\u001b[0m\u001b[0;34m\u001b[0m\u001b[0m\n",
      "\u001b[0;32m<ipython-input-2-9cd23f9102a1>\u001b[0m in \u001b[0;36mget_data\u001b[0;34m(directory)\u001b[0m\n\u001b[1;32m     22\u001b[0m \u001b[0;32mdef\u001b[0m \u001b[0mget_data\u001b[0m\u001b[0;34m(\u001b[0m\u001b[0mdirectory\u001b[0m\u001b[0;34m)\u001b[0m\u001b[0;34m:\u001b[0m\u001b[0;34m\u001b[0m\u001b[0m\n\u001b[1;32m     23\u001b[0m     \u001b[0;31m# read all texts into known, unknown pairs\u001b[0m\u001b[0;34m\u001b[0m\u001b[0;34m\u001b[0m\u001b[0m\n\u001b[0;32m---> 24\u001b[0;31m     \u001b[0mtps\u001b[0m \u001b[0;34m=\u001b[0m \u001b[0mget_texts\u001b[0m\u001b[0;34m(\u001b[0m\u001b[0mdirectory\u001b[0m\u001b[0;34m)\u001b[0m\u001b[0;34m\u001b[0m\u001b[0m\n\u001b[0m\u001b[1;32m     25\u001b[0m \u001b[0;34m\u001b[0m\u001b[0m\n\u001b[1;32m     26\u001b[0m \u001b[0;34m\u001b[0m\u001b[0m\n",
      "\u001b[0;32m<ipython-input-2-9cd23f9102a1>\u001b[0m in \u001b[0;36mget_texts\u001b[0;34m(directory)\u001b[0m\n\u001b[1;32m     12\u001b[0m \u001b[0;34m\u001b[0m\u001b[0m\n\u001b[1;32m     13\u001b[0m \u001b[0;32mdef\u001b[0m \u001b[0mget_texts\u001b[0m\u001b[0;34m(\u001b[0m\u001b[0mdirectory\u001b[0m\u001b[0;34m)\u001b[0m\u001b[0;34m:\u001b[0m\u001b[0;34m\u001b[0m\u001b[0m\n\u001b[0;32m---> 14\u001b[0;31m     \u001b[0mauthors\u001b[0m \u001b[0;34m=\u001b[0m \u001b[0;34m[\u001b[0m\u001b[0mx\u001b[0m \u001b[0;32mfor\u001b[0m \u001b[0mx\u001b[0m \u001b[0;32min\u001b[0m \u001b[0mos\u001b[0m\u001b[0;34m.\u001b[0m\u001b[0mlistdir\u001b[0m\u001b[0;34m(\u001b[0m\u001b[0mdirectory\u001b[0m\u001b[0;34m)\u001b[0m \u001b[0;32mif\u001b[0m \u001b[0mx\u001b[0m\u001b[0;34m.\u001b[0m\u001b[0mstartswith\u001b[0m\u001b[0;34m(\u001b[0m\u001b[0;34m\"EN\"\u001b[0m\u001b[0;34m)\u001b[0m\u001b[0;34m]\u001b[0m\u001b[0;34m\u001b[0m\u001b[0m\n\u001b[0m\u001b[1;32m     15\u001b[0m     \u001b[0mtps\u001b[0m \u001b[0;34m=\u001b[0m \u001b[0;34m[\u001b[0m\u001b[0;34m]\u001b[0m\u001b[0;34m\u001b[0m\u001b[0m\n\u001b[1;32m     16\u001b[0m     \u001b[0;32mfor\u001b[0m \u001b[0mauthor\u001b[0m \u001b[0;32min\u001b[0m \u001b[0mauthors\u001b[0m\u001b[0;34m:\u001b[0m\u001b[0;34m\u001b[0m\u001b[0m\n",
      "\u001b[0;31mFileNotFoundError\u001b[0m: [Errno 2] No such file or directory: '/data/pan15-authorship-verification-training-dataset-english-2015-04-19/'"
     ]
    }
   ],
   "source": [
    "X_train, y_train = get_data(pan15train)\n",
    "X_test, y_test = get_data(pan15test)"
   ]
  },
  {
   "cell_type": "code",
   "execution_count": null,
   "metadata": {
    "collapsed": false,
    "deletable": true,
    "editable": true
   },
   "outputs": [],
   "source": [
    "with open(\"glove.840B.300d-char.txt\") as f:\n",
    "    nlp.vocab.load_vectors(f)\n",
    "    \n",
    "nlp_word = English()"
   ]
  },
  {
   "cell_type": "code",
   "execution_count": null,
   "metadata": {
    "collapsed": false,
    "deletable": true,
    "editable": true
   },
   "outputs": [],
   "source": [
    "def vectorize_distances(tps):\n",
    "    for i in range(len(tps)):\n",
    "        tps[i].known = nlp(tps[i].known)\n",
    "        tps[i].unknown = nlp(tps[i].unknown)\n",
    "    for i in range(len(tps)):\n",
    "        w2v = textacy.similarity.word2vec(tps[i].known, tps[i].unknown)\n",
    "        wm = textacy.similarity.word_movers(tps[i].known, tps[i].unknown)\n",
    "        jc = textacy.similarity.jaccard(str(tps[i].known), str(tps[i].unknown))\n",
    "        hm = textacy.similarity.hamming(str(tps[i].known), str(tps[i].unknown))\n",
    "        jw = textacy.similarity.jaro_winkler(str(tps[i].known), str(tps[i].unknown))\n",
    "        le = textacy.similarity.levenshtein(str(tps[i].known), str(tps[i].unknown))\n",
    "        ts = textacy.similarity.token_sort_ratio(str(tps[i].known), str(tps[i].unknown))\n",
    "        tps[i].distances = [w2v, wm, jc, hm, jw, le, ts]\n",
    "    return tps\n"
   ]
  },
  {
   "cell_type": "code",
   "execution_count": null,
   "metadata": {
    "collapsed": false,
    "deletable": true,
    "editable": true
   },
   "outputs": [],
   "source": [
    "def vectorize_text(str_text):\n",
    "    return nlp(str_text, entity=False, tag=False, parse=False).vector\n",
    "    return np.hstack([nlp(str_text, entity=False, tag=False, parse=False).vector, \n",
    "                      nlp_word(str_text, entity=False, tag=False, parse=False).vector])\n",
    "\n",
    "X_train_known = [vectorize_text(x.known) for x in X_train]\n",
    "X_train_unknown = [vectorize_text(x.unknown) for x in X_train]\n",
    "X_test_known = [vectorize_text(x.known) for x in X_test]\n",
    "X_test_unknown = [vectorize_text(x.unknown) for x in X_test]"
   ]
  },
  {
   "cell_type": "code",
   "execution_count": null,
   "metadata": {
    "collapsed": false,
    "deletable": true,
    "editable": true
   },
   "outputs": [],
   "source": [
    "X_train_known[0].shape"
   ]
  },
  {
   "cell_type": "code",
   "execution_count": null,
   "metadata": {
    "collapsed": false,
    "deletable": true,
    "editable": true
   },
   "outputs": [],
   "source": [
    "import string\n",
    "from collections import Counter\n",
    "\n",
    "def _vectorize(str_text):\n",
    "    alphabet = string.ascii_lowercase + \"!?:;,.'- \"\n",
    "    processed = nlp(str_text, entity=False, tag=True, parse=True)\n",
    "    stats = textacy.text_stats.TextStats(processed).basic_counts\n",
    "    s_keys = ['n_long_words', 'n_monosyllable_words', 'n_polysyllable_words', 'n_sents', \n",
    "              'n_syllables', 'n_unique_words', 'n_words']\n",
    "    tag_keys = ['ADJ', 'ADP', 'ADV', 'CCONJ', 'DET', 'INTJ', 'NOUN', 'NUM', 'PART', 'PRON', 'PROPN', 'PUNCT', 'SPACE', 'SYM', 'VERB', 'X']\n",
    "    tag_keys_set = set(tag_keys)\n",
    "    \n",
    "    ratio_stats = [(key, stats[key] / len(str_text)) for key in s_keys]\n",
    "    \n",
    "    lower_text_ratios = Counter(''.join(filter(lambda x: x in alphabet, str_text.lower() + alphabet)))\n",
    "    for key in lower_text_ratios:\n",
    "        lower_text_ratios[key] /= len(str_text)\n",
    "    \n",
    "    lower_text_ratios = [(key, lower_text_ratios[key]) for key in sorted(list(lower_text_ratios.keys()))]\n",
    "\n",
    "    new_tags = set([word.pos_ for word in processed if word.pos_ not in tag_keys_set])\n",
    "    if len(new_tags) > 0:\n",
    "        print(new_tags)\n",
    "    tags = [word.pos_ for word in processed if word.pos_ in tag_keys_set] + tag_keys\n",
    "    tag_counter_ratios = Counter(tags)\n",
    "    for key in tag_counter_ratios:\n",
    "        tag_counter_ratios[key] /= len(processed)\n",
    "    \n",
    "    tag_counter_ratios = [(key, tag_counter_ratios[key]) for key in sorted(list(tag_counter_ratios.keys()))]\n",
    "    \n",
    "    return ratio_stats + lower_text_ratios + tag_counter_ratios\n",
    "        \n",
    "def vectorize(str_text):\n",
    "    vecs = _vectorize(str_text)\n",
    "    return np.array([x[1] for x in vecs])\n",
    "    \n",
    "    "
   ]
  },
  {
   "cell_type": "code",
   "execution_count": 463,
   "metadata": {
    "collapsed": false,
    "deletable": true,
    "editable": true
   },
   "outputs": [],
   "source": [
    "X_train_known = [vectorize(x.known) for x in X_train]\n",
    "X_train_unknown = [vectorize(x.unknown) for x in X_train]\n",
    "X_test_known = [vectorize(x.known) for x in X_test]\n",
    "X_test_unknown = [vectorize(x.unknown) for x in X_test]"
   ]
  },
  {
   "cell_type": "code",
   "execution_count": 466,
   "metadata": {
    "collapsed": false,
    "deletable": true,
    "editable": true
   },
   "outputs": [
    {
     "data": {
      "text/plain": [
       "(58,)"
      ]
     },
     "execution_count": 466,
     "metadata": {},
     "output_type": "execute_result"
    }
   ],
   "source": [
    "X_test_known[2].shape"
   ]
  },
  {
   "cell_type": "code",
   "execution_count": 382,
   "metadata": {
    "collapsed": false,
    "deletable": true,
    "editable": true
   },
   "outputs": [
    {
     "data": {
      "text/plain": [
       "set()"
      ]
     },
     "execution_count": 382,
     "metadata": {},
     "output_type": "execute_result"
    }
   ],
   "source": [
    "set([x[0] for x in test[0]]) - set([x[0] for x in test[1]])"
   ]
  },
  {
   "cell_type": "code",
   "execution_count": null,
   "metadata": {
    "collapsed": false,
    "deletable": true,
    "editable": true
   },
   "outputs": [],
   "source": [
    "mean_known = [0] * 7\n",
    "mean_unknown = [0] * 7\n",
    "print(mean_known)\n",
    "for i, p in enumerate(X_train):\n",
    "    for j, dm in enumerate(p.distances):\n",
    "        if y_train[i] == 1:\n",
    "            mean_known[j] += dm\n",
    "        else:\n",
    "            mean_unknown[j] += dm\n",
    "            \n",
    "    \n",
    "print(mean_known)\n",
    "print(mean_unknown)\n",
    "    "
   ]
  },
  {
   "cell_type": "code",
   "execution_count": null,
   "metadata": {
    "collapsed": false,
    "deletable": true,
    "editable": true
   },
   "outputs": [],
   "source": [
    "tr_pairs = [tp.distances for i, tp in enumerate(X_train)]\n",
    "te_pairs = [tp.distances for i, tp in enumerate(X_test)]"
   ]
  },
  {
   "cell_type": "code",
   "execution_count": 109,
   "metadata": {
    "collapsed": false,
    "deletable": true,
    "editable": true
   },
   "outputs": [
    {
     "name": "stdout",
     "output_type": "stream",
     "text": [
      "0.48\n"
     ]
    }
   ],
   "source": [
    "from sklearn.tree import DecisionTreeClassifier\n",
    "from sklearn.svm import SVC\n",
    "from sklearn.model_selection import cross_val_score\n",
    "from sklearn.metrics import accuracy_score\n",
    "from statistics import mean\n",
    "Xs = [X_train_known[i] - X_train_unknown[i] for i in range(len(X_train_known))]\n",
    "print(mean(cross_val_score(DecisionTreeClassifier(), Xs, tr_y, cv=5)))\n",
    "# DecisionTreeClassifier().fit(tr_pairs, y_train)\n",
    "# preds = clf.predict(te_pairs)\n",
    "# accuracy_score(y_test, preds)"
   ]
  },
  {
   "cell_type": "code",
   "execution_count": 728,
   "metadata": {
    "collapsed": false,
    "deletable": true,
    "editable": true
   },
   "outputs": [
    {
     "ename": "AttributeError",
     "evalue": "'str' object has no attribute 'vector'",
     "output_type": "error",
     "traceback": [
      "\u001b[0;31m---------------------------------------------------------------------------\u001b[0m",
      "\u001b[0;31mAttributeError\u001b[0m                            Traceback (most recent call last)",
      "\u001b[0;32m<ipython-input-728-9c8775a4a7b3>\u001b[0m in \u001b[0;36m<module>\u001b[0;34m()\u001b[0m\n\u001b[0;32m----> 1\u001b[0;31m \u001b[0mtrain_known_X\u001b[0m \u001b[0;34m=\u001b[0m \u001b[0;34m[\u001b[0m\u001b[0mx\u001b[0m\u001b[0;34m.\u001b[0m\u001b[0mknown\u001b[0m\u001b[0;34m.\u001b[0m\u001b[0mvector\u001b[0m \u001b[0;32mfor\u001b[0m \u001b[0mx\u001b[0m \u001b[0;32min\u001b[0m \u001b[0mX_train\u001b[0m\u001b[0;34m]\u001b[0m\u001b[0;34m\u001b[0m\u001b[0m\n\u001b[0m\u001b[1;32m      2\u001b[0m \u001b[0mtrain_unknown_X\u001b[0m \u001b[0;34m=\u001b[0m \u001b[0;34m[\u001b[0m\u001b[0mx\u001b[0m\u001b[0;34m.\u001b[0m\u001b[0munknown\u001b[0m\u001b[0;34m.\u001b[0m\u001b[0mvector\u001b[0m \u001b[0;32mfor\u001b[0m \u001b[0mx\u001b[0m \u001b[0;32min\u001b[0m \u001b[0mX_train\u001b[0m\u001b[0;34m]\u001b[0m\u001b[0;34m\u001b[0m\u001b[0m\n\u001b[1;32m      3\u001b[0m \u001b[0mtest_known_X\u001b[0m \u001b[0;34m=\u001b[0m \u001b[0;34m[\u001b[0m\u001b[0mx\u001b[0m\u001b[0;34m.\u001b[0m\u001b[0mknown\u001b[0m\u001b[0;34m.\u001b[0m\u001b[0mvector\u001b[0m \u001b[0;32mfor\u001b[0m \u001b[0mx\u001b[0m \u001b[0;32min\u001b[0m \u001b[0mX_test\u001b[0m\u001b[0;34m]\u001b[0m\u001b[0;34m\u001b[0m\u001b[0m\n\u001b[1;32m      4\u001b[0m \u001b[0mtest_unknown_X\u001b[0m \u001b[0;34m=\u001b[0m \u001b[0;34m[\u001b[0m\u001b[0mx\u001b[0m\u001b[0;34m.\u001b[0m\u001b[0munknown\u001b[0m\u001b[0;34m.\u001b[0m\u001b[0mvector\u001b[0m \u001b[0;32mfor\u001b[0m \u001b[0mx\u001b[0m \u001b[0;32min\u001b[0m \u001b[0mX_test\u001b[0m\u001b[0;34m]\u001b[0m\u001b[0;34m\u001b[0m\u001b[0m\n",
      "\u001b[0;32m<ipython-input-728-9c8775a4a7b3>\u001b[0m in \u001b[0;36m<listcomp>\u001b[0;34m(.0)\u001b[0m\n\u001b[0;32m----> 1\u001b[0;31m \u001b[0mtrain_known_X\u001b[0m \u001b[0;34m=\u001b[0m \u001b[0;34m[\u001b[0m\u001b[0mx\u001b[0m\u001b[0;34m.\u001b[0m\u001b[0mknown\u001b[0m\u001b[0;34m.\u001b[0m\u001b[0mvector\u001b[0m \u001b[0;32mfor\u001b[0m \u001b[0mx\u001b[0m \u001b[0;32min\u001b[0m \u001b[0mX_train\u001b[0m\u001b[0;34m]\u001b[0m\u001b[0;34m\u001b[0m\u001b[0m\n\u001b[0m\u001b[1;32m      2\u001b[0m \u001b[0mtrain_unknown_X\u001b[0m \u001b[0;34m=\u001b[0m \u001b[0;34m[\u001b[0m\u001b[0mx\u001b[0m\u001b[0;34m.\u001b[0m\u001b[0munknown\u001b[0m\u001b[0;34m.\u001b[0m\u001b[0mvector\u001b[0m \u001b[0;32mfor\u001b[0m \u001b[0mx\u001b[0m \u001b[0;32min\u001b[0m \u001b[0mX_train\u001b[0m\u001b[0;34m]\u001b[0m\u001b[0;34m\u001b[0m\u001b[0m\n\u001b[1;32m      3\u001b[0m \u001b[0mtest_known_X\u001b[0m \u001b[0;34m=\u001b[0m \u001b[0;34m[\u001b[0m\u001b[0mx\u001b[0m\u001b[0;34m.\u001b[0m\u001b[0mknown\u001b[0m\u001b[0;34m.\u001b[0m\u001b[0mvector\u001b[0m \u001b[0;32mfor\u001b[0m \u001b[0mx\u001b[0m \u001b[0;32min\u001b[0m \u001b[0mX_test\u001b[0m\u001b[0;34m]\u001b[0m\u001b[0;34m\u001b[0m\u001b[0m\n\u001b[1;32m      4\u001b[0m \u001b[0mtest_unknown_X\u001b[0m \u001b[0;34m=\u001b[0m \u001b[0;34m[\u001b[0m\u001b[0mx\u001b[0m\u001b[0;34m.\u001b[0m\u001b[0munknown\u001b[0m\u001b[0;34m.\u001b[0m\u001b[0mvector\u001b[0m \u001b[0;32mfor\u001b[0m \u001b[0mx\u001b[0m \u001b[0;32min\u001b[0m \u001b[0mX_test\u001b[0m\u001b[0;34m]\u001b[0m\u001b[0;34m\u001b[0m\u001b[0m\n",
      "\u001b[0;31mAttributeError\u001b[0m: 'str' object has no attribute 'vector'"
     ]
    }
   ],
   "source": [
    "train_known_X = [x.known.vector for x in X_train]\n",
    "train_unknown_X = [x.unknown.vector for x in X_train]\n",
    "test_known_X = [x.known.vector for x in X_test]\n",
    "test_unknown_X = [x.unknown.vector for x in X_test]"
   ]
  },
  {
   "cell_type": "code",
   "execution_count": 742,
   "metadata": {
    "collapsed": false,
    "deletable": true,
    "editable": true
   },
   "outputs": [
    {
     "data": {
      "text/plain": [
       "array([ -5.52522577e-02,   1.74158588e-01,  -1.76483214e-01,\n",
       "        -8.85840505e-02,   1.29719883e-01,   4.08793986e-02,\n",
       "         7.86556825e-02,  -1.42121196e-01,  -6.74955696e-02,\n",
       "         1.69537342e+00,  -2.27257267e-01,   9.35761556e-02,\n",
       "         7.33497217e-02,  -1.01602666e-01,  -1.77950189e-01,\n",
       "        -9.79227107e-03,  -5.61515801e-02,   9.61351156e-01,\n",
       "        -1.39031768e-01,   3.71302739e-02,   5.95916435e-02,\n",
       "        -1.60850491e-03,  -1.08479774e-02,  -3.60997170e-02,\n",
       "         2.40866765e-02,   2.02321466e-02,  -1.07352637e-01,\n",
       "        -3.64199281e-02,   1.56206682e-01,  -9.85744596e-02,\n",
       "        -5.13009243e-02,   6.27583042e-02,  -5.30031249e-02,\n",
       "         9.48655531e-02,   6.10492639e-02,  -6.70940615e-03,\n",
       "         6.48168921e-02,   1.25963047e-01,  -1.00306042e-01,\n",
       "        -2.60151234e-02,  -1.01310782e-01,  -1.35358749e-02,\n",
       "         1.89831760e-02,  -8.61115381e-02,   2.78201532e-02,\n",
       "         1.01727083e-01,  -1.11219011e-01,  -4.65128534e-02,\n",
       "         5.68935573e-02,   2.29191706e-02,  -3.65498848e-02,\n",
       "         6.25879392e-02,   2.21757535e-02,   1.92297660e-02,\n",
       "         3.00155170e-02,   4.80148681e-02,   2.02978775e-02,\n",
       "        -4.19194847e-02,   2.77998839e-02,  -1.69086624e-02,\n",
       "        -1.08467549e-01,  -1.79531537e-02,  -2.91455220e-02,\n",
       "         1.29197359e-01,   3.17669138e-02,  -8.59208256e-02,\n",
       "        -6.24724813e-02,   5.47457188e-02,   2.92387567e-02,\n",
       "         1.16281494e-01,  -6.38866946e-02,   4.71504107e-02,\n",
       "         1.26370907e-01,  -3.08358204e-02,   1.07488550e-01,\n",
       "         9.70924869e-02,   9.20711085e-02,  -3.96614447e-02,\n",
       "        -5.91656603e-02,   1.86176568e-01,  -4.78351936e-02,\n",
       "         1.15692802e-01,  -1.05855837e-01,   4.48240899e-02,\n",
       "        -2.22882275e-02,  -1.95072144e-01,   2.92849660e-01,\n",
       "        -2.24480122e-01,   2.49738917e-01,   4.61105704e-02,\n",
       "        -5.77183031e-02,  -8.73527548e-04,   3.98283303e-02,\n",
       "         1.04621099e-02,   7.45410845e-02,  -1.59409211e-03,\n",
       "        -6.30128384e-02,  -1.19389124e-01,  -1.23850964e-01,\n",
       "         2.49979272e-02,  -4.49224487e-02,   8.36450681e-02,\n",
       "        -1.17818490e-01,   1.54648554e-02,   7.62065202e-02,\n",
       "        -3.06035936e-01,   8.14706460e-02,  -4.81820107e-02,\n",
       "        -5.26835967e-04,   6.94411546e-02,   1.08707786e-01,\n",
       "        -1.58879980e-01,   1.50537163e-01,  -1.55098692e-01,\n",
       "         4.24342863e-02,  -1.71513446e-02,   7.40374848e-02,\n",
       "        -1.26890272e-01,  -1.78791175e-03,  -3.03520821e-02,\n",
       "         7.95811042e-02,  -3.64076570e-02,   1.39996512e-02,\n",
       "         3.42055894e-02,  -7.12464005e-03,   4.26436886e-02,\n",
       "         3.01185660e-02,  -5.95010631e-02,   8.33727792e-02,\n",
       "         1.51684005e-02,   2.96485629e-02,  -1.22217529e-01,\n",
       "        -8.07362646e-02,   5.70001360e-03,   1.07410602e-01,\n",
       "         4.57623526e-02,  -3.71899717e-02,  -4.03843708e-02,\n",
       "        -4.11722139e-02,  -1.27207134e-02,  -1.35744441e+00,\n",
       "         1.66940376e-01,   1.57480150e-01,  -3.75454221e-03,\n",
       "        -2.74939742e-02,  -1.79201476e-02,  -6.85071722e-02,\n",
       "         1.47897109e-01,  -1.04393713e-01,  -1.02435827e-01,\n",
       "         1.05929573e-03,   2.58284863e-02,   9.41180959e-02,\n",
       "        -5.93665900e-05,   7.99989514e-03,  -1.32282935e-02,\n",
       "        -2.53747068e-02,  -1.26829222e-01,   2.84495186e-02,\n",
       "        -6.66896850e-02,   2.73856148e-02,   1.41478265e-02,\n",
       "        -4.39107679e-02,  -6.02407288e-03,   1.02904532e-02,\n",
       "        -3.42327617e-02,   5.72479852e-02,  -8.00486952e-02,\n",
       "         7.86129907e-02,   8.98157805e-02,  -4.09359150e-02,\n",
       "        -4.62893285e-02,  -3.20730694e-02,  -1.09400839e-01,\n",
       "        -2.06358880e-02,   4.88982257e-03,  -6.24700971e-02,\n",
       "         7.49746943e-03,  -3.45933661e-02,  -2.45185513e-02,\n",
       "        -3.86938895e-03,  -7.33405054e-02,  -8.33368674e-02,\n",
       "        -6.63306937e-02,  -4.01454121e-02,  -3.40409912e-02,\n",
       "        -7.37254918e-02,  -5.22054322e-02,   5.88649660e-02,\n",
       "         4.69288975e-02,  -1.05418740e-02,   1.01411194e-02,\n",
       "        -1.05815101e-02,  -5.44193238e-02,   4.28341515e-03,\n",
       "         4.73615639e-02,  -2.31940597e-02,  -2.00882792e-01,\n",
       "         8.77339765e-02,   1.89591542e-01,  -5.29791042e-02,\n",
       "        -4.24882472e-02,  -2.49738749e-02,  -5.51430061e-02,\n",
       "         1.30373195e-01,  -6.14839718e-02,   4.72727045e-02,\n",
       "         3.59342992e-02,   2.50750855e-02,  -9.75698754e-02,\n",
       "        -3.40851396e-02,  -8.36170912e-02,  -6.26123697e-02,\n",
       "        -3.74222547e-02,   1.27536014e-01,   6.83498606e-02,\n",
       "         1.93211418e-02,   2.61483788e-02,  -1.32280126e-01,\n",
       "         5.64213544e-02,   1.33262509e-02,   4.69744913e-02,\n",
       "        -6.06141798e-02,   3.12143900e-02,   2.06484497e-02,\n",
       "         2.76178326e-02,  -6.89212680e-02,   1.08388089e-01,\n",
       "        -5.93938716e-02,  -7.99326599e-02,  -1.19775742e-01,\n",
       "         3.65175307e-03,   6.22957647e-02,   8.92579556e-02,\n",
       "        -7.76893944e-02,  -9.39435232e-03,  -6.21223226e-02,\n",
       "        -1.23935573e-01,  -1.14279993e-01,   1.01561338e-01,\n",
       "        -7.36288121e-03,   3.41638736e-02,  -2.95057101e-03,\n",
       "         4.36724201e-02,   9.40216333e-02,  -1.43449083e-01,\n",
       "        -6.42752796e-02,  -3.91600840e-02,  -1.03542209e-01,\n",
       "         2.05950499e-01,   4.09345590e-02,  -3.56027000e-02,\n",
       "        -1.22172996e-01,  -1.28284330e-02,   3.14079821e-02,\n",
       "         1.97462156e-01,   7.82521814e-03,  -7.11234435e-02,\n",
       "        -7.88357481e-02,   4.82103601e-02,   3.96129712e-02,\n",
       "         8.29169974e-02,   6.57180846e-02,   1.04480051e-01,\n",
       "        -6.93530543e-03,  -1.10705055e-01,  -4.07668389e-02,\n",
       "         5.57105951e-02,   1.59646109e-01,   9.40431803e-02,\n",
       "        -7.27436841e-02,  -4.16054130e-02,  -5.77589646e-02,\n",
       "         1.40763409e-02,  -1.76020876e-01,   4.98190001e-02,\n",
       "         3.04760728e-02,   2.94241104e-02,  -1.63235124e-02,\n",
       "         1.67636186e-01,   1.68671936e-01,  -5.44924438e-02,\n",
       "        -1.26740951e-02,  -9.56988037e-02,  -2.41994374e-02,\n",
       "        -8.07282478e-02,   1.64532691e-01,  -1.09189041e-01,\n",
       "         1.39416352e-01,   9.24176362e-04,  -1.15880139e-01,\n",
       "        -1.52188435e-03,  -8.24948251e-02,  -2.95906030e-02,\n",
       "         8.38845372e-02,  -2.60863639e-02,   1.24689238e-02,\n",
       "        -5.04126325e-02,  -5.66574326e-03,   6.19014911e-02], dtype=float32)"
      ]
     },
     "execution_count": 742,
     "metadata": {},
     "output_type": "execute_result"
    }
   ],
   "source": [
    "X_train_known[0]"
   ]
  },
  {
   "cell_type": "code",
   "execution_count": 540,
   "metadata": {
    "collapsed": false,
    "deletable": true,
    "editable": true
   },
   "outputs": [],
   "source": [
    "def create_pairs(knownX, unknownX):\n",
    "    pairs = []\n",
    "    for i in range(len(knownX)):\n",
    "        pairs += [[knownX[i], unknownX[i]]]\n",
    "    pairs = np.array(pairs)\n",
    "    print(pairs.shape)\n",
    "    return pairs"
   ]
  },
  {
   "cell_type": "code",
   "execution_count": 7,
   "metadata": {
    "collapsed": false,
    "deletable": true,
    "editable": true
   },
   "outputs": [
    {
     "ename": "NameError",
     "evalue": "name 'create_pairs' is not defined",
     "output_type": "error",
     "traceback": [
      "\u001b[0;31m---------------------------------------------------------------------------\u001b[0m",
      "\u001b[0;31mNameError\u001b[0m                                 Traceback (most recent call last)",
      "\u001b[0;32m<ipython-input-7-570ee4d979fa>\u001b[0m in \u001b[0;36m<module>\u001b[0;34m()\u001b[0m\n\u001b[0;32m----> 1\u001b[0;31m \u001b[0mtr_pairs\u001b[0m \u001b[0;34m=\u001b[0m \u001b[0mcreate_pairs\u001b[0m\u001b[0;34m(\u001b[0m\u001b[0mX_train_known\u001b[0m\u001b[0;34m,\u001b[0m \u001b[0mX_train_unknown\u001b[0m\u001b[0;34m)\u001b[0m\u001b[0;34m\u001b[0m\u001b[0m\n\u001b[0m\u001b[1;32m      2\u001b[0m \u001b[0mte_pairs\u001b[0m \u001b[0;34m=\u001b[0m \u001b[0mcreate_pairs\u001b[0m\u001b[0;34m(\u001b[0m\u001b[0mX_test_known\u001b[0m\u001b[0;34m,\u001b[0m \u001b[0mX_test_unknown\u001b[0m\u001b[0;34m)\u001b[0m\u001b[0;34m\u001b[0m\u001b[0m\n",
      "\u001b[0;31mNameError\u001b[0m: name 'create_pairs' is not defined"
     ]
    }
   ],
   "source": [
    "tr_pairs = create_pairs(X_train_known, X_train_unknown)\n",
    "te_pairs = create_pairs(X_test_known, X_test_unknown)"
   ]
  },
  {
   "cell_type": "code",
   "execution_count": 63,
   "metadata": {
    "collapsed": false,
    "deletable": true,
    "editable": true
   },
   "outputs": [],
   "source": [
    "tr_y = y_train\n",
    "te_y = y_test\n",
    "\n",
    "shuff_tr_y = tr_y[:]\n",
    "shuff_te_y = te_y[:]\n",
    "from random import shuffle\n",
    "shuffle(shuff_tr_y)\n",
    "shuffle(shuff_te_y)\n"
   ]
  },
  {
   "cell_type": "code",
   "execution_count": 162,
   "metadata": {
    "collapsed": true,
    "deletable": true,
    "editable": true
   },
   "outputs": [],
   "source": [
    "truthfile = os.path.join(pan15train, \"truth.txt\")\n",
    "with open(truthfile) as f:\n",
    "    lines = f.read().strip().split(\"\\n\")\n",
    "y = [1 if line.split()[1] == \"Y\" else 0 for line in lines]\n",
    "tr_y = np.array(y)"
   ]
  },
  {
   "cell_type": "code",
   "execution_count": 755,
   "metadata": {
    "collapsed": true,
    "deletable": true,
    "editable": true
   },
   "outputs": [],
   "source": [
    "te_y = y_test\n",
    "tr_y = y_train"
   ]
  },
  {
   "cell_type": "code",
   "execution_count": 756,
   "metadata": {
    "collapsed": false,
    "deletable": true,
    "editable": true
   },
   "outputs": [],
   "source": [
    "from __future__ import absolute_import\n",
    "from __future__ import print_function\n",
    "import numpy as np\n",
    "np.random.seed(1337)  # for reproducibility\n",
    "import random\n",
    "\n",
    "from keras.models import Sequential, Model\n",
    "from keras.layers import Dense, Input, Lambda\n",
    "from keras.optimizers import RMSprop\n",
    "from keras import backend as K\n",
    "\n",
    "def euclidean_distance(vects):\n",
    "    x, y = vects\n",
    "    return K.sqrt(K.sum(K.square(x - y), axis=1, keepdims=True))\n",
    "\n",
    "\n",
    "def eucl_dist_output_shape(shapes):\n",
    "    shape1, shape2 = shapes\n",
    "    return (shape1[0], 1)\n",
    "\n",
    "def contrastive_loss(y_true, y_pred):\n",
    "    '''Contrastive loss from Hadsell-et-al.'06\n",
    "    http://yann.lecun.com/exdb/publis/pdf/hadsell-chopra-lecun-06.pdf\n",
    "    '''\n",
    "    margin = 1\n",
    "    return K.mean(y_true * K.square(y_pred) + (1 - y_true) * K.square(K.maximum(margin - y_pred, 0)))\n",
    "\n",
    "def create_base_network(input_dim):\n",
    "    '''Base network to be shared (eq. to feature extraction).\n",
    "    '''\n",
    "    seq = Sequential()\n",
    "    seq.add(Dense(128, input_shape=(input_dim,), activation='relu'))\n",
    "    seq.add(Dense(128))\n",
    "    seq.add(Dense(128))\n",
    "    return seq\n",
    "\n",
    "def compute_accuracy(predictions, labels):\n",
    "    return np.mean(np.equal(predictions.ravel() < 0.5, labels))\n",
    "\n",
    "def train(tr_pairs, tr_y):\n",
    "    input_dim = tr_pairs.shape[-1]\n",
    "\n",
    "    # network definition\n",
    "    base_network = create_base_network(input_dim)\n",
    "\n",
    "    input_a = Input(shape=(input_dim,))\n",
    "    input_b = Input(shape=(input_dim,))\n",
    "\n",
    "    # because we re-use the same instance `base_network`,\n",
    "    # the weights of the network\n",
    "    # will be shared across the two branches\n",
    "    processed_a = base_network(input_a)\n",
    "    processed_b = base_network(input_b)\n",
    "    distance = Lambda(euclidean_distance, output_shape=eucl_dist_output_shape)([processed_a, processed_b])\n",
    "    model = Model(inputs=[input_a, input_b], outputs=distance)\n",
    "    \n",
    "    rms = RMSprop()\n",
    "    model.compile(loss=contrastive_loss, optimizer=rms)\n",
    "    model.fit([tr_pairs[:, 0], tr_pairs[:, 1]], tr_y,\n",
    "              validation_split=0.05,\n",
    "              batch_size=5,\n",
    "              epochs=35)\n",
    "    return model\n",
    "       \n",
    "def evaluate(model, tr_pairs, tr_y, te_pairs, te_y):\n",
    "    # compute final accuracy on training and test sets\n",
    "    pred = model.predict([tr_pairs[:, 0], tr_pairs[:, 1]])\n",
    "    tr_acc = compute_accuracy(pred, tr_y)\n",
    "    pred = model.predict([te_pairs[:, 0], te_pairs[:, 1]])\n",
    "    te_acc = compute_accuracy(pred, te_y)\n",
    "    print('* Accuracy on training set: %0.2f%%' % (100 * tr_acc))\n",
    "    print('* Accuracy on test set: %0.2f%%' % (100 * te_acc))"
   ]
  },
  {
   "cell_type": "code",
   "execution_count": 554,
   "metadata": {
    "collapsed": false,
    "deletable": true,
    "editable": true
   },
   "outputs": [
    {
     "name": "stdout",
     "output_type": "stream",
     "text": [
      "100\n"
     ]
    }
   ],
   "source": [
    "tr_y = y_train\n",
    "te_y = y_test\n",
    "\n",
    "print(len(tr_y))"
   ]
  },
  {
   "cell_type": "code",
   "execution_count": 757,
   "metadata": {
    "collapsed": false,
    "deletable": true,
    "editable": true
   },
   "outputs": [
    {
     "name": "stdout",
     "output_type": "stream",
     "text": [
      "Train on 95 samples, validate on 5 samples\n",
      "Epoch 1/35\n",
      "95/95 [==============================] - 0s - loss: 36.4861 - val_loss: 27.6374\b\b\b\b\b\b\b\b\b\b\b\b\b\b\b\b\b\b\b\b\b\b\b\b\b\b\b\b\b\b\b\b\b\b\b\b\b\b\b\b\b\b\b\b\b\b\b\b\b\b\b\b\b\b\b\b\b\b\b\b\b\b\b\b\b\b\b\b\b\b\b\b\b\b\b\b\b\b\b\b\b\b\b\b\b\b\b\b\b\b\b\b\b\b\b\b\b\b\b\b\b\b\b\b\b\b\b\b\b\b\b\b\b\n",
      "Epoch 2/35\n",
      "95/95 [==============================] - 0s - loss: 11.6386 - val_loss: 24.1654\b\b\b\b\b\b\b\b\b\b\b\b\b\b\b\b\b\b\b\b\b\b\b\b\b\b\b\b\b\b\b\b\b\b\b\b\b\b\b\b\b\b\b\b\b\b\b\b\b\b\b\b\b\b\b\b\b\b\b\b\b\b\b\b\b\b\b\b\b\b\b\b\b\b\b\b\b\b\b\b\b\b\b\b\b\b\b\b\b\b\b\b\b\b\b\b\b\b\b\b\b\b\b\b\b\b\b\b\b\b\b\n",
      "Epoch 3/35\n",
      "95/95 [==============================] - 0s - loss: 5.9530 - val_loss: 21.9502\b\b\b\b\b\b\b\b\b\b\b\b\b\b\b\b\b\b\b\b\b\b\b\b\b\b\b\b\b\b\b\b\b\b\b\b\b\b\b\b\b\b\b\b\b\b\b\b\b\b\b\b\b\b\b\b\b\b\b\b\b\b\b\b\b\b\b\b\b\b\b\b\b\b\b\b\b\b\b\b\b\b\b\b\b\b\b\b\b\b\b\b\b\b\b\b\b\b\b\b\b\b\b\b\b\b\b\b\b\b\b\n",
      "Epoch 4/35\n",
      "95/95 [==============================] - 0s - loss: 3.0999 - val_loss: 19.7873\b\b\b\b\b\b\b\b\b\b\b\b\b\b\b\b\b\b\b\b\b\b\b\b\b\b\b\b\b\b\b\b\b\b\b\b\b\b\b\b\b\b\b\b\b\b\b\b\b\b\b\b\b\b\b\b\b\b\b\b\b\b\b\b\b\b\b\b\b\b\b\b\b\b\b\b\b\b\b\b\b\b\b\b\b\b\b\b\b\b\b\b\b\b\b\b\b\b\b\b\b\b\b\b\b\b\b\b\b\b\b\n",
      "Epoch 5/35\n",
      "95/95 [==============================] - 0s - loss: 2.0858 - val_loss: 18.7038\b\b\b\b\b\b\b\b\b\b\b\b\b\b\b\b\b\b\b\b\b\b\b\b\b\b\b\b\b\b\b\b\b\b\b\b\b\b\b\b\b\b\b\b\b\b\b\b\b\b\b\b\b\b\b\b\b\b\b\b\b\b\b\b\b\b\b\b\b\b\b\b\b\b\b\b\b\b\b\b\b\b\b\b\b\b\b\b\b\b\b\b\b\b\b\b\b\b\b\b\b\b\b\b\b\b\b\b\b\b\b\n",
      "Epoch 6/35\n",
      "95/95 [==============================] - 0s - loss: 1.8295 - val_loss: 18.4451\b\b\b\b\b\b\b\b\b\b\b\b\b\b\b\b\b\b\b\b\b\b\b\b\b\b\b\b\b\b\b\b\b\b\b\b\b\b\b\b\b\b\b\b\b\b\b\b\b\b\b\b\b\b\b\b\b\b\b\b\b\b\b\b\b\b\b\b\b\b\b\b\b\b\b\b\b\b\b\b\b\b\b\b\b\b\b\b\b\b\b\b\b\b\b\b\b\b\b\b\b\b\b\b\b\b\b\b\b\b\b\n",
      "Epoch 7/35\n",
      "95/95 [==============================] - 0s - loss: 1.5545 - val_loss: 16.1047\b\b\b\b\b\b\b\b\b\b\b\b\b\b\b\b\b\b\b\b\b\b\b\b\b\b\b\b\b\b\b\b\b\b\b\b\b\b\b\b\b\b\b\b\b\b\b\b\b\b\b\b\b\b\b\b\b\b\b\b\b\b\b\b\b\b\b\b\b\b\b\b\b\b\b\b\b\b\b\b\b\b\b\b\b\b\b\b\b\b\b\b\b\b\b\b\b\b\b\b\b\b\b\b\b\b\b\b\b\b\b\n",
      "Epoch 8/35\n",
      "95/95 [==============================] - 0s - loss: 1.2822 - val_loss: 16.7763\b\b\b\b\b\b\b\b\b\b\b\b\b\b\b\b\b\b\b\b\b\b\b\b\b\b\b\b\b\b\b\b\b\b\b\b\b\b\b\b\b\b\b\b\b\b\b\b\b\b\b\b\b\b\b\b\b\b\b\b\b\b\b\b\b\b\b\b\b\b\b\b\b\b\b\b\b\b\b\b\b\b\b\b\b\b\b\b\b\b\b\b\b\b\b\b\b\b\b\b\b\b\b\b\b\b\b\b\b\b\b\n",
      "Epoch 9/35\n",
      "95/95 [==============================] - 0s - loss: 1.0291 - val_loss: 14.6661\b\b\b\b\b\b\b\b\b\b\b\b\b\b\b\b\b\b\b\b\b\b\b\b\b\b\b\b\b\b\b\b\b\b\b\b\b\b\b\b\b\b\b\b\b\b\b\b\b\b\b\b\b\b\b\b\b\b\b\b\b\b\b\b\b\b\b\b\b\b\b\b\b\b\b\b\b\b\b\b\b\b\b\b\b\b\b\b\b\b\b\b\b\b\b\b\b\b\b\b\b\b\b\b\b\b\b\b\b\b\b\n",
      "Epoch 10/35\n",
      "95/95 [==============================] - 0s - loss: 0.9205 - val_loss: 14.3152\b\b\b\b\b\b\b\b\b\b\b\b\b\b\b\b\b\b\b\b\b\b\b\b\b\b\b\b\b\b\b\b\b\b\b\b\b\b\b\b\b\b\b\b\b\b\b\b\b\b\b\b\b\b\b\b\b\b\b\b\b\b\b\b\b\b\b\b\b\b\b\b\b\b\b\b\b\b\b\b\b\b\b\b\b\b\b\b\b\b\b\b\b\b\b\b\b\b\b\b\b\b\b\b\b\b\b\b\b\b\b\n",
      "Epoch 11/35\n",
      "95/95 [==============================] - 0s - loss: 0.7782 - val_loss: 13.7606\b\b\b\b\b\b\b\b\b\b\b\b\b\b\b\b\b\b\b\b\b\b\b\b\b\b\b\b\b\b\b\b\b\b\b\b\b\b\b\b\b\b\b\b\b\b\b\b\b\b\b\b\b\b\b\b\b\b\b\b\b\b\b\b\b\b\b\b\b\b\b\b\b\b\b\b\b\b\b\b\b\b\b\b\b\b\b\b\b\b\b\b\b\b\b\b\b\b\b\b\b\b\b\b\b\b\b\b\b\b\b\n",
      "Epoch 12/35\n",
      "95/95 [==============================] - 0s - loss: 0.9524 - val_loss: 12.5040\b\b\b\b\b\b\b\b\b\b\b\b\b\b\b\b\b\b\b\b\b\b\b\b\b\b\b\b\b\b\b\b\b\b\b\b\b\b\b\b\b\b\b\b\b\b\b\b\b\b\b\b\b\b\b\b\b\b\b\b\b\b\b\b\b\b\b\b\b\b\b\b\b\b\b\b\b\b\b\b\b\b\b\b\b\b\b\b\b\b\b\b\b\b\b\b\b\b\b\b\b\b\b\b\b\b\b\b\b\b\b\n",
      "Epoch 13/35\n",
      "95/95 [==============================] - 0s - loss: 0.6521 - val_loss: 13.2606\b\b\b\b\b\b\b\b\b\b\b\b\b\b\b\b\b\b\b\b\b\b\b\b\b\b\b\b\b\b\b\b\b\b\b\b\b\b\b\b\b\b\b\b\b\b\b\b\b\b\b\b\b\b\b\b\b\b\b\b\b\b\b\b\b\b\b\b\b\b\b\b\b\b\b\b\b\b\b\b\b\b\b\b\b\b\b\b\b\b\b\b\b\b\b\b\b\b\b\b\b\b\b\b\b\b\b\b\b\b\b\n",
      "Epoch 14/35\n",
      "95/95 [==============================] - 0s - loss: 0.6995 - val_loss: 11.6216\b\b\b\b\b\b\b\b\b\b\b\b\b\b\b\b\b\b\b\b\b\b\b\b\b\b\b\b\b\b\b\b\b\b\b\b\b\b\b\b\b\b\b\b\b\b\b\b\b\b\b\b\b\b\b\b\b\b\b\b\b\b\b\b\b\b\b\b\b\b\b\b\b\b\b\b\b\b\b\b\b\b\b\b\b\b\b\b\b\b\b\b\b\b\b\b\b\b\b\b\b\b\b\b\b\b\b\b\b\b\b\n",
      "Epoch 15/35\n",
      "95/95 [==============================] - 0s - loss: 0.6411 - val_loss: 12.6052\b\b\b\b\b\b\b\b\b\b\b\b\b\b\b\b\b\b\b\b\b\b\b\b\b\b\b\b\b\b\b\b\b\b\b\b\b\b\b\b\b\b\b\b\b\b\b\b\b\b\b\b\b\b\b\b\b\b\b\b\b\b\b\b\b\b\b\b\b\b\b\b\b\b\b\b\b\b\b\b\b\b\b\b\b\b\b\b\b\b\b\b\b\b\b\b\b\b\b\b\b\b\b\b\b\b\b\b\b\b\b\n",
      "Epoch 16/35\n",
      "95/95 [==============================] - 0s - loss: 0.5867 - val_loss: 10.4015\b\b\b\b\b\b\b\b\b\b\b\b\b\b\b\b\b\b\b\b\b\b\b\b\b\b\b\b\b\b\b\b\b\b\b\b\b\b\b\b\b\b\b\b\b\b\b\b\b\b\b\b\b\b\b\b\b\b\b\b\b\b\b\b\b\b\b\b\b\b\b\b\b\b\b\b\b\b\b\b\b\b\b\b\b\b\b\b\b\b\b\b\b\b\b\b\b\b\b\b\b\b\b\b\b\b\b\b\b\b\b\n",
      "Epoch 17/35\n",
      "95/95 [==============================] - 0s - loss: 0.5773 - val_loss: 11.3416\b\b\b\b\b\b\b\b\b\b\b\b\b\b\b\b\b\b\b\b\b\b\b\b\b\b\b\b\b\b\b\b\b\b\b\b\b\b\b\b\b\b\b\b\b\b\b\b\b\b\b\b\b\b\b\b\b\b\b\b\b\b\b\b\b\b\b\b\b\b\b\b\b\b\b\b\b\b\b\b\b\b\b\b\b\b\b\b\b\b\b\b\b\b\b\b\b\b\b\b\b\b\b\b\b\b\b\b\b\b\b\n",
      "Epoch 18/35\n",
      "95/95 [==============================] - 0s - loss: 0.4717 - val_loss: 9.3984\b\b\b\b\b\b\b\b\b\b\b\b\b\b\b\b\b\b\b\b\b\b\b\b\b\b\b\b\b\b\b\b\b\b\b\b\b\b\b\b\b\b\b\b\b\b\b\b\b\b\b\b\b\b\b\b\b\b\b\b\b\b\b\b\b\b\b\b\b\b\b\b\b\b\b\b\b\b\b\b\b\b\b\b\b\b\b\b\b\b\b\b\b\b\b\b\b\b\b\b\b\b\b\b\b\b\b\b\b\b\b\b\n",
      "Epoch 19/35\n",
      "95/95 [==============================] - 0s - loss: 0.5209 - val_loss: 10.3377\b\b\b\b\b\b\b\b\b\b\b\b\b\b\b\b\b\b\b\b\b\b\b\b\b\b\b\b\b\b\b\b\b\b\b\b\b\b\b\b\b\b\b\b\b\b\b\b\b\b\b\b\b\b\b\b\b\b\b\b\b\b\b\b\b\b\b\b\b\b\b\b\b\b\b\b\b\b\b\b\b\b\b\b\b\b\b\b\b\b\b\b\b\b\b\b\b\b\b\b\b\b\b\b\b\b\b\b\b\b\b\n",
      "Epoch 20/35\n",
      "95/95 [==============================] - 0s - loss: 0.4820 - val_loss: 8.2663\b\b\b\b\b\b\b\b\b\b\b\b\b\b\b\b\b\b\b\b\b\b\b\b\b\b\b\b\b\b\b\b\b\b\b\b\b\b\b\b\b\b\b\b\b\b\b\b\b\b\b\b\b\b\b\b\b\b\b\b\b\b\b\b\b\b\b\b\b\b\b\b\b\b\b\b\b\b\b\b\b\b\b\b\b\b\b\b\b\b\b\b\b\b\b\b\b\b\b\b\b\b\b\b\b\b\b\b\b\b\b\b\n",
      "Epoch 21/35\n",
      "95/95 [==============================] - 0s - loss: 0.3841 - val_loss: 8.2074\b\b\b\b\b\b\b\b\b\b\b\b\b\b\b\b\b\b\b\b\b\b\b\b\b\b\b\b\b\b\b\b\b\b\b\b\b\b\b\b\b\b\b\b\b\b\b\b\b\b\b\b\b\b\b\b\b\b\b\b\b\b\b\b\b\b\b\b\b\b\b\b\b\b\b\b\b\b\b\b\b\b\b\b\b\b\b\b\b\b\b\b\b\b\b\b\b\b\b\b\b\b\b\b\b\b\b\b\b\b\b\b\n",
      "Epoch 22/35\n",
      "95/95 [==============================] - 0s - loss: 0.3769 - val_loss: 7.8825\b\b\b\b\b\b\b\b\b\b\b\b\b\b\b\b\b\b\b\b\b\b\b\b\b\b\b\b\b\b\b\b\b\b\b\b\b\b\b\b\b\b\b\b\b\b\b\b\b\b\b\b\b\b\b\b\b\b\b\b\b\b\b\b\b\b\b\b\b\b\b\b\b\b\b\b\b\b\b\b\b\b\b\b\b\b\b\b\b\b\b\b\b\b\b\b\b\b\b\b\b\b\b\b\b\b\b\b\b\b\b\b\n",
      "Epoch 23/35\n",
      "95/95 [==============================] - 0s - loss: 0.4251 - val_loss: 6.8836\b\b\b\b\b\b\b\b\b\b\b\b\b\b\b\b\b\b\b\b\b\b\b\b\b\b\b\b\b\b\b\b\b\b\b\b\b\b\b\b\b\b\b\b\b\b\b\b\b\b\b\b\b\b\b\b\b\b\b\b\b\b\b\b\b\b\b\b\b\b\b\b\b\b\b\b\b\b\b\b\b\b\b\b\b\b\b\b\b\b\b\b\b\b\b\b\b\b\b\b\b\b\b\b\b\b\b\b\b\b\b\b\n",
      "Epoch 24/35\n",
      "95/95 [==============================] - 0s - loss: 0.3210 - val_loss: 7.1976\b\b\b\b\b\b\b\b\b\b\b\b\b\b\b\b\b\b\b\b\b\b\b\b\b\b\b\b\b\b\b\b\b\b\b\b\b\b\b\b\b\b\b\b\b\b\b\b\b\b\b\b\b\b\b\b\b\b\b\b\b\b\b\b\b\b\b\b\b\b\b\b\b\b\b\b\b\b\b\b\b\b\b\b\b\b\b\b\b\b\b\b\b\b\b\b\b\b\b\b\b\b\b\b\b\b\b\b\b\b\b\b\n",
      "Epoch 25/35\n",
      "95/95 [==============================] - 0s - loss: 0.3389 - val_loss: 6.3532\b\b\b\b\b\b\b\b\b\b\b\b\b\b\b\b\b\b\b\b\b\b\b\b\b\b\b\b\b\b\b\b\b\b\b\b\b\b\b\b\b\b\b\b\b\b\b\b\b\b\b\b\b\b\b\b\b\b\b\b\b\b\b\b\b\b\b\b\b\b\b\b\b\b\b\b\b\b\b\b\b\b\b\b\b\b\b\b\b\b\b\b\b\b\b\b\b\b\b\b\b\b\b\b\b\b\b\b\b\b\b\b\n",
      "Epoch 26/35\n",
      "95/95 [==============================] - 0s - loss: 0.2833 - val_loss: 6.5864\b\b\b\b\b\b\b\b\b\b\b\b\b\b\b\b\b\b\b\b\b\b\b\b\b\b\b\b\b\b\b\b\b\b\b\b\b\b\b\b\b\b\b\b\b\b\b\b\b\b\b\b\b\b\b\b\b\b\b\b\b\b\b\b\b\b\b\b\b\b\b\b\b\b\b\b\b\b\b\b\b\b\b\b\b\b\b\b\b\b\b\b\b\b\b\b\b\b\b\b\b\b\b\b\b\b\b\b\b\b\b\b\n",
      "Epoch 27/35\n",
      "95/95 [==============================] - 0s - loss: 0.3043 - val_loss: 5.8447\b\b\b\b\b\b\b\b\b\b\b\b\b\b\b\b\b\b\b\b\b\b\b\b\b\b\b\b\b\b\b\b\b\b\b\b\b\b\b\b\b\b\b\b\b\b\b\b\b\b\b\b\b\b\b\b\b\b\b\b\b\b\b\b\b\b\b\b\b\b\b\b\b\b\b\b\b\b\b\b\b\b\b\b\b\b\b\b\b\b\b\b\b\b\b\b\b\b\b\b\b\b\b\b\b\b\b\b\b\b\b\b\n",
      "Epoch 28/35\n",
      "95/95 [==============================] - 0s - loss: 0.2777 - val_loss: 6.1055\b\b\b\b\b\b\b\b\b\b\b\b\b\b\b\b\b\b\b\b\b\b\b\b\b\b\b\b\b\b\b\b\b\b\b\b\b\b\b\b\b\b\b\b\b\b\b\b\b\b\b\b\b\b\b\b\b\b\b\b\b\b\b\b\b\b\b\b\b\b\b\b\b\b\b\b\b\b\b\b\b\b\b\b\b\b\b\b\b\b\b\b\b\b\b\b\b\b\b\b\b\b\b\b\b\b\b\b\b\b\b\b\n",
      "Epoch 29/35\n",
      "95/95 [==============================] - 0s - loss: 0.2103 - val_loss: 5.4141\b\b\b\b\b\b\b\b\b\b\b\b\b\b\b\b\b\b\b\b\b\b\b\b\b\b\b\b\b\b\b\b\b\b\b\b\b\b\b\b\b\b\b\b\b\b\b\b\b\b\b\b\b\b\b\b\b\b\b\b\b\b\b\b\b\b\b\b\b\b\b\b\b\b\b\b\b\b\b\b\b\b\b\b\b\b\b\b\b\b\b\b\b\b\b\b\b\b\b\b\b\b\b\b\b\b\b\b\b\b\b\b\n",
      "Epoch 30/35\n",
      "95/95 [==============================] - 0s - loss: 0.2633 - val_loss: 5.0995\b\b\b\b\b\b\b\b\b\b\b\b\b\b\b\b\b\b\b\b\b\b\b\b\b\b\b\b\b\b\b\b\b\b\b\b\b\b\b\b\b\b\b\b\b\b\b\b\b\b\b\b\b\b\b\b\b\b\b\b\b\b\b\b\b\b\b\b\b\b\b\b\b\b\b\b\b\b\b\b\b\b\b\b\b\b\b\b\b\b\b\b\b\b\b\b\b\b\b\b\b\b\b\b\b\b\b\b\b\b\b\b\n",
      "Epoch 31/35\n",
      "95/95 [==============================] - 0s - loss: 0.2281 - val_loss: 4.7991\b\b\b\b\b\b\b\b\b\b\b\b\b\b\b\b\b\b\b\b\b\b\b\b\b\b\b\b\b\b\b\b\b\b\b\b\b\b\b\b\b\b\b\b\b\b\b\b\b\b\b\b\b\b\b\b\b\b\b\b\b\b\b\b\b\b\b\b\b\b\b\b\b\b\b\b\b\b\b\b\b\b\b\b\b\b\b\b\b\b\b\b\b\b\b\b\b\b\b\b\b\b\b\b\b\b\b\b\b\b\b\b\n",
      "Epoch 32/35\n",
      "95/95 [==============================] - 0s - loss: 0.1796 - val_loss: 4.5769\b\b\b\b\b\b\b\b\b\b\b\b\b\b\b\b\b\b\b\b\b\b\b\b\b\b\b\b\b\b\b\b\b\b\b\b\b\b\b\b\b\b\b\b\b\b\b\b\b\b\b\b\b\b\b\b\b\b\b\b\b\b\b\b\b\b\b\b\b\b\b\b\b\b\b\b\b\b\b\b\b\b\b\b\b\b\b\b\b\b\b\b\b\b\b\b\b\b\b\b\b\b\b\b\b\b\b\b\b\b\b\b\n",
      "Epoch 33/35\n",
      "95/95 [==============================] - 0s - loss: 0.1617 - val_loss: 4.2801\b\b\b\b\b\b\b\b\b\b\b\b\b\b\b\b\b\b\b\b\b\b\b\b\b\b\b\b\b\b\b\b\b\b\b\b\b\b\b\b\b\b\b\b\b\b\b\b\b\b\b\b\b\b\b\b\b\b\b\b\b\b\b\b\b\b\b\b\b\b\b\b\b\b\b\b\b\b\b\b\b\b\b\b\b\b\b\b\b\b\b\b\b\b\b\b\b\b\b\b\b\b\b\b\b\b\b\b\b\b\b\b\n",
      "Epoch 34/35\n",
      "95/95 [==============================] - 0s - loss: 0.2106 - val_loss: 4.2840\b\b\b\b\b\b\b\b\b\b\b\b\b\b\b\b\b\b\b\b\b\b\b\b\b\b\b\b\b\b\b\b\b\b\b\b\b\b\b\b\b\b\b\b\b\b\b\b\b\b\b\b\b\b\b\b\b\b\b\b\b\b\b\b\b\b\b\b\b\b\b\b\b\b\b\b\b\b\b\b\b\b\b\b\b\b\b\b\b\b\b\b\b\b\b\b\b\b\b\b\b\b\b\b\b\b\b\b\b\b\b\b\n",
      "Epoch 35/35\n",
      "95/95 [==============================] - 0s - loss: 0.1570 - val_loss: 3.8391\b\b\b\b\b\b\b\b\b\b\b\b\b\b\b\b\b\b\b\b\b\b\b\b\b\b\b\b\b\b\b\b\b\b\b\b\b\b\b\b\b\b\b\b\b\b\b\b\b\b\b\b\b\b\b\b\b\b\b\b\b\b\b\b\b\b\b\b\b\b\b\b\b\b\b\b\b\b\b\b\b\b\b\b\b\b\b\b\b\b\b\b\b\b\b\b\b\b\b\b\b\b\b\b\b\b\b\b\b\b\b\b\n",
      "* Accuracy on training set: 71.00%\n",
      "* Accuracy on test set: 50.00%\n"
     ]
    }
   ],
   "source": [
    "model = train(tr_pairs, tr_y)\n",
    "evaluate(model, tr_pairs, tr_y, te_pairs, te_y)"
   ]
  },
  {
   "cell_type": "code",
   "execution_count": 770,
   "metadata": {
    "collapsed": false,
    "deletable": true,
    "editable": true
   },
   "outputs": [],
   "source": [
    "# compute final accuracy on training and test sets\n",
    "pred = model.predict([tr_pairs[:, 0], tr_pairs[:, 1]])\n",
    "tr_acc = compute_accuracy(pred, tr_y)\n",
    "pred = model.predict([te_pairs[:, 0], te_pairs[:, 1]])\n",
    "te_acc = compute_accuracy(pred, te_y)"
   ]
  },
  {
   "cell_type": "code",
   "execution_count": 781,
   "metadata": {
    "collapsed": false,
    "deletable": true,
    "editable": true
   },
   "outputs": [
    {
     "name": "stdout",
     "output_type": "stream",
     "text": [
      "Counter({True: 261, False: 239})\n"
     ]
    }
   ],
   "source": [
    "preds = [p[0] < 3 for p in pred]\n",
    "print(Counter(preds))"
   ]
  },
  {
   "cell_type": "code",
   "execution_count": 782,
   "metadata": {
    "collapsed": false,
    "deletable": true,
    "editable": true
   },
   "outputs": [
    {
     "name": "stdout",
     "output_type": "stream",
     "text": [
      "             precision    recall  f1-score   support\n",
      "\n",
      "          0       0.55      0.53      0.54       250\n",
      "          1       0.55      0.57      0.56       250\n",
      "\n",
      "avg / total       0.55      0.55      0.55       500\n",
      "\n"
     ]
    }
   ],
   "source": [
    "print(classification_report(te_y, preds))"
   ]
  },
  {
   "cell_type": "code",
   "execution_count": 785,
   "metadata": {
    "collapsed": false,
    "deletable": true,
    "editable": true
   },
   "outputs": [
    {
     "data": {
      "text/plain": [
       "array([  0.00000000e+00,  -5.87621488e-01,  -3.52727016e-02,\n",
       "         2.40195481e-01,   3.94721470e-01,  -1.06242697e+00,\n",
       "         7.31022365e-01,  -2.89649183e-01,   7.28606111e-01,\n",
       "         4.39075035e-03,  -2.23961172e-01,  -1.81819105e+00,\n",
       "         1.35028124e-01,   1.67917742e+00,  -1.22353041e-01,\n",
       "         2.00387033e+00,  -1.74953262e+00,  -1.07908780e+00,\n",
       "         1.63199923e-01,   1.72902931e-01,   1.84942456e+00,\n",
       "         3.19833758e-01,  -1.00543549e+00,  -2.11924821e-01,\n",
       "         7.11160827e-01,  -5.50484238e-01,  -6.57770024e-01,\n",
       "        -7.02525449e-01,  -2.09462439e-01,  -5.20386817e-01,\n",
       "         1.42220669e+00,  -1.22371804e-01,  -5.51757069e-01,\n",
       "        -7.07106781e-02,  -5.05396701e-01,   1.99894166e+00,\n",
       "        -2.57893737e-01,  -6.54164816e-01,  -2.94298001e-01,\n",
       "        -2.20955960e-01,  -4.54488575e-01,   7.97869763e-01,\n",
       "        -2.77818583e-01,  -9.91059811e-01,  -4.12898283e-01,\n",
       "        -1.21549384e+00,  -3.52409344e-01,  -5.39199159e-01,\n",
       "        -2.40239491e-01,  -2.10382395e-01,  -1.42189436e-01,\n",
       "        -2.23148247e-01,  -1.89982320e-01,  -5.35361009e-01,\n",
       "         7.80259951e-01,   8.44830747e-01,   0.00000000e+00,\n",
       "        -1.39155753e+00,  -6.39206447e-01,  -2.53907146e-01,\n",
       "        -3.19634317e-01,  -3.88515789e-01,  -5.78968074e-01,\n",
       "        -2.39646647e-01,  -2.28480937e-01,  -3.02972708e-01,\n",
       "        -2.47998516e-01,  -1.00252207e-01,   1.40696411e-01,\n",
       "        -6.83737164e-01,   2.89235076e-01,   2.18874851e+00,\n",
       "        -1.08765634e-01,  -1.39717211e-01,  -9.21459014e-01,\n",
       "        -3.85169689e-01,  -1.21519330e+00,   0.00000000e+00,\n",
       "        -9.99880831e-02,   1.63687950e+00,   1.38192265e+00,\n",
       "         1.11542700e-01,  -2.67743424e-01,  -1.00252207e-01,\n",
       "        -2.29284373e-01,   4.18020806e-01,  -3.63235683e-02,\n",
       "        -1.74979767e-01,  -3.44388718e-01,  -4.12977207e-03,\n",
       "        -5.23167491e-01,  -4.56567326e-01,  -4.37798691e-01,\n",
       "        -5.07714719e-01,  -4.57562879e-01,  -7.33481282e-01,\n",
       "         4.69409064e-02,  -7.63464456e-01,   5.01841696e-01,\n",
       "         7.45706893e-01,  -6.44396774e-02,   4.48196716e-01,\n",
       "        -2.39472572e-01,  -3.29434239e-01,  -2.29718622e-01,\n",
       "        -8.53915951e-01,  -2.71708384e-01,  -3.38643738e-01,\n",
       "        -2.67085844e-01,  -4.98035980e-01,  -3.37844656e-01,\n",
       "        -5.16631087e-01,  -1.15729944e+00,  -4.41600752e-01,\n",
       "        -8.06209961e-01,   0.00000000e+00,  -7.07106781e-02,\n",
       "        -6.22034793e-01,  -5.83216283e-01,  -1.89727919e-01,\n",
       "         1.94183122e+00,  -3.57466944e-01,  -2.49284748e-01,\n",
       "         0.00000000e+00,  -2.95507911e-01,   0.00000000e+00,\n",
       "         0.00000000e+00,  -4.21085519e-01,  -7.07106781e-02,\n",
       "         6.93610938e-01,  -3.85616174e-01,  -3.27016371e-01,\n",
       "         4.27532627e-01,  -6.77618195e-01,  -1.91712138e-01,\n",
       "        -1.98385453e-01,  -4.46595978e-01,   1.37422551e+00,\n",
       "        -4.46913161e-01,  -6.42191751e-01,   3.27884000e-01,\n",
       "        -5.33031889e-01,  -6.80974471e-01,  -2.95804672e-01,\n",
       "         8.10422507e-01,   1.43869480e+00,  -2.29456066e-01,\n",
       "        -3.87041019e-01,  -3.54569517e-01,  -4.12438763e-01,\n",
       "         9.82334844e-02,   0.00000000e+00,   0.00000000e+00,\n",
       "        -1.88834276e-01,  -1.75182928e-01,   0.00000000e+00,\n",
       "         4.20586280e+00,  -6.20728381e-02,  -2.75761519e-01,\n",
       "        -6.37827930e-02,  -1.99968602e-01,   0.00000000e+00,\n",
       "        -2.81399438e-01,  -1.17728561e+00,  -1.16639044e-01,\n",
       "        -7.66767481e-01,   5.29446885e-01,  -1.74451186e-01,\n",
       "        -2.38632103e-01,  -2.75301432e-01,   1.75977652e-02,\n",
       "        -7.07106781e-02,  -2.76870065e-01,  -1.37340628e-01,\n",
       "        -6.45621459e-01,   1.26826391e-01,  -2.03315945e-01,\n",
       "        -3.18957923e-01,  -9.76627920e-02,   3.68461390e-01,\n",
       "         9.72329116e-01,  -3.91152279e-02])"
      ]
     },
     "execution_count": 785,
     "metadata": {},
     "output_type": "execute_result"
    }
   ],
   "source": []
  },
  {
   "cell_type": "code",
   "execution_count": 60,
   "metadata": {
    "collapsed": false,
    "deletable": true,
    "editable": true
   },
   "outputs": [
    {
     "data": {
      "text/plain": [
       "array([1, 1, 0, 1, 1, 1, 0, 0, 0, 0, 0, 1, 0, 0, 0, 0, 1, 1, 0, 1, 1, 0, 1,\n",
       "       0, 0, 1, 0, 1, 0, 1, 0, 0, 1, 1, 0, 1, 1, 0, 0, 0, 0, 1, 1, 0, 0, 1,\n",
       "       0, 0, 0, 0, 1, 1, 0, 1, 1, 1, 1, 0, 0, 0, 0, 0, 1, 0, 0, 1, 0, 1, 1,\n",
       "       1, 0, 0, 0, 1, 1, 0, 1, 1, 1, 1, 1, 1, 1, 0, 0, 0, 1, 0, 1, 1, 0, 1,\n",
       "       0, 0, 1, 1, 1, 0, 1, 1])"
      ]
     },
     "execution_count": 60,
     "metadata": {},
     "output_type": "execute_result"
    }
   ],
   "source": [
    "shuff_tr_y"
   ]
  },
  {
   "cell_type": "code",
   "execution_count": 61,
   "metadata": {
    "collapsed": false,
    "deletable": true,
    "editable": true
   },
   "outputs": [
    {
     "data": {
      "text/plain": [
       "array([1, 1, 0, 1, 1, 1, 0, 0, 0, 0, 0, 1, 0, 0, 0, 0, 1, 1, 0, 1, 1, 0, 1,\n",
       "       0, 0, 1, 0, 1, 0, 1, 0, 0, 1, 1, 0, 1, 1, 0, 0, 0, 0, 1, 1, 0, 0, 1,\n",
       "       0, 0, 0, 0, 1, 1, 0, 1, 1, 1, 1, 0, 0, 0, 0, 0, 1, 0, 0, 1, 0, 1, 1,\n",
       "       1, 0, 0, 0, 1, 1, 0, 1, 1, 1, 1, 1, 1, 1, 0, 0, 0, 1, 0, 1, 1, 0, 1,\n",
       "       0, 0, 1, 1, 1, 0, 1, 1])"
      ]
     },
     "execution_count": 61,
     "metadata": {},
     "output_type": "execute_result"
    }
   ],
   "source": [
    "y_train"
   ]
  },
  {
   "cell_type": "code",
   "execution_count": 5,
   "metadata": {
    "collapsed": true,
    "deletable": true,
    "editable": true
   },
   "outputs": [],
   "source": [
    "# standard imports\n",
    "import string\n",
    "from collections import Counter\n",
    "\n",
    "# third-party imports\n",
    "import textacy\n",
    "from spacy.en import English\n",
    "from statistics import mean, stdev\n",
    "\n",
    "def _normalize_counter(counter, c):\n",
    "    \"\"\"Divide all the values in a Counter by a constant and remove padding\"\"\"\n",
    "    for key in counter:\n",
    "        counter[key] = (counter[key] - 1) / c\n",
    "    return counter\n",
    "\n",
    "class TextAnalyser:\n",
    "    def __init__(self, nlp=None, funcwordsfile=\"function_words.txt\"):\n",
    "        if nlp:\n",
    "            self.nlp = nlp\n",
    "        else:\n",
    "            self.nlp = English()\n",
    "            \n",
    "        # alphabet for letter ratios\n",
    "        self.alphabet = string.ascii_lowercase + \"!?:;,.'- \"\n",
    "        self.alphabet = \"!?:;,.'- \"\n",
    "        \n",
    "        # keys that we care about from textacy.stats\n",
    "        self.basic_keys = ['n_long_words', 'n_monosyllable_words', 'n_polysyllable_words', 'n_sents', 'n_syllables', 'n_unique_words', 'n_words']\n",
    "        \n",
    "        # keys that we care about for textacy readability stats\n",
    "        self.readability_keys = ['automated_readability_index','coleman_liau_index', 'flesch_kincaid_grade_level',\n",
    "                                 'flesch_readability_ease', 'gulpease_index', 'gunning_fog_index', 'lix',\n",
    "                                 'wiener_sachtextformel']\n",
    "        \n",
    "        # parts of speech that we care about from spacy (pos_ not tag_)\n",
    "        self.pos_keys = ['ADJ', 'ADP', 'ADV', 'CCONJ', 'DET', 'INTJ', 'NOUN', 'NUM', 'PART', 'PRON', 'PROPN', 'PUNCT', 'SPACE', 'SYM', 'VERB', 'X']\n",
    "        self.pos_keys_set = set(self.pos_keys)\n",
    "        \n",
    "        with open(funcwordsfile) as f:\n",
    "            s = sorted(f.read().split(\"\\n\"))\n",
    "        self.func_words = s\n",
    "\n",
    "    def get_named_features(self, text):\n",
    "        # TODO: Add bigrams, trigrams?\n",
    "        processed = self.nlp(text, entity=False, tag=True, parse=True)\n",
    "        stats = textacy.text_stats.TextStats(processed)\n",
    "        basic_stats = stats.basic_counts\n",
    "        readability_stats = stats.readability_stats\n",
    "        cleaned_text = ''.join(filter(lambda x: x in self.alphabet, text.lower() + self.alphabet))\n",
    "        \n",
    "        stats_ratios = {key: (basic_stats[key] / len(text)) for key in self.basic_keys}\n",
    "        readability_ratios = {key: (readability_stats[key] / len(text)) for key in self.readability_keys}\n",
    "        # stats_ratios.update(readability_ratios)\n",
    "        \n",
    "\n",
    "        # get only the characters we care about \n",
    "        # append alphabet so that each character artificially appears once\n",
    "        char_ratios = Counter(cleaned_text)\n",
    "        char_ratios = _normalize_counter(char_ratios, len(text))\n",
    "\n",
    "        # calculate pos ratios\n",
    "        tags = [word.pos_ for word in processed if word.pos_ in self.pos_keys_set] + self.pos_keys\n",
    "        pos_ratios = Counter(tags)\n",
    "        pos_ratios = _normalize_counter(pos_ratios, len(processed)) # normalize by word length\n",
    "        \n",
    "        word_counts = Counter([word.text.lower() for word in processed])\n",
    "        func_words = {fword: (word_counts[fword]/len(processed)) for fword in self.func_words}\n",
    "        \n",
    "        res = stats_ratios\n",
    "        res.update(char_ratios)\n",
    "        res.update(pos_ratios)\n",
    "        res.update(func_words)\n",
    "        return [(key, res[key]) for key in sorted(res)]\n",
    "    \n",
    "    def calculate_mean_and_std(self, extracted_texts):\n",
    "        \"\"\"finds unusual patterns by calculating mean and std deviation for a list of \n",
    "           extracted features and sorting by z-score\"\"\"\n",
    "        means = []\n",
    "        stds = []\n",
    "        sample = extracted_texts[0]  # get one text for feature size and names\n",
    "        num_features = len(sample)\n",
    "        # fi = feature index\n",
    "        for fi in range(num_features):\n",
    "            u = mean([stat[fi][1] for stat in extracted_texts])\n",
    "            o = stdev([stat[fi][1] for stat in extracted_texts])\n",
    "            means.append((sample[fi][0], u))\n",
    "            stds.append((sample[fi][0], o))\n",
    "        return means, stds\n",
    "    \n",
    "    def calculate_z_scores(self, extracted_text, means, stds):\n",
    "        \"\"\"Calculate the zscores for each features of a single text (extractions)\"\"\"\n",
    "        # z = (X - μ) / σ\n",
    "        zscores = []\n",
    "        num_features = len(extracted_text)\n",
    "        for fi in range(num_features):\n",
    "            feature_name = extracted_text[fi][0]\n",
    "            try:\n",
    "                zscore = (extracted_text[fi][1] - means[fi][1]) / stds[fi][1]\n",
    "            except ZeroDivisionError:\n",
    "                zscore = 0\n",
    "            zscores.append((zscore, feature_name))\n",
    "        return zscores\n",
    "        \n",
    "def vectorize(str_text):\n",
    "    vecs = _vectorize(str_text)\n",
    "    return np.array([x[1] for x in vecs])\n",
    "    \n",
    "    "
   ]
  },
  {
   "cell_type": "code",
   "execution_count": 6,
   "metadata": {
    "collapsed": false,
    "deletable": true,
    "editable": true
   },
   "outputs": [],
   "source": [
    "def format_unusual_features(zscores, nfeatures=5):\n",
    "    zscores = sorted(zscores)\n",
    "    s = \"\"\n",
    "    for j in range(nfeatures):\n",
    "        fname = zscores[j][1]\n",
    "        padding = \" \" * (30 - len(fname))\n",
    "        s += \"{} is low {}(zscore: {})\\n\".format(fname, padding, zscores[j][0])\n",
    "    s += \"    . . .     \\n\"\n",
    "    for j in range(nfeatures):\n",
    "        fname = zscores[-(j + 1)][1]\n",
    "        padding = \" \" * (30 - len(fname))\n",
    "        s += \"{} is high{}(zscore: {})\\n\".format(fname, padding, zscores[-(j + 1)][0])\n",
    "    return s\n",
    "\n",
    "def supports_and_opposes(zscores1, zscores2, sup_threshold=1.5):\n",
    "    supports = []\n",
    "    opposes = []\n",
    "    for i in range(len(zscores1)):\n",
    "        # both are high or low\n",
    "        if (zscores1[i][0] > sup_threshold and zscores2[i][0] > sup_threshold) or (\n",
    "            zscores1[i][0] < -sup_threshold and zscores2[i][0] < -sup_threshold):\n",
    "            supports.append((zscores1[i], zscores2[i]))\n",
    "        # one is high and the other is low\n",
    "        if (zscores1[i][0] > sup_threshold and zscores2[i][0] < -sup_threshold) or (\n",
    "            zscores1[i][0] < -sup_threshold and zscores2[i][0] > sup_threshold):\n",
    "            opposes.append((zscores1[i], zscores2[i]))\n",
    "    return supports, opposes \n",
    "\n",
    "def shared_top_bottom(zs1, zs2, n=10):\n",
    "    \"\"\"Find shared top/bottom n most unusual features between two texts\"\"\"\n",
    "    zs1 = sorted(zs1)\n",
    "    zs2 = sorted(zs2)\n",
    "    \n",
    "    t1, b1 = zs1[-n:], zs1[:n]\n",
    "    t2, b2 = zs2[-n:], zs2[:n]\n",
    "    \n",
    "    shared_top = set([f[1] for f in t1]).intersection(set([f[1] for f in t2]))\n",
    "    shared_bottom = set([f[1] for f in b1]).intersection(set([f[1] for f in b2]))\n",
    "    \n",
    "    opposed1 = set([f[1] for f in t1]).intersection(set([f[1] for f in b2]))\n",
    "    opposed2 = set([f[1] for f in t2]).intersection(set([f[1] for f in b1]))\n",
    "    \n",
    "    return shared_top, shared_bottom, opposed1, opposed2"
   ]
  },
  {
   "cell_type": "code",
   "execution_count": 7,
   "metadata": {
    "collapsed": false,
    "deletable": true,
    "editable": true
   },
   "outputs": [
    {
     "ename": "NameError",
     "evalue": "name 'known_train' is not defined",
     "output_type": "error",
     "traceback": [
      "\u001b[0;31m---------------------------------------------------------------------------\u001b[0m",
      "\u001b[0;31mNameError\u001b[0m                                 Traceback (most recent call last)",
      "\u001b[0;32m<ipython-input-7-48963bf193dc>\u001b[0m in \u001b[0;36m<module>\u001b[0;34m()\u001b[0m\n\u001b[1;32m     14\u001b[0m     \u001b[0;32mreturn\u001b[0m \u001b[0mpreds\u001b[0m\u001b[0;34m\u001b[0m\u001b[0m\n\u001b[1;32m     15\u001b[0m \u001b[0;34m\u001b[0m\u001b[0m\n\u001b[0;32m---> 16\u001b[0;31m \u001b[0mpreds_train\u001b[0m \u001b[0;34m=\u001b[0m \u001b[0mget\u001b[0m\u001b[0;34m(\u001b[0m\u001b[0mknown_train\u001b[0m\u001b[0;34m,\u001b[0m \u001b[0munknown_train\u001b[0m\u001b[0;34m)\u001b[0m\u001b[0;34m\u001b[0m\u001b[0m\n\u001b[0m\u001b[1;32m     17\u001b[0m \u001b[0mpreds_test\u001b[0m \u001b[0;34m=\u001b[0m \u001b[0mget\u001b[0m\u001b[0;34m(\u001b[0m\u001b[0mknown_test\u001b[0m\u001b[0;34m,\u001b[0m \u001b[0munknown_test\u001b[0m\u001b[0;34m)\u001b[0m\u001b[0;34m\u001b[0m\u001b[0m\n\u001b[1;32m     18\u001b[0m \u001b[0;34m\u001b[0m\u001b[0m\n",
      "\u001b[0;31mNameError\u001b[0m: name 'known_train' is not defined"
     ]
    }
   ],
   "source": [
    "def get(knowns, unknowns):\n",
    "    knownstats = [ta.get_named_features(text) for text in knowns]\n",
    "    unknownstats = [ta.get_named_features(text) for text in unknowns]\n",
    "    means, stds = ta.calculate_mean_and_std(knownstats + unknownstats)\n",
    "    knownzs = [ta.calculate_z_scores(ks, means, stds) for ks in knownstats]\n",
    "    unknownzs = [ta.calculate_z_scores(ks, means, stds) for ks in unknownstats]\n",
    "    \n",
    "    preds = []\n",
    "    for i in range(len(knowns)):\n",
    "        z1 = knownzs[i]\n",
    "        z2 = unknownzs[i]\n",
    "        s, o = supports_and_opposes(z1, z2, sup_threshold=0.4)\n",
    "        preds.append(len(s) > len(o))\n",
    "    return preds\n",
    "\n",
    "preds_train = get(known_train, unknown_train)\n",
    "preds_test = get(known_test, unknown_test)\n",
    "\n"
   ]
  },
  {
   "cell_type": "code",
   "execution_count": 600,
   "metadata": {
    "collapsed": false,
    "deletable": true,
    "editable": true
   },
   "outputs": [
    {
     "data": {
      "text/plain": [
       "100"
      ]
     },
     "execution_count": 600,
     "metadata": {},
     "output_type": "execute_result"
    }
   ],
   "source": [
    "len(known_train)"
   ]
  },
  {
   "cell_type": "code",
   "execution_count": 604,
   "metadata": {
    "collapsed": false,
    "deletable": true,
    "editable": true
   },
   "outputs": [
    {
     "name": "stdout",
     "output_type": "stream",
     "text": [
      "Counter({True: 85, False: 15})\n",
      "Counter({True: 411, False: 89})\n",
      "             precision    recall  f1-score   support\n",
      "\n",
      "          0       0.74      0.26      0.39       250\n",
      "          1       0.55      0.91      0.69       250\n",
      "\n",
      "avg / total       0.65      0.59      0.54       500\n",
      "\n"
     ]
    }
   ],
   "source": [
    "# preds_train = get(known_train, unknown_train)\n",
    "# preds_test = get(known_test, unknown_test)\n",
    "print(Counter(preds_train))\n",
    "print(Counter(preds_test))\n",
    "# print(classification_report(y_test, preds_test))\n",
    "# print(\"---\")\n",
    "print(classification_report(y_test, preds_test))"
   ]
  },
  {
   "cell_type": "code",
   "execution_count": 889,
   "metadata": {
    "collapsed": false,
    "deletable": true,
    "editable": true
   },
   "outputs": [],
   "source": [
    "knowns, unknowns = known_test, unknown_test\n",
    "knownstats = [ta.get_named_features(text) for text in knowns]\n",
    "unknownstats = [ta.get_named_features(text) for text in unknowns]\n",
    "means, stds = ta.calculate_mean_and_std(knownstats + unknownstats)\n",
    "knownzs = [ta.calculate_z_scores(ks, means, stds) for ks in knownstats]\n",
    "unknownzs = [ta.calculate_z_scores(ks, means, stds) for ks in unknownstats]"
   ]
  },
  {
   "cell_type": "code",
   "execution_count": 986,
   "metadata": {
    "collapsed": false,
    "deletable": true,
    "editable": true
   },
   "outputs": [],
   "source": [
    "from scipy.stats import spearmanr"
   ]
  },
  {
   "cell_type": "code",
   "execution_count": 1000,
   "metadata": {
    "collapsed": false,
    "deletable": true,
    "editable": true
   },
   "outputs": [],
   "source": [
    "def get_rhos(knownstats, unknownstats):\n",
    "    rhos = []\n",
    "    for i in range(len(knownstats)):\n",
    "        ks = [s[1] for s in knownstats[i]]\n",
    "        us = [s[1] for s in unknownstats[i]]\n",
    "        rhos.append(spearmanr(ks,us))\n",
    "    return rhos\n",
    "\n",
    "rhos = get_rhos(knownstats, unknownstats)\n",
    "rhos = [r[0] for r in rhos]"
   ]
  },
  {
   "cell_type": "code",
   "execution_count": 1012,
   "metadata": {
    "collapsed": false,
    "deletable": true,
    "editable": true
   },
   "outputs": [
    {
     "data": {
      "text/plain": [
       "[('', 0.0),\n",
       " (' ', 0.16892289582107123),\n",
       " ('!', 0.0005885815185403178),\n",
       " (\"'\", 0.012360211889346674),\n",
       " (',', 0.015303119482048263),\n",
       " ('-', 0.0),\n",
       " ('.', 0.012948793407886992),\n",
       " (':', 0.0),\n",
       " (';', 0.0017657445556209534),\n",
       " ('?', 0.006474396703943496),\n",
       " ('ADJ', 0.05454545454545454),\n",
       " ('ADP', 0.05),\n",
       " ('ADV', 0.125),\n",
       " ('CCONJ', 0.011363636363636364),\n",
       " ('DET', 0.04772727272727273),\n",
       " ('INTJ', 0.01818181818181818),\n",
       " ('NOUN', 0.09772727272727273),\n",
       " ('NUM', 0.0),\n",
       " ('PART', 0.006818181818181818),\n",
       " ('PRON', 0.1),\n",
       " ('PROPN', 0.10227272727272728),\n",
       " ('PUNCT', 0.1431818181818182),\n",
       " ('SPACE', 0.07954545454545454),\n",
       " ('SYM', 0.0),\n",
       " ('VERB', 0.16363636363636364),\n",
       " ('X', 0.0),\n",
       " ('a', 0.013636363636363636),\n",
       " ('about', 0.0),\n",
       " ('above', 0.0),\n",
       " ('after', 0.0),\n",
       " ('all', 0.0),\n",
       " ('although', 0.0),\n",
       " ('am', 0.0),\n",
       " ('among', 0.0),\n",
       " ('an', 0.0),\n",
       " ('and', 0.004545454545454545),\n",
       " ('another', 0.0),\n",
       " ('any', 0.0),\n",
       " ('anybody', 0.0),\n",
       " ('anyone', 0.0),\n",
       " ('anything', 0.0),\n",
       " ('are', 0.0022727272727272726),\n",
       " ('around', 0.0),\n",
       " ('as', 0.0022727272727272726),\n",
       " ('at', 0.006818181818181818),\n",
       " ('be', 0.0),\n",
       " ('because', 0.0),\n",
       " ('before', 0.0022727272727272726),\n",
       " ('behind', 0.0022727272727272726),\n",
       " ('below', 0.0),\n",
       " ('beside', 0.0),\n",
       " ('between', 0.0),\n",
       " ('both', 0.0),\n",
       " ('but', 0.006818181818181818),\n",
       " ('by', 0.0022727272727272726),\n",
       " ('can', 0.0022727272727272726),\n",
       " ('cos', 0.0),\n",
       " ('do', 0.013636363636363636),\n",
       " ('down', 0.004545454545454545),\n",
       " ('each', 0.0),\n",
       " ('either', 0.0),\n",
       " ('enough', 0.0),\n",
       " ('every', 0.0),\n",
       " ('everybody', 0.0),\n",
       " ('everyone', 0.0),\n",
       " ('everything', 0.0),\n",
       " ('few', 0.0),\n",
       " ('following', 0.0),\n",
       " ('for', 0.0),\n",
       " ('from', 0.0),\n",
       " ('have', 0.0022727272727272726),\n",
       " ('he', 0.013636363636363636),\n",
       " ('her', 0.0),\n",
       " ('him', 0.0022727272727272726),\n",
       " ('i', 0.02727272727272727),\n",
       " ('if', 0.004545454545454545),\n",
       " ('in', 0.00909090909090909),\n",
       " ('including', 0.0),\n",
       " ('inside', 0.0),\n",
       " ('into', 0.0),\n",
       " ('is', 0.020454545454545454),\n",
       " ('it', 0.01818181818181818),\n",
       " ('its', 0.0),\n",
       " ('latter', 0.0),\n",
       " ('less', 0.0),\n",
       " ('like', 0.0),\n",
       " ('little', 0.0),\n",
       " ('lots', 0.0022727272727272726),\n",
       " ('many', 0.0),\n",
       " ('me', 0.004545454545454545),\n",
       " ('more', 0.0022727272727272726),\n",
       " ('most', 0.0),\n",
       " ('much', 0.006818181818181818),\n",
       " ('must', 0.0),\n",
       " ('my', 0.0),\n",
       " ('n_long_words', 0.023543260741612712),\n",
       " ('n_monosyllable_words', 0.17363154796939376),\n",
       " ('n_polysyllable_words', 0.004708652148322542),\n",
       " ('n_sents', 0.020600353148911125),\n",
       " ('n_syllables', 0.23366686286050617),\n",
       " ('n_unique_words', 0.08298999411418481),\n",
       " ('n_words', 0.2012948793407887),\n",
       " ('near', 0.0),\n",
       " ('need', 0.0),\n",
       " ('neither', 0.0),\n",
       " ('no', 0.0022727272727272726),\n",
       " ('nobody', 0.0),\n",
       " ('none', 0.0),\n",
       " ('nor', 0.0),\n",
       " ('nothing', 0.0),\n",
       " ('of', 0.00909090909090909),\n",
       " ('off', 0.0),\n",
       " ('on', 0.006818181818181818),\n",
       " ('once', 0.0),\n",
       " ('one', 0.0),\n",
       " ('onto', 0.0),\n",
       " ('opposite', 0.0),\n",
       " ('or', 0.0),\n",
       " ('our', 0.0),\n",
       " ('outside', 0.0),\n",
       " ('over', 0.0),\n",
       " ('own', 0.0),\n",
       " ('past', 0.0),\n",
       " ('per', 0.0),\n",
       " ('plenty', 0.0),\n",
       " ('plus', 0.0),\n",
       " ('regarding', 0.0),\n",
       " ('same', 0.0),\n",
       " ('several', 0.0),\n",
       " ('she', 0.0),\n",
       " ('should', 0.0),\n",
       " ('since', 0.0),\n",
       " ('so', 0.006818181818181818),\n",
       " ('some', 0.0022727272727272726),\n",
       " ('somebody', 0.0),\n",
       " ('someone', 0.0),\n",
       " ('something', 0.0),\n",
       " ('such', 0.0),\n",
       " ('than', 0.0),\n",
       " ('that', 0.004545454545454545),\n",
       " ('the', 0.022727272727272728),\n",
       " ('their', 0.0),\n",
       " ('them', 0.0),\n",
       " ('these', 0.0),\n",
       " ('they', 0.0),\n",
       " ('this', 0.004545454545454545),\n",
       " ('those', 0.0),\n",
       " ('though', 0.0),\n",
       " ('through', 0.0),\n",
       " ('till', 0.0),\n",
       " ('to', 0.006818181818181818),\n",
       " ('toward', 0.0),\n",
       " ('towards', 0.0),\n",
       " ('under', 0.0),\n",
       " ('unless', 0.0),\n",
       " ('unlike', 0.0),\n",
       " ('until', 0.0),\n",
       " ('up', 0.0),\n",
       " ('upon', 0.0),\n",
       " ('us', 0.0),\n",
       " ('used', 0.0),\n",
       " ('via', 0.0),\n",
       " ('we', 0.022727272727272728),\n",
       " ('what', 0.0),\n",
       " ('whatever', 0.0),\n",
       " ('when', 0.0022727272727272726),\n",
       " ('where', 0.0),\n",
       " ('whether', 0.0),\n",
       " ('which', 0.0),\n",
       " ('while', 0.0),\n",
       " ('who', 0.0),\n",
       " ('whoever', 0.0),\n",
       " ('whom', 0.0),\n",
       " ('whose', 0.0),\n",
       " ('will', 0.0),\n",
       " ('with', 0.0),\n",
       " ('within', 0.0),\n",
       " ('without', 0.0),\n",
       " ('worth', 0.0),\n",
       " ('would', 0.0),\n",
       " ('yes', 0.0),\n",
       " ('you', 0.006818181818181818)]"
      ]
     },
     "execution_count": 1012,
     "metadata": {},
     "output_type": "execute_result"
    }
   ],
   "source": [
    "knownstats[2]"
   ]
  },
  {
   "cell_type": "code",
   "execution_count": 1011,
   "metadata": {
    "collapsed": false,
    "deletable": true,
    "editable": true
   },
   "outputs": [
    {
     "data": {
      "text/plain": [
       "\"Tomorrow comes the great, grand\\nfestival of Christmas, is it not, Paddy Mike?\\n\\nSure and it is. This is\\nthe holy Christmas Eve.\\n\\nThe night of the day\\nbehind Christmas is always Christmas Eve, ain't it?\\nSure it is.\\n\\nUnd tomorrow we gets lots of Christmas presents always, me\\nund Klinker; don't we, Klinker?\\n\\nSure we do. Leedle horses and pictures und candy und other\\nthings also; don't we, Schwillie Willie Winkum?\\n\\nThat was when we were at home in Holland. It's different,\\nmaybe, out here in this great big boat. Ven we get by the city of New\\nYork next week then maybe we'll get some presents already.\\n\\nBut good Saint Nicholas always comes the night before\\nChristmas; don't he, Schwillie Willie Winkum?\\n\\nSure. Won't he come tonight, Hulda?\\n\\nHow could he get way out here on the ocean already? Do you\\nthink he is a fish? We ain't living at home in Holland no more. We're\\nway out on the Atlantic Ocean in a great big ship.\\n\\nJa, und I wish I was back at home already. So much have I been\\nseasick, mit der ship going oop und down, oop und down! Ach, it's\\nawful.\\n\\n But Saint Nicholas ought to come tonight, Hulda. I been a\\nawfully good boy, isn't I, Schwillie Willie Winkum?\\n\\nSure you is. Und I've been a awfully good boy, too. Isn't\\nI, Klinker?\\n\\nSure. We've been awfully good boys.\\n\\nMaybe even if Saint Nicholas don't come tonight, you can see\\nthe great, big whale tomorrow. If he's a good whale he'll surely let\\nthe leedle Dutch twins see him on Christmas Day.\\n\\nOh, I vant to see der whale. I've looked und I've looked und\\nI've looked, but I ain't even so much as seen his leedle tail yet\\nalready. Und it makes me seasick to look so much, too.\\n\\nAre ye sure it was a whale ye saw that day, Sergius boy?\\n\\n\""
      ]
     },
     "execution_count": 1011,
     "metadata": {},
     "output_type": "execute_result"
    }
   ],
   "source": [
    "knowns[2]"
   ]
  },
  {
   "cell_type": "code",
   "execution_count": 979,
   "metadata": {
    "collapsed": false,
    "deletable": true,
    "editable": true
   },
   "outputs": [],
   "source": [
    "all_shared = [shared_top_bottom(knownzs[i], unknownzs[i], 40) for i in range(len(knownzs))]\n",
    "preds = [(len(all_shared[i][0]) + len(all_shared[i][1]), (len(all_shared[i][2]) + len(all_shared[i][3])))  for i in range(len(all_shared))]\n",
    "preds = [1 if p[0] > (p[1]+5) else 0 for p in preds]"
   ]
  },
  {
   "cell_type": "code",
   "execution_count": 975,
   "metadata": {
    "collapsed": false,
    "deletable": true,
    "editable": true
   },
   "outputs": [
    {
     "data": {
      "text/plain": [
       "Counter({0: 276, 1: 224})"
      ]
     },
     "execution_count": 975,
     "metadata": {},
     "output_type": "execute_result"
    }
   ],
   "source": [
    "Counter(preds)"
   ]
  },
  {
   "cell_type": "code",
   "execution_count": 976,
   "metadata": {
    "collapsed": false,
    "deletable": true,
    "editable": true
   },
   "outputs": [
    {
     "name": "stdout",
     "output_type": "stream",
     "text": [
      "             precision    recall  f1-score   support\n",
      "\n",
      "          0       0.68      0.75      0.71       250\n",
      "          1       0.72      0.65      0.68       250\n",
      "\n",
      "avg / total       0.70      0.70      0.70       500\n",
      "\n"
     ]
    }
   ],
   "source": [
    "from sklearn.metrics import classification_report\n",
    "print(classification_report(y_test, preds))"
   ]
  },
  {
   "cell_type": "code",
   "execution_count": 693,
   "metadata": {
    "collapsed": false,
    "deletable": true,
    "editable": true
   },
   "outputs": [],
   "source": [
    "def read_file(filepath):\n",
    "    with open(filepath) as f:\n",
    "        s = f.read()\n",
    "    return s\n",
    "\n",
    "known_train, unknown_train, y_train = load_pan_data(pan15train)\n",
    "known_test, unknown_test, y_test = load_pan_data(pan15test)"
   ]
  },
  {
   "cell_type": "code",
   "execution_count": 696,
   "metadata": {
    "collapsed": true,
    "deletable": true,
    "editable": true
   },
   "outputs": [],
   "source": [
    "ta = TextAnalyser()"
   ]
  },
  {
   "cell_type": "code",
   "execution_count": 569,
   "metadata": {
    "collapsed": false,
    "deletable": true,
    "editable": true
   },
   "outputs": [],
   "source": [
    "def load_all_pan(paths):\n",
    "    known, unknown, labels = [], [], []\n",
    "    for path in paths:\n",
    "        k, u, y = load_pan_data(path)\n",
    "        known += k\n",
    "        unknown += u\n",
    "        labels += y\n",
    "    return known, unknown, labels\n",
    "\n",
    "known, unknown, labels = load_all_pan([pan15train, pan15test, pan14traine, pan14teste, pan14trainn, pan14testn])"
   ]
  },
  {
   "cell_type": "code",
   "execution_count": 694,
   "metadata": {
    "collapsed": false,
    "deletable": true,
    "editable": true
   },
   "outputs": [],
   "source": [
    "def get_zscores(knowns, unknowns, means=None, stds=None, ta=None):\n",
    "    if not ta:\n",
    "        ta = TextAnalyser()\n",
    "    knownstats = [ta.get_named_features(text) for text in knowns]\n",
    "    unknownstats = [ta.get_named_features(text) for text in unknowns]\n",
    "    if not means:\n",
    "        means, stds = ta.calculate_mean_and_std(knownstats + unknownstats)\n",
    "    knownzs = [ta.calculate_z_scores(ks, means, stds) for ks in knownstats]\n",
    "    unknownzs = [ta.calculate_z_scores(ks, means, stds) for ks in unknownstats]\n",
    "    return knownzs, unknownzs"
   ]
  },
  {
   "cell_type": "code",
   "execution_count": 579,
   "metadata": {
    "collapsed": false,
    "deletable": true,
    "editable": true
   },
   "outputs": [
    {
     "ename": "KeyboardInterrupt",
     "evalue": "",
     "output_type": "error",
     "traceback": [
      "\u001b[0;31m---------------------------------------------------------------------------\u001b[0m",
      "\u001b[0;31mKeyboardInterrupt\u001b[0m                         Traceback (most recent call last)",
      "\u001b[0;32m<ipython-input-579-7ff43e5d8f8f>\u001b[0m in \u001b[0;36m<module>\u001b[0;34m()\u001b[0m\n\u001b[0;32m----> 1\u001b[0;31m \u001b[0mknownzs\u001b[0m\u001b[0;34m,\u001b[0m \u001b[0munkzs\u001b[0m\u001b[0;34m,\u001b[0m \u001b[0mmeans\u001b[0m\u001b[0;34m,\u001b[0m \u001b[0mstds\u001b[0m \u001b[0;34m=\u001b[0m \u001b[0mget_zscores\u001b[0m\u001b[0;34m(\u001b[0m\u001b[0mknown\u001b[0m\u001b[0;34m,\u001b[0m \u001b[0munknown\u001b[0m\u001b[0;34m)\u001b[0m\u001b[0;34m\u001b[0m\u001b[0m\n\u001b[0m\u001b[1;32m      2\u001b[0m \u001b[0;34m\u001b[0m\u001b[0m\n\u001b[1;32m      3\u001b[0m \u001b[0mx1\u001b[0m \u001b[0;34m=\u001b[0m \u001b[0mknownzs\u001b[0m\u001b[0;34m[\u001b[0m\u001b[0;34m:\u001b[0m\u001b[0;36m100\u001b[0m\u001b[0;34m]\u001b[0m\u001b[0;34m\u001b[0m\u001b[0m\n\u001b[1;32m      4\u001b[0m \u001b[0my1\u001b[0m \u001b[0;34m=\u001b[0m \u001b[0mlabels\u001b[0m\u001b[0;34m[\u001b[0m\u001b[0;34m:\u001b[0m\u001b[0;36m100\u001b[0m\u001b[0;34m]\u001b[0m\u001b[0;34m\u001b[0m\u001b[0m\n",
      "\u001b[0;32m<ipython-input-571-9c3af3e0ebb4>\u001b[0m in \u001b[0;36mget_zscores\u001b[0;34m(knowns, unknowns, means, stds, ta)\u001b[0m\n\u001b[1;32m      1\u001b[0m \u001b[0;32mdef\u001b[0m \u001b[0mget_zscores\u001b[0m\u001b[0;34m(\u001b[0m\u001b[0mknowns\u001b[0m\u001b[0;34m,\u001b[0m \u001b[0munknowns\u001b[0m\u001b[0;34m,\u001b[0m \u001b[0mmeans\u001b[0m\u001b[0;34m=\u001b[0m\u001b[0;32mNone\u001b[0m\u001b[0;34m,\u001b[0m \u001b[0mstds\u001b[0m\u001b[0;34m=\u001b[0m\u001b[0;32mNone\u001b[0m\u001b[0;34m,\u001b[0m \u001b[0mta\u001b[0m\u001b[0;34m=\u001b[0m\u001b[0;32mNone\u001b[0m\u001b[0;34m)\u001b[0m\u001b[0;34m:\u001b[0m\u001b[0;34m\u001b[0m\u001b[0m\n\u001b[1;32m      2\u001b[0m     \u001b[0;32mif\u001b[0m \u001b[0;32mnot\u001b[0m \u001b[0mta\u001b[0m\u001b[0;34m:\u001b[0m\u001b[0;34m\u001b[0m\u001b[0m\n\u001b[0;32m----> 3\u001b[0;31m         \u001b[0mta\u001b[0m \u001b[0;34m=\u001b[0m \u001b[0mTextAnalyser\u001b[0m\u001b[0;34m(\u001b[0m\u001b[0;34m)\u001b[0m\u001b[0;34m\u001b[0m\u001b[0m\n\u001b[0m\u001b[1;32m      4\u001b[0m     \u001b[0mknownstats\u001b[0m \u001b[0;34m=\u001b[0m \u001b[0;34m[\u001b[0m\u001b[0mta\u001b[0m\u001b[0;34m.\u001b[0m\u001b[0mget_named_features\u001b[0m\u001b[0;34m(\u001b[0m\u001b[0mtext\u001b[0m\u001b[0;34m)\u001b[0m \u001b[0;32mfor\u001b[0m \u001b[0mtext\u001b[0m \u001b[0;32min\u001b[0m \u001b[0mknowns\u001b[0m\u001b[0;34m]\u001b[0m\u001b[0;34m\u001b[0m\u001b[0m\n\u001b[1;32m      5\u001b[0m     \u001b[0munknownstats\u001b[0m \u001b[0;34m=\u001b[0m \u001b[0;34m[\u001b[0m\u001b[0mta\u001b[0m\u001b[0;34m.\u001b[0m\u001b[0mget_named_features\u001b[0m\u001b[0;34m(\u001b[0m\u001b[0mtext\u001b[0m\u001b[0;34m)\u001b[0m \u001b[0;32mfor\u001b[0m \u001b[0mtext\u001b[0m \u001b[0;32min\u001b[0m \u001b[0munknowns\u001b[0m\u001b[0;34m]\u001b[0m\u001b[0;34m\u001b[0m\u001b[0m\n",
      "\u001b[0;32m<ipython-input-561-4426334d8c8c>\u001b[0m in \u001b[0;36m__init__\u001b[0;34m(self, nlp)\u001b[0m\n\u001b[1;32m     19\u001b[0m             \u001b[0mself\u001b[0m\u001b[0;34m.\u001b[0m\u001b[0mnlp\u001b[0m \u001b[0;34m=\u001b[0m \u001b[0mnlp\u001b[0m\u001b[0;34m\u001b[0m\u001b[0m\n\u001b[1;32m     20\u001b[0m         \u001b[0;32melse\u001b[0m\u001b[0;34m:\u001b[0m\u001b[0;34m\u001b[0m\u001b[0m\n\u001b[0;32m---> 21\u001b[0;31m             \u001b[0mself\u001b[0m\u001b[0;34m.\u001b[0m\u001b[0mnlp\u001b[0m \u001b[0;34m=\u001b[0m \u001b[0mEnglish\u001b[0m\u001b[0;34m(\u001b[0m\u001b[0;34m)\u001b[0m\u001b[0;34m\u001b[0m\u001b[0m\n\u001b[0m\u001b[1;32m     22\u001b[0m \u001b[0;34m\u001b[0m\u001b[0m\n\u001b[1;32m     23\u001b[0m         \u001b[0;31m# alphabet for letter ratios\u001b[0m\u001b[0;34m\u001b[0m\u001b[0;34m\u001b[0m\u001b[0m\n",
      "\u001b[0;32m/usr/local/lib/python3.6/site-packages/spacy/en/__init__.py\u001b[0m in \u001b[0;36m__init__\u001b[0;34m(self, **overrides)\u001b[0m\n\u001b[1;32m     32\u001b[0m         \u001b[0;31m# Special-case hack for loading the GloVe vectors, to support <1.0\u001b[0m\u001b[0;34m\u001b[0m\u001b[0;34m\u001b[0m\u001b[0m\n\u001b[1;32m     33\u001b[0m         \u001b[0moverrides\u001b[0m \u001b[0;34m=\u001b[0m \u001b[0mfix_glove_vectors_loading\u001b[0m\u001b[0;34m(\u001b[0m\u001b[0moverrides\u001b[0m\u001b[0;34m)\u001b[0m\u001b[0;34m\u001b[0m\u001b[0m\n\u001b[0;32m---> 34\u001b[0;31m         \u001b[0mLanguage\u001b[0m\u001b[0;34m.\u001b[0m\u001b[0m__init__\u001b[0m\u001b[0;34m(\u001b[0m\u001b[0mself\u001b[0m\u001b[0;34m,\u001b[0m \u001b[0;34m**\u001b[0m\u001b[0moverrides\u001b[0m\u001b[0;34m)\u001b[0m\u001b[0;34m\u001b[0m\u001b[0m\n\u001b[0m",
      "\u001b[0;32m/usr/local/lib/python3.6/site-packages/spacy/language.py\u001b[0m in \u001b[0;36m__init__\u001b[0;34m(self, **overrides)\u001b[0m\n\u001b[1;32m    260\u001b[0m                          \u001b[0;32melse\u001b[0m \u001b[0moverrides\u001b[0m\u001b[0;34m[\u001b[0m\u001b[0;34m'add_vectors'\u001b[0m\u001b[0;34m]\u001b[0m\u001b[0;34m\u001b[0m\u001b[0m\n\u001b[1;32m    261\u001b[0m         \u001b[0;32mif\u001b[0m \u001b[0mself\u001b[0m\u001b[0;34m.\u001b[0m\u001b[0mvocab\u001b[0m \u001b[0;32mand\u001b[0m \u001b[0madd_vectors\u001b[0m\u001b[0;34m:\u001b[0m\u001b[0;34m\u001b[0m\u001b[0m\n\u001b[0;32m--> 262\u001b[0;31m             \u001b[0madd_vectors\u001b[0m\u001b[0;34m(\u001b[0m\u001b[0mself\u001b[0m\u001b[0;34m.\u001b[0m\u001b[0mvocab\u001b[0m\u001b[0;34m)\u001b[0m\u001b[0;34m\u001b[0m\u001b[0m\n\u001b[0m\u001b[1;32m    263\u001b[0m         \u001b[0mself\u001b[0m\u001b[0;34m.\u001b[0m\u001b[0mtokenizer\u001b[0m \u001b[0;34m=\u001b[0m \u001b[0mself\u001b[0m\u001b[0;34m.\u001b[0m\u001b[0mDefaults\u001b[0m\u001b[0;34m.\u001b[0m\u001b[0mcreate_tokenizer\u001b[0m\u001b[0;34m(\u001b[0m\u001b[0mself\u001b[0m\u001b[0;34m)\u001b[0m\u001b[0;31m \u001b[0m\u001b[0;31m\\\u001b[0m\u001b[0;34m\u001b[0m\u001b[0m\n\u001b[1;32m    264\u001b[0m                          \u001b[0;32mif\u001b[0m \u001b[0;34m'tokenizer'\u001b[0m \u001b[0;32mnot\u001b[0m \u001b[0;32min\u001b[0m \u001b[0moverrides\u001b[0m\u001b[0;31m \u001b[0m\u001b[0;31m\\\u001b[0m\u001b[0;34m\u001b[0m\u001b[0m\n",
      "\u001b[0;32m/usr/local/lib/python3.6/site-packages/spacy/deprecated.py\u001b[0m in \u001b[0;36m<lambda>\u001b[0;34m(vocab)\u001b[0m\n\u001b[1;32m    101\u001b[0m             \u001b[0mvec_path\u001b[0m \u001b[0;34m=\u001b[0m \u001b[0mvec_path\u001b[0m \u001b[0;34m/\u001b[0m \u001b[0;34m'vocab'\u001b[0m \u001b[0;34m/\u001b[0m \u001b[0;34m'vec.bin'\u001b[0m\u001b[0;34m\u001b[0m\u001b[0m\n\u001b[1;32m    102\u001b[0m     \u001b[0;32mif\u001b[0m \u001b[0mvec_path\u001b[0m \u001b[0;32mis\u001b[0m \u001b[0;32mnot\u001b[0m \u001b[0;32mNone\u001b[0m\u001b[0;34m:\u001b[0m\u001b[0;34m\u001b[0m\u001b[0m\n\u001b[0;32m--> 103\u001b[0;31m         \u001b[0moverrides\u001b[0m\u001b[0;34m[\u001b[0m\u001b[0;34m'add_vectors'\u001b[0m\u001b[0;34m]\u001b[0m \u001b[0;34m=\u001b[0m \u001b[0;32mlambda\u001b[0m \u001b[0mvocab\u001b[0m\u001b[0;34m:\u001b[0m \u001b[0mvocab\u001b[0m\u001b[0;34m.\u001b[0m\u001b[0mload_vectors_from_bin_loc\u001b[0m\u001b[0;34m(\u001b[0m\u001b[0mvec_path\u001b[0m\u001b[0;34m)\u001b[0m\u001b[0;34m\u001b[0m\u001b[0m\n\u001b[0m\u001b[1;32m    104\u001b[0m     \u001b[0;32mreturn\u001b[0m \u001b[0moverrides\u001b[0m\u001b[0;34m\u001b[0m\u001b[0m\n\u001b[1;32m    105\u001b[0m \u001b[0;34m\u001b[0m\u001b[0m\n",
      "\u001b[0;32m/usr/local/lib/python3.6/site-packages/spacy/vocab.pyx\u001b[0m in \u001b[0;36mspacy.vocab.Vocab.load_vectors_from_bin_loc (spacy/vocab.cpp:11686)\u001b[0;34m()\u001b[0m\n",
      "\u001b[0;32m/usr/local/lib/python3.6/site-packages/spacy/vocab.pyx\u001b[0m in \u001b[0;36mspacy.vocab.Vocab.get_by_orth (spacy/vocab.cpp:7113)\u001b[0;34m()\u001b[0m\n",
      "\u001b[0;32m/usr/local/lib/python3.6/site-packages/spacy/vocab.pyx\u001b[0m in \u001b[0;36mspacy.vocab.Vocab._new_lexeme (spacy/vocab.cpp:7439)\u001b[0;34m()\u001b[0m\n",
      "\u001b[0;32m/usr/local/lib/python3.6/site-packages/spacy/language.py\u001b[0m in \u001b[0;36m<lambda>\u001b[0;34m(string)\u001b[0m\n\u001b[1;32m    164\u001b[0m         \u001b[0mattrs\u001b[0m\u001b[0;34m.\u001b[0m\u001b[0mIS_LOWER\u001b[0m\u001b[0;34m:\u001b[0m \u001b[0morth\u001b[0m\u001b[0;34m.\u001b[0m\u001b[0mis_lower\u001b[0m\u001b[0;34m,\u001b[0m\u001b[0;34m\u001b[0m\u001b[0m\n\u001b[1;32m    165\u001b[0m         \u001b[0mattrs\u001b[0m\u001b[0;34m.\u001b[0m\u001b[0mIS_PUNCT\u001b[0m\u001b[0;34m:\u001b[0m \u001b[0morth\u001b[0m\u001b[0;34m.\u001b[0m\u001b[0mis_punct\u001b[0m\u001b[0;34m,\u001b[0m\u001b[0;34m\u001b[0m\u001b[0m\n\u001b[0;32m--> 166\u001b[0;31m         \u001b[0mattrs\u001b[0m\u001b[0;34m.\u001b[0m\u001b[0mIS_SPACE\u001b[0m\u001b[0;34m:\u001b[0m \u001b[0;32mlambda\u001b[0m \u001b[0mstring\u001b[0m\u001b[0;34m:\u001b[0m \u001b[0mstring\u001b[0m\u001b[0;34m.\u001b[0m\u001b[0misspace\u001b[0m\u001b[0;34m(\u001b[0m\u001b[0;34m)\u001b[0m\u001b[0;34m,\u001b[0m\u001b[0;34m\u001b[0m\u001b[0m\n\u001b[0m\u001b[1;32m    167\u001b[0m         \u001b[0mattrs\u001b[0m\u001b[0;34m.\u001b[0m\u001b[0mIS_TITLE\u001b[0m\u001b[0;34m:\u001b[0m \u001b[0morth\u001b[0m\u001b[0;34m.\u001b[0m\u001b[0mis_title\u001b[0m\u001b[0;34m,\u001b[0m\u001b[0;34m\u001b[0m\u001b[0m\n\u001b[1;32m    168\u001b[0m         \u001b[0mattrs\u001b[0m\u001b[0;34m.\u001b[0m\u001b[0mIS_UPPER\u001b[0m\u001b[0;34m:\u001b[0m \u001b[0morth\u001b[0m\u001b[0;34m.\u001b[0m\u001b[0mis_upper\u001b[0m\u001b[0;34m,\u001b[0m\u001b[0;34m\u001b[0m\u001b[0m\n",
      "\u001b[0;31mKeyboardInterrupt\u001b[0m: "
     ]
    }
   ],
   "source": [
    "knownzs, unkzs, means, stds = get_zscores(known, unknown)"
   ]
  },
  {
   "cell_type": "code",
   "execution_count": 584,
   "metadata": {
    "collapsed": false,
    "deletable": true,
    "editable": true
   },
   "outputs": [],
   "source": [
    "xk1 = knownzs[:100]\n",
    "xu1 = unknownzs[:100]\n",
    "y1 = labels[:100]"
   ]
  },
  {
   "cell_type": "code",
   "execution_count": 263,
   "metadata": {
    "collapsed": false,
    "deletable": true,
    "editable": true
   },
   "outputs": [],
   "source": [
    "s, o = supports_and_opposes(knownzs[11], unknownzs[11], sup_threshold=0.0)"
   ]
  },
  {
   "cell_type": "code",
   "execution_count": 578,
   "metadata": {
    "collapsed": false,
    "deletable": true,
    "editable": true
   },
   "outputs": [
    {
     "ename": "NameError",
     "evalue": "name 'x1' is not defined",
     "output_type": "error",
     "traceback": [
      "\u001b[0;31m---------------------------------------------------------------------------\u001b[0m",
      "\u001b[0;31mNameError\u001b[0m                                 Traceback (most recent call last)",
      "\u001b[0;32m<ipython-input-578-77f441b46edf>\u001b[0m in \u001b[0;36m<module>\u001b[0;34m()\u001b[0m\n\u001b[0;32m----> 1\u001b[0;31m \u001b[0mlen\u001b[0m\u001b[0;34m(\u001b[0m\u001b[0mx1\u001b[0m\u001b[0;34m[\u001b[0m\u001b[0;36m0\u001b[0m\u001b[0;34m]\u001b[0m\u001b[0;34m)\u001b[0m\u001b[0;34m\u001b[0m\u001b[0m\n\u001b[0m",
      "\u001b[0;31mNameError\u001b[0m: name 'x1' is not defined"
     ]
    }
   ],
   "source": [
    "len(x1[0])"
   ]
  },
  {
   "cell_type": "code",
   "execution_count": 182,
   "metadata": {
    "collapsed": false,
    "deletable": true,
    "editable": true
   },
   "outputs": [],
   "source": [
    "same_looks_different = [(i,v) for i,v in enumerate(y_test) if v and not preds_test[i]]"
   ]
  },
  {
   "cell_type": "code",
   "execution_count": 184,
   "metadata": {
    "collapsed": true,
    "deletable": true,
    "editable": true
   },
   "outputs": [],
   "source": [
    "different_looks_same = [(i,v) for i,v in enumerate(preds_test) if v and not y_test[i]]"
   ]
  },
  {
   "cell_type": "code",
   "execution_count": 697,
   "metadata": {
    "collapsed": true,
    "deletable": true,
    "editable": true
   },
   "outputs": [],
   "source": [
    "known_train, unknown_train, y_train = load_pan_data(pan15train)\n",
    "known_test, unknown_test, y_test = load_pan_data(pan15test)\n",
    "\n",
    "tr_kzs, tr_uzs = get_zscores(known_train, unknown_train)\n",
    "te_kzs, te_uzs = get_zscores(known_test, unknown_test)"
   ]
  },
  {
   "cell_type": "code",
   "execution_count": 754,
   "metadata": {
    "collapsed": false,
    "deletable": true,
    "editable": true
   },
   "outputs": [
    {
     "name": "stdout",
     "output_type": "stream",
     "text": [
      "Counter({0: 96, 1: 4})\n",
      "Counter({0: 483, 1: 17})\n",
      "             precision    recall  f1-score   support\n",
      "\n",
      "          0       0.52      1.00      0.68        50\n",
      "          1       1.00      0.08      0.15        50\n",
      "\n",
      "avg / total       0.76      0.54      0.42       100\n",
      "\n",
      "             precision    recall  f1-score   support\n",
      "\n",
      "          0       0.49      0.96      0.65       250\n",
      "          1       0.35      0.02      0.04       250\n",
      "\n",
      "avg / total       0.42      0.49      0.35       500\n",
      "\n"
     ]
    }
   ],
   "source": [
    "def top_bottom_shared_preds(kzs, unkzs, n, threshold=0):\n",
    "    all_shared = [shared_top_bottom(kzs[i], unkzs[i], n) for i in range(len(kzs))]\n",
    "    preds = [len(all_shared[i][0]) + len(all_shared[i][1]) for i in range(len(all_shared))]\n",
    "    preds = [1 if p > threshold else 0 for p in preds]\n",
    "    return preds\n",
    "\n",
    "tr_preds = top_bottom_shared_preds(tr_kzs, tr_uzs, 1, 0)\n",
    "te_preds = top_bottom_shared_preds(te_kzs, te_uzs, 1, 0)\n",
    "\n",
    "print(Counter(tr_preds))\n",
    "print(Counter(te_preds))\n",
    "\n",
    "print(classification_report(y_train, tr_preds))\n",
    "print(classification_report(y_test, te_preds))"
   ]
  },
  {
   "cell_type": "code",
   "execution_count": 799,
   "metadata": {
    "collapsed": false,
    "deletable": true,
    "editable": true
   },
   "outputs": [],
   "source": [
    "from scipy.spatial import distance\n",
    "def feature_distance(f1, f2):\n",
    "    return abs(f1[0] - f2[0])\n",
    "\n",
    "def absolute_diff_distance(t1, t2):\n",
    "    return [feature_distance(t1[i], t2[i]) for i in range(len(t1))]\n",
    "\n",
    "def euclidean_distance(t1, t2):\n",
    "    return distance.euclidean([f[0] for f in t1], [f[0] for f in t2])\n",
    "\n",
    "def cosine_distance(t1, t2):\n",
    "    return distance.cosine([f[0] for f in t1], [f[0] for f in t2])\n",
    "\n",
    "\n",
    "dist_func = euclidean_distance\n",
    "X_train_e = [dist_func(tr_kzs[i], tr_uzs[i]) for i in range(len(tr_kzs))]\n",
    "X_test_e = [dist_func(te_kzs[i], te_uzs[i]) for i in range(len(te_kzs))]\n",
    "\n",
    "dist_func = cosine_distance\n",
    "X_train_c = [dist_func(tr_kzs[i], tr_uzs[i]) for i in range(len(tr_kzs))]\n",
    "X_test_c = [dist_func(te_kzs[i], te_uzs[i]) for i in range(len(te_kzs))]"
   ]
  },
  {
   "cell_type": "code",
   "execution_count": 798,
   "metadata": {
    "collapsed": false,
    "deletable": true,
    "editable": true
   },
   "outputs": [
    {
     "name": "stdout",
     "output_type": "stream",
     "text": [
      "[0.74221908923121727, 0.88056118472560485, 1.0986871933765374, 0.97919885746483071, 1.0351577403508472, 1.0156437632077184, 1.0463419753296597, 1.0695400717547638, 0.9432596803754586, 1.12713696099739]\n",
      "[1, 0, 0, 0, 1, 1, 1, 0, 1, 0]\n"
     ]
    }
   ],
   "source": [
    "print(X_train[:10])\n",
    "print(y_train[:10])"
   ]
  },
  {
   "cell_type": "code",
   "execution_count": 791,
   "metadata": {
    "collapsed": false,
    "deletable": true,
    "editable": true
   },
   "outputs": [
    {
     "name": "stdout",
     "output_type": "stream",
     "text": [
      "14.1702272508127\n",
      "0.742219089231\n"
     ]
    }
   ],
   "source": [
    "t1 = [f[0] for f in tr_kzs[0]]\n",
    "t2 = [f[0] for f in tr_uzs[0]]\n",
    "print(distance.euclidean(t1, t2))\n",
    "print(distance.cosine(t1, t2))"
   ]
  },
  {
   "cell_type": "code",
   "execution_count": 755,
   "metadata": {
    "collapsed": false,
    "deletable": true,
    "editable": true
   },
   "outputs": [
    {
     "name": "stdout",
     "output_type": "stream",
     "text": [
      "(100, 2, 182)\n",
      "(500, 2, 182)\n"
     ]
    }
   ],
   "source": [
    "def get_values(text):\n",
    "    return [feature[0] for feature in text]\n",
    "\n",
    "tr_k = [get_values(t) for t in tr_kzs]\n",
    "tr_u = [get_values(t) for t in tr_uzs]\n",
    "\n",
    "te_k = [get_values(t) for t in te_kzs]\n",
    "te_u = [get_values(t) for t in te_uzs]\n",
    "\n",
    "tr_pairs = create_pairs(tr_k, tr_u)\n",
    "te_pairs = create_pairs(te_k, te_u)"
   ]
  },
  {
   "cell_type": "code",
   "execution_count": 701,
   "metadata": {
    "collapsed": false,
    "deletable": true,
    "editable": true
   },
   "outputs": [
    {
     "name": "stdout",
     "output_type": "stream",
     "text": [
      "Counter({1: 100})\n",
      "             precision    recall  f1-score   support\n",
      "\n",
      "          0       0.00      0.00      0.00        50\n",
      "          1       0.50      1.00      0.67        50\n",
      "\n",
      "avg / total       0.25      0.50      0.33       100\n",
      "\n",
      "Counter({1: 500})\n",
      "             precision    recall  f1-score   support\n",
      "\n",
      "          0       0.00      0.00      0.00       250\n",
      "          1       0.50      1.00      0.67       250\n",
      "\n",
      "avg / total       0.25      0.50      0.33       500\n",
      "\n"
     ]
    },
    {
     "name": "stderr",
     "output_type": "stream",
     "text": [
      "/usr/local/lib/python3.6/site-packages/sklearn/metrics/classification.py:1113: UndefinedMetricWarning: Precision and F-score are ill-defined and being set to 0.0 in labels with no predicted samples.\n",
      "  'precision', 'predicted', average, warn_for)\n"
     ]
    }
   ],
   "source": [
    "import statistics\n",
    "\n",
    "def mean(lst):\n",
    "    return len([x for x in lst if x > 1]) - len([x for x in lst if x < 0.5])\n",
    "\n",
    "means = [mean(x) for x in X_train]\n",
    "thresh = 0.9\n",
    "preds = [0 if x > thresh else 1 for x in means]\n",
    "print(Counter(preds))\n",
    "print(classification_report(y_train, preds))\n",
    "\n",
    "means = [mean(x) for x in X_test]\n",
    "thresh = 0.9\n",
    "preds = [0 if x > thresh else 1 for x in means]\n",
    "print(Counter(preds))\n",
    "print(classification_report(y_test, preds))"
   ]
  },
  {
   "cell_type": "code",
   "execution_count": 705,
   "metadata": {
    "collapsed": false,
    "deletable": true,
    "editable": true
   },
   "outputs": [
    {
     "name": "stdout",
     "output_type": "stream",
     "text": [
      "             precision    recall  f1-score   support\n",
      "\n",
      "          0       0.52      0.59      0.55       250\n",
      "          1       0.52      0.45      0.48       250\n",
      "\n",
      "avg / total       0.52      0.52      0.52       500\n",
      "\n"
     ]
    }
   ],
   "source": [
    "from sklearn.svm import LinearSVC\n",
    "from sklearn.model_selection import cross_val_score, cross_val_predict\n",
    "from sklearn.tree import DecisionTreeClassifier\n",
    "from sklearn.neural_network import MLPClassifier\n",
    "\n",
    "# X_train, X_test = X_test, X_train\n",
    "# y_train, y_test = y_test, y_train\n",
    "clf = LinearSVC()\n",
    "# clf = MLPClassifier(max_iter=5000)\n",
    "clf.fit(X_train, y_train)\n",
    "preds = clf.predict(X_test)\n",
    "print(classification_report(y_test, preds))\n",
    "#\n",
    "preds = cross_val_predict(clf, X_train, y_train, cv=5)\n",
    "# print(classification_report(y_train, preds))\n",
    "\n",
    "# print(cross_val_score(clf, X_train, labels, cv=5))\n",
    "preds = cross_val_predict(clf, X_test, y_test, cv=5)\n",
    "# print(classification_report(y_test, preds))"
   ]
  },
  {
   "cell_type": "code",
   "execution_count": 706,
   "metadata": {
    "collapsed": false,
    "deletable": true,
    "editable": true
   },
   "outputs": [
    {
     "data": {
      "text/plain": [
       "[0,\n",
       " 0.015627680469636474,\n",
       " 0.12235069802681779,\n",
       " 1.1221632011174523,\n",
       " 1.7143503619886888,\n",
       " 2.1979918629116755,\n",
       " 1.595392130404688,\n",
       " 0.0,\n",
       " 0.8380670501940051,\n",
       " 0.5269208427878804,\n",
       " 1.1817991707721203,\n",
       " 0.21598408283409043,\n",
       " 0.427733274995719,\n",
       " 2.3347334310683947,\n",
       " 0.8163466736415038,\n",
       " 0.858292458136892,\n",
       " 0.5253221087464783,\n",
       " 0.0,\n",
       " 1.506191046746371,\n",
       " 0.0019864395404885493,\n",
       " 0.7716184135354678,\n",
       " 2.663755519453452,\n",
       " 0.8867395788933928,\n",
       " 0.0,\n",
       " 1.203424540727251,\n",
       " 0.0,\n",
       " 0.4936650172350138,\n",
       " 1.1119850134649847,\n",
       " 0.0,\n",
       " 0.0,\n",
       " 1.5191031571369111,\n",
       " 0.0,\n",
       " 0.0,\n",
       " 0.0,\n",
       " 0.0,\n",
       " 2.23456900502077,\n",
       " 0.0,\n",
       " 0.0,\n",
       " 0.0,\n",
       " 0.0,\n",
       " 0.0,\n",
       " 0.6058477756918226,\n",
       " 6.358879316171409,\n",
       " 0.0,\n",
       " 0.6204057125871285,\n",
       " 0.0,\n",
       " 0.0,\n",
       " 0.0,\n",
       " 0.0,\n",
       " 0.0,\n",
       " 0.0,\n",
       " 0.0,\n",
       " 0.0,\n",
       " 0.7280938250593202,\n",
       " 1.3999060849539289,\n",
       " 3.38142928595038,\n",
       " 0,\n",
       " 1.2028304021109149,\n",
       " 1.3703783106229028,\n",
       " 2.488463148617295,\n",
       " 0.0,\n",
       " 0.0,\n",
       " 0.0,\n",
       " 0.0,\n",
       " 0.0,\n",
       " 0.0,\n",
       " 0.0,\n",
       " 0.0,\n",
       " 1.1518918631951436,\n",
       " 0.0,\n",
       " 0.7288303927400683,\n",
       " 2.3831448670841424,\n",
       " 0.010768164990658843,\n",
       " 0.4936010466319959,\n",
       " 1.010496388172771,\n",
       " 1.1521033890387031,\n",
       " 0.010184280046045435,\n",
       " 0,\n",
       " 0.0,\n",
       " 0.045393175206626335,\n",
       " 1.912685152305381,\n",
       " 1.2045220721652645,\n",
       " 0.0,\n",
       " 0.0,\n",
       " 0.0,\n",
       " 1.384074273744325,\n",
       " 0.011704005037679523,\n",
       " 0.0,\n",
       " 0.0,\n",
       " 1.7637370461957762,\n",
       " 0.0,\n",
       " 0.0,\n",
       " 1.594094369279084,\n",
       " 0.0,\n",
       " 0.8044748472422256,\n",
       " 0.14385998398944522,\n",
       " 0.5721893235430362,\n",
       " 0.07668245592288181,\n",
       " 1.3462733826738695,\n",
       " 0.47431206250529007,\n",
       " 0.5538321546806941,\n",
       " 0.05548304458768544,\n",
       " 0.0,\n",
       " 0.0,\n",
       " 0.0,\n",
       " 0.0,\n",
       " 3.7969298462084318,\n",
       " 0.0,\n",
       " 0.0,\n",
       " 0.0,\n",
       " 0.702974286148466,\n",
       " 0.0,\n",
       " 0.5872845476991984,\n",
       " 0.0,\n",
       " 0.0,\n",
       " 0,\n",
       " 0.0,\n",
       " 0.0,\n",
       " 0.0,\n",
       " 0.0,\n",
       " 2.2779334750284255,\n",
       " 0.0,\n",
       " 0.0,\n",
       " 0,\n",
       " 0.0,\n",
       " 0,\n",
       " 0,\n",
       " 0.0,\n",
       " 0.0,\n",
       " 0.8561549022811255,\n",
       " 0.0,\n",
       " 0.0,\n",
       " 0.027101209565594087,\n",
       " 0.0,\n",
       " 0.0,\n",
       " 0.0,\n",
       " 0.0,\n",
       " 1.866672305172295,\n",
       " 0.0,\n",
       " 0.8512029317083406,\n",
       " 1.3195441024053869,\n",
       " 0.0,\n",
       " 2.5059537594203625,\n",
       " 0.0,\n",
       " 0.7793882393373284,\n",
       " 1.6254084700773177,\n",
       " 0.0,\n",
       " 0.0,\n",
       " 0.0,\n",
       " 0.0,\n",
       " 1.2688285860533821,\n",
       " 0,\n",
       " 0,\n",
       " 0.0,\n",
       " 0.0,\n",
       " 0,\n",
       " 4.4572363873169145,\n",
       " 0.7028873862033648,\n",
       " 0.0,\n",
       " 0.016540246531446645,\n",
       " 0.0,\n",
       " 0,\n",
       " 0.5270696187419287,\n",
       " 0.6225102692171076,\n",
       " 0.0,\n",
       " 0.0,\n",
       " 1.1896662217336833,\n",
       " 0.0,\n",
       " 0.0,\n",
       " 0.0,\n",
       " 0.5258225317614176,\n",
       " 0.0,\n",
       " 0.0,\n",
       " 0.0,\n",
       " 1.0628710248863138,\n",
       " 0.6775956181434468,\n",
       " 0.0,\n",
       " 0.0,\n",
       " 0.0,\n",
       " 2.0731071581602705,\n",
       " 0.872403928822798,\n",
       " 0.2727380011100904]"
      ]
     },
     "execution_count": 706,
     "metadata": {},
     "output_type": "execute_result"
    }
   ],
   "source": [
    "X_train[0]"
   ]
  },
  {
   "cell_type": "code",
   "execution_count": 465,
   "metadata": {
    "collapsed": false,
    "deletable": true,
    "editable": true
   },
   "outputs": [],
   "source": [
    "preds = []\n",
    "for i in range(len(tr_kzs)):\n",
    "    z1 = tr_kzs[i]\n",
    "    z2 = tr_uzs[i]\n",
    "    s, o = supports_and_opposes(z1, z2, sup_threshold=1.4)\n",
    "    preds.append(len(s) > len(o))"
   ]
  },
  {
   "cell_type": "code",
   "execution_count": 449,
   "metadata": {
    "collapsed": false,
    "deletable": true,
    "editable": true
   },
   "outputs": [
    {
     "data": {
      "text/plain": [
       "Counter({False: 577, True: 723})"
      ]
     },
     "execution_count": 449,
     "metadata": {},
     "output_type": "execute_result"
    }
   ],
   "source": [
    "Counter(preds)"
   ]
  },
  {
   "cell_type": "code",
   "execution_count": 451,
   "metadata": {
    "collapsed": false,
    "deletable": true,
    "editable": true
   },
   "outputs": [
    {
     "name": "stdout",
     "output_type": "stream",
     "text": [
      "             precision    recall  f1-score   support\n",
      "\n",
      "          0       0.59      0.52      0.55       650\n",
      "          1       0.57      0.64      0.60       650\n",
      "\n",
      "avg / total       0.58      0.58      0.58      1300\n",
      "\n"
     ]
    }
   ],
   "source": [
    "print(classification_report(labels, preds))"
   ]
  },
  {
   "cell_type": "code",
   "execution_count": 450,
   "metadata": {
    "collapsed": false,
    "deletable": true,
    "editable": true
   },
   "outputs": [
    {
     "data": {
      "text/plain": [
       "0.6580882333333333"
      ]
     },
     "execution_count": 450,
     "metadata": {},
     "output_type": "execute_result"
    }
   ],
   "source": [
    "mean([ 0.70588235,  0.70588235,  0.5625    ])"
   ]
  },
  {
   "cell_type": "code",
   "execution_count": 800,
   "metadata": {
    "collapsed": false,
    "deletable": true,
    "editable": true
   },
   "outputs": [
    {
     "data": {
      "text/plain": [
       "(600,)"
      ]
     },
     "execution_count": 800,
     "metadata": {},
     "output_type": "execute_result"
    }
   ],
   "source": [
    "np.hstack([y_train,y_test]).shape"
   ]
  },
  {
   "cell_type": "code",
   "execution_count": 306,
   "metadata": {
    "collapsed": false,
    "deletable": true,
    "editable": true
   },
   "outputs": [],
   "source": [
    "means = [mean(x) for x in Xs]"
   ]
  },
  {
   "cell_type": "code",
   "execution_count": 810,
   "metadata": {
    "collapsed": false,
    "deletable": true,
    "editable": true
   },
   "outputs": [],
   "source": [
    "true = np.hstack([y_train,y_test])\n",
    "same = [x for i, x in enumerate(X_test_c) if y_test[i]]\n",
    "diff = [x for i, x in enumerate(X_test_c) if not y_test[i]]"
   ]
  },
  {
   "cell_type": "code",
   "execution_count": 1005,
   "metadata": {
    "collapsed": false,
    "deletable": true,
    "editable": true,
    "scrolled": true
   },
   "outputs": [
    {
     "data": {
      "text/plain": [
       "<matplotlib.collections.PathCollection at 0x1533a4f60>"
      ]
     },
     "execution_count": 1005,
     "metadata": {},
     "output_type": "execute_result"
    },
    {
     "data": {
      "image/png": "[encoded data removed]",
      "text/plain": [
       "<matplotlib.figure.Figure at 0x1506d3860>"
      ]
     },
     "metadata": {},
     "output_type": "display_data"
    }
   ],
   "source": [
    "%matplotlib inline\n",
    "from matplotlib import pyplot as plt\n",
    "\n",
    "same = [x for i, x in enumerate(rhos) if y_test[i]]\n",
    "diff = [x for i, x in enumerate(rhos) if not y_test[i]]\n",
    "plt.scatter(range(len(same)), same)\n",
    "plt.scatter(range(len(same)), diff)"
   ]
  },
  {
   "cell_type": "code",
   "execution_count": null,
   "metadata": {
    "collapsed": true,
    "deletable": true,
    "editable": true
   },
   "outputs": [],
   "source": []
  }
 ],
 "metadata": {
  "kernelspec": {
   "display_name": "Python 3",
   "language": "python",
   "name": "python3"
  },
  "language_info": {
   "codemirror_mode": {
    "name": "ipython",
    "version": 3
   },
   "file_extension": ".py",
   "mimetype": "text/x-python",
   "name": "python",
   "nbconvert_exporter": "python",
   "pygments_lexer": "ipython3",
   "version": "3.6.0"
  }
 },
 "nbformat": 4,
 "nbformat_minor": 2
}
