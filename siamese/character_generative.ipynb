{
 "cells": [
  {
   "cell_type": "code",
   "execution_count": 2,
   "metadata": {
    "collapsed": false,
    "deletable": true,
    "editable": true
   },
   "outputs": [
    {
     "name": "stderr",
     "output_type": "stream",
     "text": [
      "Using TensorFlow backend.\n"
     ]
    }
   ],
   "source": [
    "from keras.models import Sequential, Model, load_model\n",
    "model_path = \"/Users/g/git/char-embeddings/output/model.hdf5\"\n",
    "\n",
    "trained_model = load_model(model_path)"
   ]
  },
  {
   "cell_type": "code",
   "execution_count": 3,
   "metadata": {
    "collapsed": false,
    "deletable": true,
    "editable": true
   },
   "outputs": [
    {
     "data": {
      "text/plain": [
       "[array([[ 0.        ,  0.        ,  0.        , ...,  0.        ,\n",
       "          0.        ,  0.        ],\n",
       "        [ 0.02276734, -0.00849825,  0.01119453, ...,  0.01045316,\n",
       "         -0.00365897, -0.00579622],\n",
       "        [ 0.02850626, -0.20829438,  0.20986378, ...,  0.19447061,\n",
       "         -0.03668197, -0.04913757],\n",
       "        ..., \n",
       "        [ 0.25639474, -0.27427381,  0.08741026, ...,  0.16504318,\n",
       "         -0.10606523, -0.13719946],\n",
       "        [ 0.27301911, -0.25047618,  0.09171401, ...,  0.19639358,\n",
       "         -0.05847714, -0.11588186],\n",
       "        [ 0.25345701, -0.27562574,  0.10642631, ...,  0.17800714,\n",
       "         -0.08167854, -0.0818819 ]], dtype=float32)]"
      ]
     },
     "execution_count": 3,
     "metadata": {},
     "output_type": "execute_result"
    }
   ],
   "source": [
    "trained_model.layers[1].get_weights()"
   ]
  },
  {
   "cell_type": "code",
   "execution_count": 4,
   "metadata": {
    "collapsed": false,
    "deletable": true,
    "editable": true
   },
   "outputs": [
    {
     "name": "stdout",
     "output_type": "stream",
     "text": [
      "corpus length: 396105\n",
      "total chars: 72\n",
      "nb sequences: 132022\n",
      "Vectorization...\n"
     ]
    }
   ],
   "source": [
    "from __future__ import print_function\n",
    "from keras.models import Model\n",
    "from keras.layers import Dense, Activation, Embedding\n",
    "from keras.layers import LSTM, Input\n",
    "from keras.layers.merge import concatenate\n",
    "from keras.optimizers import RMSprop, Adam\n",
    "from keras.utils.data_utils import get_file\n",
    "from keras.layers.normalization import BatchNormalization\n",
    "from keras.callbacks import Callback, ModelCheckpoint\n",
    "from sklearn.decomposition import PCA\n",
    "from keras.utils import plot_model\n",
    "import numpy as np\n",
    "import random\n",
    "import sys\n",
    "import csv\n",
    "import os\n",
    "import h5py\n",
    "import time\n",
    "\n",
    "embeddings_path = \"glove.840B.300d-char.txt\"\n",
    "embedding_dim = 300\n",
    "batch_size = 128\n",
    "use_pca = False\n",
    "lr = 0.001\n",
    "lr_decay = 1e-4\n",
    "maxlen = 40\n",
    "consume_less = 2   # 0 for cpu, 2 for gpu\n",
    "\n",
    "text = text = open(\"/Users/g/git/neural-authorship-identification/charlm/pan15traincorpus.txt\").read()\n",
    "print('corpus length:', len(text))\n",
    "\n",
    "chars = sorted(list(set(text)))\n",
    "print('total chars:', len(chars))\n",
    "char_indices = dict((c, i) for i, c in enumerate(chars))\n",
    "indices_char = dict((i, c) for i, c in enumerate(chars))\n",
    "\n",
    "# cut the text in semi-redundant sequences of maxlen characters\n",
    "\n",
    "step = 3\n",
    "sentences = []\n",
    "next_chars = []\n",
    "for i in range(0, len(text) - maxlen, step):\n",
    "    sentences.append(text[i: i + maxlen])\n",
    "    next_chars.append(text[i + maxlen])\n",
    "print('nb sequences:', len(sentences))\n",
    "\n",
    "\n",
    "print('Vectorization...')\n",
    "X = np.zeros((len(sentences), maxlen), dtype=np.int)\n",
    "y = np.zeros((len(sentences), len(chars)), dtype=np.bool)\n",
    "for i, sentence in enumerate(sentences):\n",
    "    for t, char in enumerate(sentence):\n",
    "        X[i, t] = char_indices[char]\n",
    "\n"
   ]
  },
  {
   "cell_type": "code",
   "execution_count": 5,
   "metadata": {
    "collapsed": false,
    "deletable": true,
    "editable": true
   },
   "outputs": [
    {
     "name": "stdout",
     "output_type": "stream",
     "text": [
      "Processing pretrained character embeds...\n"
     ]
    }
   ],
   "source": [
    "# test code to sample on 10% for functional model testing\n",
    "\n",
    "def random_subset(X, y, p=0.1):\n",
    "\n",
    "    idx = np.random.randint(X.shape[0], size=int(X.shape[0] * p))\n",
    "    X = X[idx, :]\n",
    "    y = y[idx]\n",
    "    return (X, y)\n",
    "\n",
    "\n",
    "# https://blog.keras.io/using-pre-trained-word-embeddings-in-a-keras-model.html\n",
    "print('Processing pretrained character embeds...')\n",
    "embedding_vectors = {}\n",
    "with open(embeddings_path, 'r') as f:\n",
    "    for line in f:\n",
    "        line_split = line.strip().split(\" \")\n",
    "        vec = np.array(line_split[1:], dtype=float)\n",
    "        char = line_split[0]\n",
    "        embedding_vectors[char] = vec\n",
    "\n",
    "embedding_matrix = np.zeros((len(chars), 300))\n",
    "#embedding_matrix = np.random.uniform(-1, 1, (len(chars), 300))\n",
    "for char, i in char_indices.items():\n",
    "    #print (\"{}, {}\".format(char, i))\n",
    "    embedding_vector = embedding_vectors.get(char)\n",
    "    if embedding_vector is not None:\n",
    "        embedding_matrix[i] = embedding_vector\n",
    "\n",
    "# Use PCA from sklearn to reduce 300D -> 50D\n",
    "if use_pca:\n",
    "    pca = PCA(n_components=embedding_dim)\n",
    "    pca.fit(embedding_matrix)\n",
    "    embedding_matrix_pca = np.array(pca.transform(embedding_matrix))\n",
    "    print (embedding_matrix_pca)\n",
    "    print (embedding_matrix_pca.shape)\n"
   ]
  },
  {
   "cell_type": "code",
   "execution_count": null,
   "metadata": {
    "collapsed": false,
    "deletable": true,
    "editable": true
   },
   "outputs": [],
   "source": []
  },
  {
   "cell_type": "code",
   "execution_count": 6,
   "metadata": {
    "collapsed": false,
    "deletable": true,
    "editable": true
   },
   "outputs": [
    {
     "name": "stdout",
     "output_type": "stream",
     "text": [
      "Build model...\n",
      "____________________________________________________________________________________________________\n",
      "Layer (type)                     Output Shape          Param #     Connected to                     \n",
      "====================================================================================================\n",
      "input_1 (InputLayer)             (None, 40)            0                                            \n",
      "____________________________________________________________________________________________________\n",
      "embedding_1 (Embedding)          (None, 40, 300)       21600       input_1[0][0]                    \n",
      "____________________________________________________________________________________________________\n",
      "lstm_1 (LSTM)                    (None, 256)           570368      embedding_1[0][0]                \n",
      "____________________________________________________________________________________________________\n",
      "dense_2 (Dense)                  (None, 512)           131072      lstm_1[0][0]                     \n",
      "____________________________________________________________________________________________________\n",
      "batch_normalization_1 (BatchNorm (None, 512)           2048        dense_2[0][0]                    \n",
      "____________________________________________________________________________________________________\n",
      "activation_1 (Activation)        (None, 512)           0           batch_normalization_1[0][0]      \n",
      "____________________________________________________________________________________________________\n",
      "dense_3 (Dense)                  (None, 256)           131072      activation_1[0][0]               \n",
      "____________________________________________________________________________________________________\n",
      "batch_normalization_2 (BatchNorm (None, 256)           1024        dense_3[0][0]                    \n",
      "____________________________________________________________________________________________________\n",
      "activation_2 (Activation)        (None, 256)           0           batch_normalization_2[0][0]      \n",
      "____________________________________________________________________________________________________\n",
      "dense_4 (Dense)                  (None, 72)            18504       activation_2[0][0]               \n",
      "____________________________________________________________________________________________________\n",
      "dense_1 (Dense)                  (None, 72)            18504       lstm_1[0][0]                     \n",
      "____________________________________________________________________________________________________\n",
      "main_out (Activation)            (None, 72)            0           dense_4[0][0]                    \n",
      "____________________________________________________________________________________________________\n",
      "aux_out (Activation)             (None, 72)            0           dense_1[0][0]                    \n",
      "====================================================================================================\n",
      "Total params: 894,192\n",
      "Trainable params: 892,656\n",
      "Non-trainable params: 1,536\n",
      "____________________________________________________________________________________________________\n"
     ]
    }
   ],
   "source": [
    "print('Build model...')\n",
    "main_input = Input(shape=(maxlen,))\n",
    "embedding_layer = Embedding(\n",
    "    len(chars), embedding_dim, input_length=maxlen,\n",
    "    weights=[embedding_matrix_pca] if use_pca else [embedding_matrix])\n",
    "# embedding_layer = Embedding(\n",
    "#     len(chars), embedding_dim, input_length=maxlen)\n",
    "embedded = embedding_layer(main_input)\n",
    "\n",
    "# RNN Layer\n",
    "rnn = LSTM(256, implementation=consume_less)(embedded)\n",
    "\n",
    "aux_output = Dense(len(chars))(rnn)\n",
    "aux_output = Activation('softmax', name='aux_out')(aux_output)\n",
    "\n",
    "# Hidden Layers\n",
    "hidden_1 = Dense(512, use_bias=False)(rnn)\n",
    "hidden_1 = BatchNormalization()(hidden_1)\n",
    "hidden_1 = Activation('relu')(hidden_1)\n",
    "\n",
    "hidden_2 = Dense(256, use_bias=False)(hidden_1)\n",
    "hidden_2 = BatchNormalization()(hidden_2)\n",
    "hidden_2 = Activation('relu')(hidden_2)\n",
    "\n",
    "main_output = Dense(len(chars))(hidden_2)\n",
    "main_output = Activation('softmax', name='main_out')(main_output)\n",
    "\n",
    "model = Model(inputs=main_input, outputs=[main_output, aux_output])\n",
    "\n",
    "optimizer = Adam(lr=lr, decay=lr_decay)\n",
    "model.compile(loss='categorical_crossentropy',\n",
    "              optimizer=optimizer, loss_weights=[1., 0.2])\n",
    "model.summary()"
   ]
  },
  {
   "cell_type": "code",
   "execution_count": 7,
   "metadata": {
    "collapsed": false,
    "deletable": true,
    "editable": true
   },
   "outputs": [
    {
     "ename": "ValueError",
     "evalue": "Layer weight shape (72, 300) not compatible with provided weight shape (58, 300)",
     "output_type": "error",
     "traceback": [
      "\u001b[0;31m---------------------------------------------------------------\u001b[0m",
      "\u001b[0;31mValueError\u001b[0m                    Traceback (most recent call last)",
      "\u001b[0;32m<ipython-input-7-97c3464e4ac4>\u001b[0m in \u001b[0;36m<module>\u001b[0;34m()\u001b[0m\n\u001b[0;32m----> 1\u001b[0;31m \u001b[0mmodel\u001b[0m\u001b[0;34m.\u001b[0m\u001b[0mlayers\u001b[0m\u001b[0;34m[\u001b[0m\u001b[0;36m1\u001b[0m\u001b[0;34m]\u001b[0m\u001b[0;34m.\u001b[0m\u001b[0mset_weights\u001b[0m\u001b[0;34m(\u001b[0m\u001b[0mtrained_model\u001b[0m\u001b[0;34m.\u001b[0m\u001b[0mlayers\u001b[0m\u001b[0;34m[\u001b[0m\u001b[0;36m1\u001b[0m\u001b[0;34m]\u001b[0m\u001b[0;34m.\u001b[0m\u001b[0mget_weights\u001b[0m\u001b[0;34m(\u001b[0m\u001b[0;34m)\u001b[0m\u001b[0;34m)\u001b[0m\u001b[0;34m\u001b[0m\u001b[0m\n\u001b[0m",
      "\u001b[0;32m/usr/local/lib/python3.6/site-packages/keras/engine/topology.py\u001b[0m in \u001b[0;36mset_weights\u001b[0;34m(self, weights)\u001b[0m\n\u001b[1;32m   1188\u001b[0m                                  \u001b[0mstr\u001b[0m\u001b[0;34m(\u001b[0m\u001b[0mpv\u001b[0m\u001b[0;34m.\u001b[0m\u001b[0mshape\u001b[0m\u001b[0;34m)\u001b[0m \u001b[0;34m+\u001b[0m\u001b[0;34m\u001b[0m\u001b[0m\n\u001b[1;32m   1189\u001b[0m                                  \u001b[0;34m' not compatible with '\u001b[0m\u001b[0;34m\u001b[0m\u001b[0m\n\u001b[0;32m-> 1190\u001b[0;31m                                  'provided weight shape ' + str(w.shape))\n\u001b[0m\u001b[1;32m   1191\u001b[0m             \u001b[0mweight_value_tuples\u001b[0m\u001b[0;34m.\u001b[0m\u001b[0mappend\u001b[0m\u001b[0;34m(\u001b[0m\u001b[0;34m(\u001b[0m\u001b[0mp\u001b[0m\u001b[0;34m,\u001b[0m \u001b[0mw\u001b[0m\u001b[0;34m)\u001b[0m\u001b[0;34m)\u001b[0m\u001b[0;34m\u001b[0m\u001b[0m\n\u001b[1;32m   1192\u001b[0m         \u001b[0mK\u001b[0m\u001b[0;34m.\u001b[0m\u001b[0mbatch_set_value\u001b[0m\u001b[0;34m(\u001b[0m\u001b[0mweight_value_tuples\u001b[0m\u001b[0;34m)\u001b[0m\u001b[0;34m\u001b[0m\u001b[0m\n",
      "\u001b[0;31mValueError\u001b[0m: Layer weight shape (72, 300) not compatible with provided weight shape (58, 300)"
     ]
    }
   ],
   "source": [
    "model.layers[1].set_weights(trained_model.layers[1].get_weights())"
   ]
  },
  {
   "cell_type": "code",
   "execution_count": 9,
   "metadata": {
    "collapsed": false,
    "deletable": true,
    "editable": true
   },
   "outputs": [
    {
     "data": {
      "text/plain": [
       "(72, 300)"
      ]
     },
     "execution_count": 9,
     "metadata": {},
     "output_type": "execute_result"
    }
   ],
   "source": [
    "model.layers[1].get_weights()[0].shape"
   ]
  },
  {
   "cell_type": "code",
   "execution_count": 8,
   "metadata": {
    "collapsed": false,
    "deletable": true,
    "editable": true
   },
   "outputs": [
    {
     "data": {
      "text/plain": [
       "(58, 300)"
      ]
     },
     "execution_count": 8,
     "metadata": {},
     "output_type": "execute_result"
    }
   ],
   "source": [
    "trained_model.layers[1].get_weights()[0].shape"
   ]
  },
  {
   "cell_type": "code",
   "execution_count": 10,
   "metadata": {
    "collapsed": false,
    "deletable": true,
    "editable": true
   },
   "outputs": [
    {
     "name": "stdout",
     "output_type": "stream",
     "text": [
      "____________________________________________________________________________________________________\n",
      "Layer (type)                     Output Shape          Param #     Connected to                     \n",
      "====================================================================================================\n",
      "input_6 (InputLayer)             (None, 100)           0                                            \n",
      "____________________________________________________________________________________________________\n",
      "embedding_6 (Embedding)          (None, 100, 300)      17400       input_6[0][0]                    \n",
      "____________________________________________________________________________________________________\n",
      "lstm_5 (LSTM)                    (None, 256)           570368      embedding_6[0][0]                \n",
      "____________________________________________________________________________________________________\n",
      "dense_19 (Dense)                 (None, 512)           131072      lstm_5[0][0]                     \n",
      "____________________________________________________________________________________________________\n",
      "batch_normalization_9 (BatchNorm (None, 512)           2048        dense_19[0][0]                   \n",
      "____________________________________________________________________________________________________\n",
      "activation_9 (Activation)        (None, 512)           0           batch_normalization_9[0][0]      \n",
      "____________________________________________________________________________________________________\n",
      "dense_20 (Dense)                 (None, 256)           131072      activation_9[0][0]               \n",
      "____________________________________________________________________________________________________\n",
      "batch_normalization_10 (BatchNor (None, 256)           1024        dense_20[0][0]                   \n",
      "____________________________________________________________________________________________________\n",
      "activation_10 (Activation)       (None, 256)           0           batch_normalization_10[0][0]     \n",
      "____________________________________________________________________________________________________\n",
      "dense_21 (Dense)                 (None, 58)            14906       activation_10[0][0]              \n",
      "____________________________________________________________________________________________________\n",
      "dense_18 (Dense)                 (None, 58)            14906       lstm_5[0][0]                     \n",
      "____________________________________________________________________________________________________\n",
      "main_out (Activation)            (None, 58)            0           dense_21[0][0]                   \n",
      "____________________________________________________________________________________________________\n",
      "aux_out (Activation)             (None, 58)            0           dense_18[0][0]                   \n",
      "====================================================================================================\n",
      "Total params: 882,796\n",
      "Trainable params: 881,260\n",
      "Non-trainable params: 1,536\n",
      "____________________________________________________________________________________________________\n"
     ]
    }
   ],
   "source": [
    "trained_model.summary()"
   ]
  },
  {
   "cell_type": "code",
   "execution_count": 11,
   "metadata": {
    "collapsed": false,
    "deletable": true,
    "editable": true
   },
   "outputs": [
    {
     "name": "stdout",
     "output_type": "stream",
     "text": [
      "____________________________________________________________________________________________________\n",
      "Layer (type)                     Output Shape          Param #     Connected to                     \n",
      "====================================================================================================\n",
      "input_1 (InputLayer)             (None, 40)            0                                            \n",
      "____________________________________________________________________________________________________\n",
      "embedding_1 (Embedding)          (None, 40, 300)       21600       input_1[0][0]                    \n",
      "____________________________________________________________________________________________________\n",
      "lstm_1 (LSTM)                    (None, 256)           570368      embedding_1[0][0]                \n",
      "____________________________________________________________________________________________________\n",
      "dense_2 (Dense)                  (None, 512)           131072      lstm_1[0][0]                     \n",
      "____________________________________________________________________________________________________\n",
      "batch_normalization_1 (BatchNorm (None, 512)           2048        dense_2[0][0]                    \n",
      "____________________________________________________________________________________________________\n",
      "activation_1 (Activation)        (None, 512)           0           batch_normalization_1[0][0]      \n",
      "____________________________________________________________________________________________________\n",
      "dense_3 (Dense)                  (None, 256)           131072      activation_1[0][0]               \n",
      "____________________________________________________________________________________________________\n",
      "batch_normalization_2 (BatchNorm (None, 256)           1024        dense_3[0][0]                    \n",
      "____________________________________________________________________________________________________\n",
      "activation_2 (Activation)        (None, 256)           0           batch_normalization_2[0][0]      \n",
      "____________________________________________________________________________________________________\n",
      "dense_4 (Dense)                  (None, 72)            18504       activation_2[0][0]               \n",
      "____________________________________________________________________________________________________\n",
      "dense_1 (Dense)                  (None, 72)            18504       lstm_1[0][0]                     \n",
      "____________________________________________________________________________________________________\n",
      "main_out (Activation)            (None, 72)            0           dense_4[0][0]                    \n",
      "____________________________________________________________________________________________________\n",
      "aux_out (Activation)             (None, 72)            0           dense_1[0][0]                    \n",
      "====================================================================================================\n",
      "Total params: 894,192\n",
      "Trainable params: 892,656\n",
      "Non-trainable params: 1,536\n",
      "____________________________________________________________________________________________________\n"
     ]
    }
   ],
   "source": [
    "model.summary()"
   ]
  },
  {
   "cell_type": "code",
   "execution_count": null,
   "metadata": {
    "collapsed": true,
    "deletable": true,
    "editable": true
   },
   "outputs": [],
   "source": []
  }
 ],
 "metadata": {
  "kernelspec": {
   "display_name": "Python 3",
   "language": "python",
   "name": "python3"
  },
  "language_info": {
   "codemirror_mode": {
    "name": "ipython",
    "version": 3
   },
   "file_extension": ".py",
   "mimetype": "text/x-python",
   "name": "python",
   "nbconvert_exporter": "python",
   "pygments_lexer": "ipython3",
   "version": "3.6.0"
  }
 },
 "nbformat": 4,
 "nbformat_minor": 2
}
