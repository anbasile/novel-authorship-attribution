{
 "cells": [
  {
   "cell_type": "code",
   "execution_count": 1,
   "metadata": {
    "collapsed": true,
    "deletable": true,
    "editable": true
   },
   "outputs": [],
   "source": [
    "# Helper functions for preprocessing raw text before feeding it into a Neural Net\n",
    "import string\n",
    "import numpy as np\n",
    "\n",
    "# Map printable characters to ints and vice-versa\n",
    "ALPHABET = string.printable\n",
    "\n",
    "char2int = dict((c, i) for i, c in enumerate(ALPHABET))\n",
    "int2char = dict((i, c) for i, c in enumerate(ALPHABET))\n",
    "\n",
    "\n",
    "def c2i(char):\n",
    "    return char2int[char]\n",
    "\n",
    "def i2c(num):\n",
    "    return int2char[num]\n",
    "\n",
    "\n",
    "def vectorize_text(text):\n",
    "    \"\"\"Convert a text into integers\"\"\"\n",
    "    X = []\n",
    "    text = ''.join(list(filter(lambda x: x in ALPHABET, text)))\n",
    "    X = [c2i(char) for char in text]\n",
    "    X = np.array(X)\n",
    "    X = X / float(len(ALPHABET))\n",
    "    return X"
   ]
  },
  {
   "cell_type": "code",
   "execution_count": 2,
   "metadata": {
    "collapsed": false,
    "deletable": true,
    "editable": true
   },
   "outputs": [
    {
     "name": "stdout",
     "output_type": "stream",
     "text": [
      "(100,)\n"
     ]
    }
   ],
   "source": [
    "print(vectorize_text([ALPHABET]).shape)\n",
    "# print(len(ALPHABET))\n",
    "# print(ALPHABET[-1])"
   ]
  },
  {
   "cell_type": "code",
   "execution_count": 14,
   "metadata": {
    "collapsed": true
   },
   "outputs": [],
   "source": [
    "from spacy.en import English\n",
    "nlp = English()"
   ]
  },
  {
   "cell_type": "code",
   "execution_count": 22,
   "metadata": {
    "collapsed": false,
    "deletable": true,
    "editable": true
   },
   "outputs": [],
   "source": [
    "import os\n",
    "\n",
    "\n",
    "class TextPair:\n",
    "    def __init__(self, author, known, unknown, max_length=1200):\n",
    "        self.author = author\n",
    "        self.known = known\n",
    "        self.unknown = unknown\n",
    "        self.max_length = max_length\n",
    "\n",
    "def get_string(filename):\n",
    "    with open(filename, encoding=\"utf8\") as f:\n",
    "        s = f.read()\n",
    "    return s\n",
    "\n",
    "def get_texts(directory):\n",
    "    authors = [x for x in os.listdir(directory) if x.startswith(\"EN\")]\n",
    "    print(\"Authors: {}\".format(len(authors)))\n",
    "    tps = []\n",
    "    for author in authors:\n",
    "        known = os.path.join(directory, author, \"known01.txt\")\n",
    "        unknown = os.path.join(directory, author, \"unknown.txt\")\n",
    "        tps.append(TextPair(author, get_string(known), get_string(unknown)))\n",
    "    return tps\n",
    "\n",
    "def load_truth(directory):\n",
    "    # get labels\n",
    "    truthfile = os.path.join(directory, \"truth.txt\")\n",
    "    with open(truthfile) as f:\n",
    "        lines = f.read().strip().split(\"\\n\")\n",
    "    y = [1 if line.split()[1] == \"Y\" else 0 for line in lines]\n",
    "    y = np.array(y)\n",
    "    return y\n",
    "\n",
    "def get_data(tps):  \n",
    "    knownX = [nlp(tp.known).vector for tp in tps]\n",
    "    unknownX = [nlp(tp.unknown).vector for tp in tps]\n",
    "    # lengths = [x.shape[0] for x in knownX + unknownX]\n",
    "    # from matplotlib import pyplot as plt\n",
    "    # plt.hist(lengths)\n",
    "    # plt.show()\n",
    "    \n",
    "    # print(min([x.shape[0] for x in knownX + unknownX]))\n",
    "    \n",
    "    # truncate all texts to 1200 characters\n",
    "    tkX = np.array(knownX)\n",
    "    tuX = np.array(unknownX)\n",
    "    # print(tkX.shape)\n",
    "    \n",
    "    # create pairs\n",
    "    pairs = []\n",
    "    for i in range(tkX.shape[0]):\n",
    "        pairs += [[tkX[i], tuX[i]]]\n",
    "    pairs = np.array(pairs)\n",
    "    print(pairs.shape)\n",
    "    return pairs\n",
    "\n"
   ]
  },
  {
   "cell_type": "code",
   "execution_count": 66,
   "metadata": {
    "collapsed": false,
    "deletable": true,
    "editable": true
   },
   "outputs": [],
   "source": [
    "pan15train = \"/data/pan15-authorship-verification-training-dataset-english-2015-04-19/\"\n",
    "pan15test = \"/data/pan15-authorship-verification-test-dataset2-english-2015-04-19/\"\n",
    "pan14train = \"/data/pan14-author-verification-training-corpus-english-novels-2014-04-22/\"\n",
    "pan14test = \"/data/pan14-author-verification-test-corpus2-english-novels-2014-04-22/\"\n",
    "emailstrain = \"/data/emails-train/\"\n",
    "emailstest = \"/data/emails-test/\"\n",
    "\n"
   ]
  },
  {
   "cell_type": "code",
   "execution_count": 70,
   "metadata": {
    "collapsed": false,
    "deletable": true,
    "editable": true
   },
   "outputs": [
    {
     "name": "stdout",
     "output_type": "stream",
     "text": [
      "Authors: 100\n",
      "Authors: 500\n"
     ]
    }
   ],
   "source": [
    "te_tps = get_texts(pan15train)\n",
    "te_y = load_truth(pan15train)\n",
    "tr_tps = get_texts(pan15test)\n",
    "tr_y = load_truth(pan15test)"
   ]
  },
  {
   "cell_type": "code",
   "execution_count": 71,
   "metadata": {
    "collapsed": false,
    "deletable": true,
    "editable": true
   },
   "outputs": [
    {
     "name": "stdout",
     "output_type": "stream",
     "text": [
      "(500, 2, 300)\n"
     ]
    }
   ],
   "source": [
    "tr_pairs = get_data(tr_tps)"
   ]
  },
  {
   "cell_type": "code",
   "execution_count": 72,
   "metadata": {
    "collapsed": false
   },
   "outputs": [
    {
     "name": "stdout",
     "output_type": "stream",
     "text": [
      "(100, 2, 300)\n"
     ]
    }
   ],
   "source": [
    "te_pairs = get_data(te_tps)"
   ]
  },
  {
   "cell_type": "code",
   "execution_count": 48,
   "metadata": {
    "collapsed": false,
    "deletable": true,
    "editable": true
   },
   "outputs": [],
   "source": [
    "def build_training(textpairs):\n",
    "    # Build training only from known texts\n",
    "    # Test as known/unknown pairs\n",
    "    training = []\n",
    "    tr_labels = []\n",
    "    for i, tp in enumerate(textpairs):\n",
    "        bi = int(len(tp.known)/2)\n",
    "        nxt = i+1\n",
    "        if textpairs[i] == textpairs[-1]:\n",
    "            nxt = 0\n",
    "        ntp_same = TextPair(tp.author, tp.known[:bi], tp.known[bi:])\n",
    "        ntp_diff = TextPair(tp.author, tp.known, textpairs[nxt].known)\n",
    "        training += [ntp_same, ntp_diff]\n",
    "        tr_labels += [1, 0]\n",
    "    return training, tr_labels"
   ]
  },
  {
   "cell_type": "code",
   "execution_count": 73,
   "metadata": {
    "collapsed": false,
    "deletable": true,
    "editable": true
   },
   "outputs": [],
   "source": [
    "from __future__ import absolute_import\n",
    "from __future__ import print_function\n",
    "import numpy as np\n",
    "np.random.seed(1337)  # for reproducibility\n",
    "\n",
    "import random\n",
    "from keras.datasets import mnist\n",
    "from keras.models import Sequential, Model\n",
    "from keras.layers import Dense, Dropout, Input, Lambda, LSTM\n",
    "from keras.optimizers import RMSprop\n",
    "from keras import backend as K\n",
    "\n",
    "\n",
    "def euclidean_distance(vects):\n",
    "    x, y = vects\n",
    "    return K.sqrt(K.sum(K.square(x - y), axis=1, keepdims=True))\n",
    "\n",
    "\n",
    "def eucl_dist_output_shape(shapes):\n",
    "    shape1, shape2 = shapes\n",
    "    return (shape1[0], 1)\n",
    "\n",
    "\n",
    "def contrastive_loss(y_true, y_pred):\n",
    "    '''Contrastive loss from Hadsell-et-al.'06\n",
    "    http://yann.lecun.com/exdb/publis/pdf/hadsell-chopra-lecun-06.pdf\n",
    "    '''\n",
    "    margin = 1\n",
    "    return K.mean(y_true * K.square(y_pred) + (1 - y_true) * K.square(K.maximum(margin - y_pred, 0)))\n",
    "\n",
    "\n",
    "def create_pairs(x, digit_indices):\n",
    "    '''Positive and negative pair creation.\n",
    "    Alternates between positive and negative pairs.\n",
    "    '''\n",
    "    pairs = []\n",
    "    labels = []\n",
    "    n = min([len(digit_indices[d]) for d in range(10)]) - 1\n",
    "    for d in range(10):\n",
    "        for i in range(n):\n",
    "            z1, z2 = digit_indices[d][i], digit_indices[d][i + 1]\n",
    "            pairs += [[x[z1], x[z2]]]\n",
    "            inc = random.randrange(1, 10)\n",
    "            dn = (d + inc) % 10\n",
    "            z1, z2 = digit_indices[d][i], digit_indices[dn][i]\n",
    "            pairs += [[x[z1], x[z2]]]\n",
    "            labels += [1, 0]\n",
    "    return np.array(pairs), np.array(labels)\n",
    "\n",
    "\n",
    "def create_base_network(input_dim):\n",
    "    '''Base network to be shared (eq. to feature extraction).\n",
    "    '''\n",
    "    seq = Sequential()\n",
    "    seq.add(Dense(128, input_shape=(input_dim,), activation='relu'))\n",
    "    seq.add(Dense(128, activation='relu'))\n",
    "    seq.add(Dropout(0.1))\n",
    "    seq.add(Dense(256, activation='relu'))\n",
    "    seq.add(Dense(512, activation='relu'))\n",
    "    seq.add(Dense(512, activation='relu'))\n",
    "    seq.add(Dense(512, activation='relu'))\n",
    "    return seq\n",
    "\n",
    "def compute_accuracy(predictions, labels):\n",
    "    return np.mean(np.equal(predictions.ravel() < 0.5, labels))"
   ]
  },
  {
   "cell_type": "code",
   "execution_count": 83,
   "metadata": {
    "collapsed": false,
    "deletable": true,
    "editable": true
   },
   "outputs": [],
   "source": [
    "input_dim = tr_pairs.shape[-1]\n",
    "\n",
    "# network definition\n",
    "base_network = create_base_network(input_dim)\n",
    "\n",
    "input_a = Input(shape=(input_dim,))\n",
    "input_b = Input(shape=(input_dim,))\n",
    "\n",
    "# because we re-use the same instance `base_network`,\n",
    "# the weights of the network\n",
    "# will be shared across the two branches\n",
    "processed_a = base_network(input_a)\n",
    "processed_b = base_network(input_b)\n",
    "\n",
    "distance = Lambda(euclidean_distance, output_shape=eucl_dist_output_shape)([processed_a, processed_b])\n",
    "\n",
    "model = Model(inputs=[input_a, input_b], outputs=distance)"
   ]
  },
  {
   "cell_type": "code",
   "execution_count": 84,
   "metadata": {
    "collapsed": false,
    "deletable": true,
    "editable": true
   },
   "outputs": [
    {
     "name": "stdout",
     "output_type": "stream",
     "text": [
      "Train on 95 samples, validate on 5 samples\n",
      "Epoch 1/50\n",
      "95/95 [==============================] - 0s - loss: 0.3478 - val_loss: 0.3808\b\b\b\b\b\b\b\b\b\b\b\b\b\b\b\b\b\b\b\b\b\b\b\b\b\b\b\b\b\b\b\b\b\b\b\b\b\b\b\b\b\b\b\b\b\b\b\b\b\n",
      "Epoch 2/50\n",
      "95/95 [==============================] - 0s - loss: 0.2601 - val_loss: 0.2829\b\b\b\b\b\b\b\b\b\b\b\b\b\b\b\b\b\b\b\b\b\b\b\b\b\b\b\b\b\b\b\b\b\b\b\b\b\b\b\b\b\b\b\b\b\b\b\b\b\n",
      "Epoch 3/50\n",
      "95/95 [==============================] - 0s - loss: 0.2529 - val_loss: 0.2718\b\b\b\b\b\b\b\b\b\b\b\b\b\b\b\b\b\b\b\b\b\b\b\b\b\b\b\b\b\b\b\b\b\b\b\b\b\b\b\b\b\b\b\b\b\b\b\b\b\n",
      "Epoch 4/50\n",
      "95/95 [==============================] - 0s - loss: 0.2475 - val_loss: 0.3075\b\b\b\b\b\b\b\b\b\b\b\b\b\b\b\b\b\b\b\b\b\b\b\b\b\b\b\b\b\b\b\b\b\b\b\b\b\b\b\b\b\b\b\b\b\b\b\b\b\n",
      "Epoch 5/50\n",
      "95/95 [==============================] - 0s - loss: 0.2308 - val_loss: 0.2907\b\b\b\b\b\b\b\b\b\b\b\b\b\b\b\b\b\b\b\b\b\b\b\b\b\b\b\b\b\b\b\b\b\b\b\b\b\b\b\b\b\b\b\b\b\b\b\b\b\n",
      "Epoch 6/50\n",
      "95/95 [==============================] - 0s - loss: 0.2279 - val_loss: 0.2714\b\b\b\b\b\b\b\b\b\b\b\b\b\b\b\b\b\b\b\b\b\b\b\b\b\b\b\b\b\b\b\b\b\b\b\b\b\b\b\b\b\b\b\b\b\b\b\b\b\n",
      "Epoch 7/50\n",
      "95/95 [==============================] - 0s - loss: 0.1742 - val_loss: 0.2613\b\b\b\b\b\b\b\b\b\b\b\b\b\b\b\b\b\b\b\b\b\b\b\b\b\b\b\b\b\b\b\b\b\b\b\b\b\b\b\b\b\b\b\b\b\b\b\b\b\n",
      "Epoch 8/50\n",
      "95/95 [==============================] - 0s - loss: 0.1855 - val_loss: 0.2326\b\b\b\b\b\b\b\b\b\b\b\b\b\b\b\b\b\b\b\b\b\b\b\b\b\b\b\b\b\b\b\b\b\b\b\b\b\b\b\b\b\b\b\b\b\b\b\b\b\n",
      "Epoch 9/50\n",
      "95/95 [==============================] - 0s - loss: 0.1644 - val_loss: 0.2109\b\b\b\b\b\b\b\b\b\b\b\b\b\b\b\b\b\b\b\b\b\b\b\b\b\b\b\b\b\b\b\b\b\b\b\b\b\b\b\b\b\b\b\b\b\b\b\b\b\n",
      "Epoch 10/50\n",
      "95/95 [==============================] - 0s - loss: 0.1334 - val_loss: 0.1842\b\b\b\b\b\b\b\b\b\b\b\b\b\b\b\b\b\b\b\b\b\b\b\b\b\b\b\b\b\b\b\b\b\b\b\b\b\b\b\b\b\b\b\b\b\b\b\b\b\n",
      "Epoch 11/50\n",
      "95/95 [==============================] - 0s - loss: 0.1078 - val_loss: 0.1603\b\b\b\b\b\b\b\b\b\b\b\b\b\b\b\b\b\b\b\b\b\b\b\b\b\b\b\b\b\b\b\b\b\b\b\b\b\b\b\b\b\b\b\b\b\b\b\b\b\n",
      "Epoch 12/50\n",
      "95/95 [==============================] - 0s - loss: 0.1113 - val_loss: 0.1470\b\b\b\b\b\b\b\b\b\b\b\b\b\b\b\b\b\b\b\b\b\b\b\b\b\b\b\b\b\b\b\b\b\b\b\b\b\b\b\b\b\b\b\b\b\b\b\b\b\n",
      "Epoch 13/50\n",
      "95/95 [==============================] - 0s - loss: 0.0865 - val_loss: 0.1197\b\b\b\b\b\b\b\b\b\b\b\b\b\b\b\b\b\b\b\b\b\b\b\b\b\b\b\b\b\b\b\b\b\b\b\b\b\b\b\b\b\b\b\b\b\b\b\b\b\n",
      "Epoch 14/50\n",
      "95/95 [==============================] - 0s - loss: 0.0864 - val_loss: 0.1029\b\b\b\b\b\b\b\b\b\b\b\b\b\b\b\b\b\b\b\b\b\b\b\b\b\b\b\b\b\b\b\b\b\b\b\b\b\b\b\b\b\b\b\b\b\b\b\b\b\n",
      "Epoch 15/50\n",
      "95/95 [==============================] - 0s - loss: 0.0673 - val_loss: 0.1077\b\b\b\b\b\b\b\b\b\b\b\b\b\b\b\b\b\b\b\b\b\b\b\b\b\b\b\b\b\b\b\b\b\b\b\b\b\b\b\b\b\b\b\b\b\b\b\b\b\n",
      "Epoch 16/50\n",
      "95/95 [==============================] - 0s - loss: 0.0566 - val_loss: 0.0964\b\b\b\b\b\b\b\b\b\b\b\b\b\b\b\b\b\b\b\b\b\b\b\b\b\b\b\b\b\b\b\b\b\b\b\b\b\b\b\b\b\b\b\b\b\b\b\b\b\n",
      "Epoch 17/50\n",
      "95/95 [==============================] - 0s - loss: 0.0582 - val_loss: 0.0823\b\b\b\b\b\b\b\b\b\b\b\b\b\b\b\b\b\b\b\b\b\b\b\b\b\b\b\b\b\b\b\b\b\b\b\b\b\b\b\b\b\b\b\b\b\b\b\b\b\n",
      "Epoch 18/50\n",
      "95/95 [==============================] - 0s - loss: 0.0514 - val_loss: 0.0607\b\b\b\b\b\b\b\b\b\b\b\b\b\b\b\b\b\b\b\b\b\b\b\b\b\b\b\b\b\b\b\b\b\b\b\b\b\b\b\b\b\b\b\b\b\b\b\b\b\n",
      "Epoch 19/50\n",
      "95/95 [==============================] - 0s - loss: 0.0461 - val_loss: 0.0339\b\b\b\b\b\b\b\b\b\b\b\b\b\b\b\b\b\b\b\b\b\b\b\b\b\b\b\b\b\b\b\b\b\b\b\b\b\b\b\b\b\b\b\b\b\b\b\b\b\n",
      "Epoch 20/50\n",
      "95/95 [==============================] - 0s - loss: 0.0400 - val_loss: 0.0277\b\b\b\b\b\b\b\b\b\b\b\b\b\b\b\b\b\b\b\b\b\b\b\b\b\b\b\b\b\b\b\b\b\b\b\b\b\b\b\b\b\b\b\b\b\b\b\b\b\n",
      "Epoch 21/50\n",
      "95/95 [==============================] - 0s - loss: 0.0406 - val_loss: 0.0351\b\b\b\b\b\b\b\b\b\b\b\b\b\b\b\b\b\b\b\b\b\b\b\b\b\b\b\b\b\b\b\b\b\b\b\b\b\b\b\b\b\b\b\b\b\b\b\b\b\n",
      "Epoch 22/50\n",
      "95/95 [==============================] - 0s - loss: 0.0340 - val_loss: 0.0416\b\b\b\b\b\b\b\b\b\b\b\b\b\b\b\b\b\b\b\b\b\b\b\b\b\b\b\b\b\b\b\b\b\b\b\b\b\b\b\b\b\b\b\b\b\b\b\b\b\n",
      "Epoch 23/50\n",
      "95/95 [==============================] - 0s - loss: 0.0372 - val_loss: 0.0497\b\b\b\b\b\b\b\b\b\b\b\b\b\b\b\b\b\b\b\b\b\b\b\b\b\b\b\b\b\b\b\b\b\b\b\b\b\b\b\b\b\b\b\b\b\b\b\b\b\n",
      "Epoch 24/50\n",
      "95/95 [==============================] - 0s - loss: 0.0299 - val_loss: 0.0278\b\b\b\b\b\b\b\b\b\b\b\b\b\b\b\b\b\b\b\b\b\b\b\b\b\b\b\b\b\b\b\b\b\b\b\b\b\b\b\b\b\b\b\b\b\b\b\b\b\n",
      "Epoch 25/50\n",
      "95/95 [==============================] - 0s - loss: 0.0252 - val_loss: 0.0233\b\b\b\b\b\b\b\b\b\b\b\b\b\b\b\b\b\b\b\b\b\b\b\b\b\b\b\b\b\b\b\b\b\b\b\b\b\b\b\b\b\b\b\b\b\b\b\b\b\n",
      "Epoch 26/50\n",
      "95/95 [==============================] - 0s - loss: 0.0264 - val_loss: 0.0211\b\b\b\b\b\b\b\b\b\b\b\b\b\b\b\b\b\b\b\b\b\b\b\b\b\b\b\b\b\b\b\b\b\b\b\b\b\b\b\b\b\b\b\b\b\b\b\b\b\n",
      "Epoch 27/50\n",
      "95/95 [==============================] - 0s - loss: 0.0229 - val_loss: 0.0299\b\b\b\b\b\b\b\b\b\b\b\b\b\b\b\b\b\b\b\b\b\b\b\b\b\b\b\b\b\b\b\b\b\b\b\b\b\b\b\b\b\b\b\b\b\b\b\b\b\n",
      "Epoch 28/50\n",
      "95/95 [==============================] - 0s - loss: 0.0228 - val_loss: 0.0259\b\b\b\b\b\b\b\b\b\b\b\b\b\b\b\b\b\b\b\b\b\b\b\b\b\b\b\b\b\b\b\b\b\b\b\b\b\b\b\b\b\b\b\b\b\b\b\b\b\n",
      "Epoch 29/50\n",
      "95/95 [==============================] - 0s - loss: 0.0211 - val_loss: 0.0157\b\b\b\b\b\b\b\b\b\b\b\b\b\b\b\b\b\b\b\b\b\b\b\b\b\b\b\b\b\b\b\b\b\b\b\b\b\b\b\b\b\b\b\b\b\b\b\b\b\n",
      "Epoch 30/50\n",
      "95/95 [==============================] - 0s - loss: 0.0170 - val_loss: 0.0161\b\b\b\b\b\b\b\b\b\b\b\b\b\b\b\b\b\b\b\b\b\b\b\b\b\b\b\b\b\b\b\b\b\b\b\b\b\b\b\b\b\b\b\b\b\b\b\b\b\n",
      "Epoch 31/50\n",
      "95/95 [==============================] - 0s - loss: 0.0179 - val_loss: 0.0149\b\b\b\b\b\b\b\b\b\b\b\b\b\b\b\b\b\b\b\b\b\b\b\b\b\b\b\b\b\b\b\b\b\b\b\b\b\b\b\b\b\b\b\b\b\b\b\b\b\n",
      "Epoch 32/50\n",
      "95/95 [==============================] - 0s - loss: 0.0152 - val_loss: 0.0149\b\b\b\b\b\b\b\b\b\b\b\b\b\b\b\b\b\b\b\b\b\b\b\b\b\b\b\b\b\b\b\b\b\b\b\b\b\b\b\b\b\b\b\b\b\b\b\b\b\n",
      "Epoch 33/50\n",
      "95/95 [==============================] - 0s - loss: 0.0109 - val_loss: 0.0186\b\b\b\b\b\b\b\b\b\b\b\b\b\b\b\b\b\b\b\b\b\b\b\b\b\b\b\b\b\b\b\b\b\b\b\b\b\b\b\b\b\b\b\b\b\b\b\b\b\n",
      "Epoch 34/50\n",
      "95/95 [==============================] - 0s - loss: 0.0130 - val_loss: 0.0184\b\b\b\b\b\b\b\b\b\b\b\b\b\b\b\b\b\b\b\b\b\b\b\b\b\b\b\b\b\b\b\b\b\b\b\b\b\b\b\b\b\b\b\b\b\b\b\b\b\n",
      "Epoch 35/50\n",
      "95/95 [==============================] - 0s - loss: 0.0106 - val_loss: 0.0131\b\b\b\b\b\b\b\b\b\b\b\b\b\b\b\b\b\b\b\b\b\b\b\b\b\b\b\b\b\b\b\b\b\b\b\b\b\b\b\b\b\b\b\b\b\b\b\b\b\n",
      "Epoch 36/50\n",
      "95/95 [==============================] - 0s - loss: 0.0101 - val_loss: 0.0112\b\b\b\b\b\b\b\b\b\b\b\b\b\b\b\b\b\b\b\b\b\b\b\b\b\b\b\b\b\b\b\b\b\b\b\b\b\b\b\b\b\b\b\b\b\b\b\b\b\n",
      "Epoch 37/50\n",
      "95/95 [==============================] - 0s - loss: 0.0115 - val_loss: 0.0113\b\b\b\b\b\b\b\b\b\b\b\b\b\b\b\b\b\b\b\b\b\b\b\b\b\b\b\b\b\b\b\b\b\b\b\b\b\b\b\b\b\b\b\b\b\b\b\b\b\n",
      "Epoch 38/50\n",
      "95/95 [==============================] - 0s - loss: 0.0098 - val_loss: 0.0156\b\b\b\b\b\b\b\b\b\b\b\b\b\b\b\b\b\b\b\b\b\b\b\b\b\b\b\b\b\b\b\b\b\b\b\b\b\b\b\b\b\b\b\b\b\b\b\b\b\n",
      "Epoch 39/50\n",
      "95/95 [==============================] - 0s - loss: 0.0124 - val_loss: 0.0205\b\b\b\b\b\b\b\b\b\b\b\b\b\b\b\b\b\b\b\b\b\b\b\b\b\b\b\b\b\b\b\b\b\b\b\b\b\b\b\b\b\b\b\b\b\b\b\b\b\n",
      "Epoch 40/50\n",
      "95/95 [==============================] - 0s - loss: 0.0110 - val_loss: 0.0116\b\b\b\b\b\b\b\b\b\b\b\b\b\b\b\b\b\b\b\b\b\b\b\b\b\b\b\b\b\b\b\b\b\b\b\b\b\b\b\b\b\b\b\b\b\b\b\b\b\n",
      "Epoch 41/50\n",
      "95/95 [==============================] - 0s - loss: 0.0081 - val_loss: 0.0051\b\b\b\b\b\b\b\b\b\b\b\b\b\b\b\b\b\b\b\b\b\b\b\b\b\b\b\b\b\b\b\b\b\b\b\b\b\b\b\b\b\b\b\b\b\b\b\b\b\n",
      "Epoch 42/50\n",
      "95/95 [==============================] - 0s - loss: 0.0086 - val_loss: 0.0050\b\b\b\b\b\b\b\b\b\b\b\b\b\b\b\b\b\b\b\b\b\b\b\b\b\b\b\b\b\b\b\b\b\b\b\b\b\b\b\b\b\b\b\b\b\b\b\b\b\n",
      "Epoch 43/50\n",
      "95/95 [==============================] - 0s - loss: 0.0081 - val_loss: 0.0038\b\b\b\b\b\b\b\b\b\b\b\b\b\b\b\b\b\b\b\b\b\b\b\b\b\b\b\b\b\b\b\b\b\b\b\b\b\b\b\b\b\b\b\b\b\b\b\b\b\n",
      "Epoch 44/50\n",
      "95/95 [==============================] - 0s - loss: 0.0090 - val_loss: 0.0033\b\b\b\b\b\b\b\b\b\b\b\b\b\b\b\b\b\b\b\b\b\b\b\b\b\b\b\b\b\b\b\b\b\b\b\b\b\b\b\b\b\b\b\b\b\b\b\b\b\n",
      "Epoch 45/50\n",
      "95/95 [==============================] - 0s - loss: 0.0061 - val_loss: 0.0035\b\b\b\b\b\b\b\b\b\b\b\b\b\b\b\b\b\b\b\b\b\b\b\b\b\b\b\b\b\b\b\b\b\b\b\b\b\b\b\b\b\b\b\b\b\b\b\b\b\n",
      "Epoch 46/50\n",
      "95/95 [==============================] - 0s - loss: 0.0069 - val_loss: 0.0036\b\b\b\b\b\b\b\b\b\b\b\b\b\b\b\b\b\b\b\b\b\b\b\b\b\b\b\b\b\b\b\b\b\b\b\b\b\b\b\b\b\b\b\b\b\b\b\b\b\n",
      "Epoch 47/50\n",
      "95/95 [==============================] - 0s - loss: 0.0072 - val_loss: 0.0061\b\b\b\b\b\b\b\b\b\b\b\b\b\b\b\b\b\b\b\b\b\b\b\b\b\b\b\b\b\b\b\b\b\b\b\b\b\b\b\b\b\b\b\b\b\b\b\b\b\n",
      "Epoch 48/50\n",
      "95/95 [==============================] - 0s - loss: 0.0087 - val_loss: 0.0047\b\b\b\b\b\b\b\b\b\b\b\b\b\b\b\b\b\b\b\b\b\b\b\b\b\b\b\b\b\b\b\b\b\b\b\b\b\b\b\b\b\b\b\b\b\b\b\b\b\n",
      "Epoch 49/50\n",
      "95/95 [==============================] - 0s - loss: 0.0054 - val_loss: 0.0019\b\b\b\b\b\b\b\b\b\b\b\b\b\b\b\b\b\b\b\b\b\b\b\b\b\b\b\b\b\b\b\b\b\b\b\b\b\b\b\b\b\b\b\b\b\b\b\b\b\n",
      "Epoch 50/50\n",
      "95/95 [==============================] - 0s - loss: 0.0061 - val_loss: 8.0245e-04\b\b\b\b\b\b\b\b\b\b\b\b\b\b\b\b\b\b\b\b\b\b\b\b\b\b\b\b\b\b\b\b\b\b\b\b\b\b\b\b\b\b\b\b\b\n"
     ]
    },
    {
     "data": {
      "text/plain": [
       "<keras.callbacks.History at 0x13dba6710>"
      ]
     },
     "execution_count": 84,
     "metadata": {},
     "output_type": "execute_result"
    }
   ],
   "source": [
    "# train\n",
    "\n",
    "'''tr_pairs1 = tr_pairs[:250]\n",
    "te_pairs1 = tr_pairs[250:]\n",
    "tr_y1 = tr_y[:250]\n",
    "te_y1 = tr_y[250:]\n",
    "\n",
    "tr_pairs = tr_pairs1\n",
    "te_pairs = te_pairs1\n",
    "tr_y = tr_y1\n",
    "te_y = te_y1'''\n",
    "\n",
    "# tr_pairs = emails\n",
    "# tr_y = emails_y\n",
    "# te_pairs = emails_t\n",
    "# te_y = emails_t_y\n",
    "\n",
    "# tr_pairs = np.vstack([tr_pairs, te_pairs])\n",
    "# print(tr_pairs.shape)\n",
    "\n",
    "rms = RMSprop()\n",
    "model.compile(loss=contrastive_loss, optimizer='adam')\n",
    "model.fit([te_pairs[:, 0], te_pairs[:, 1]], te_y,\n",
    "          validation_split=0.05,\n",
    "          batch_size=64,\n",
    "          epochs=50)\n",
    "\n"
   ]
  },
  {
   "cell_type": "code",
   "execution_count": 86,
   "metadata": {
    "collapsed": false,
    "deletable": true,
    "editable": true
   },
   "outputs": [
    {
     "name": "stdout",
     "output_type": "stream",
     "text": [
      "* Accuracy on training set: 72.20%\n",
      "* Accuracy on test set: 100.00%\n",
      "0.722\n",
      "1.0\n"
     ]
    }
   ],
   "source": [
    "# compute final accuracy on training and test sets\n",
    "from sklearn.metrics import accuracy_score\n",
    "\n",
    "tr_pred = model.predict([tr_pairs[:, 0], tr_pairs[:, 1]])\n",
    "tr_acc = compute_accuracy(tr_pred, tr_y)\n",
    "te_pred = model.predict([te_pairs[:, 0], te_pairs[:, 1]])\n",
    "te_acc = compute_accuracy(te_pred, te_y)\n",
    "\n",
    "#pred = model.predict([ve_pairs[:, 0], ve_pairs[:, 1]])\n",
    "#ve_acc = compute_accuracy(pred, ve_y)\n",
    "#pred = model.predict([vet_pairs[:, 0], vet_pairs[:, 1]])\n",
    "#vet_acc = compute_accuracy(pred, vet_y)\n",
    "\n",
    "print('* Accuracy on training set: %0.2f%%' % (100 * tr_acc))\n",
    "print('* Accuracy on test set: %0.2f%%' % (100 * te_acc))\n",
    "\n",
    "tr_thresh = [1 if p < 0.5 else 0 for p in tr_pred]\n",
    "te_thresh = [1 if p < 0.5 else 0 for p in te_pred]\n",
    "print(accuracy_score(tr_y, tr_thresh))\n",
    "print(accuracy_score(te_y, te_thresh))\n",
    "\n",
    "# print('* Accuracy on ver set: %0.2f%%' % (100 * ve_acc))\n",
    "#print('* Accuracy on vet set: %0.2f%%' % (100 * vet_acc))"
   ]
  },
  {
   "cell_type": "code",
   "execution_count": 89,
   "metadata": {
    "collapsed": false,
    "deletable": true,
    "editable": true
   },
   "outputs": [
    {
     "name": "stdout",
     "output_type": "stream",
     "text": [
      "[[ 0.38579309]\n",
      " [ 0.19190618]\n",
      " [ 1.21739352]\n",
      " [ 1.38640368]\n",
      " [ 0.53209692]\n",
      " [ 0.87954098]\n",
      " [ 0.439675  ]\n",
      " [ 0.18316305]\n",
      " [ 0.71409887]\n",
      " [ 0.76006997]\n",
      " [ 0.3019276 ]\n",
      " [ 1.37371516]\n",
      " [ 1.48004222]\n",
      " [ 1.11111081]\n",
      " [ 0.73745477]\n",
      " [ 0.07453167]\n",
      " [ 0.29078701]\n",
      " [ 0.64323968]\n",
      " [ 0.34583589]\n",
      " [ 0.30699137]\n",
      " [ 1.28228533]\n",
      " [ 1.14684033]\n",
      " [ 1.0880276 ]\n",
      " [ 0.11579861]\n",
      " [ 0.70992297]\n",
      " [ 0.87186182]\n",
      " [ 1.08331406]\n",
      " [ 0.12139704]\n",
      " [ 1.25472093]\n",
      " [ 0.07606126]\n",
      " [ 0.1952341 ]\n",
      " [ 1.20237398]\n",
      " [ 1.28170323]\n",
      " [ 1.65513492]\n",
      " [ 0.1786336 ]\n",
      " [ 0.25072396]\n",
      " [ 0.29158568]\n",
      " [ 0.50225377]\n",
      " [ 0.58886331]\n",
      " [ 0.59077293]\n",
      " [ 0.99517995]\n",
      " [ 0.53107297]\n",
      " [ 0.14088911]\n",
      " [ 0.33663586]\n",
      " [ 0.59289837]\n",
      " [ 0.51265287]\n",
      " [ 1.74963951]\n",
      " [ 0.06626197]\n",
      " [ 0.58706957]\n",
      " [ 0.3783356 ]\n",
      " [ 0.73556936]\n",
      " [ 0.33740765]\n",
      " [ 0.32651854]\n",
      " [ 1.3617934 ]\n",
      " [ 0.62894005]\n",
      " [ 0.46390149]\n",
      " [ 0.38330084]\n",
      " [ 0.44733942]\n",
      " [ 0.51164544]\n",
      " [ 0.61188418]\n",
      " [ 0.57369584]\n",
      " [ 1.10470688]\n",
      " [ 0.10274324]\n",
      " [ 1.19675803]\n",
      " [ 0.07092064]\n",
      " [ 0.76058114]\n",
      " [ 0.54506379]\n",
      " [ 0.601466  ]\n",
      " [ 0.05708869]\n",
      " [ 1.25199509]\n",
      " [ 0.17785794]\n",
      " [ 0.17096226]\n",
      " [ 0.41540745]\n",
      " [ 0.3601115 ]\n",
      " [ 0.85062975]\n",
      " [ 0.03081885]\n",
      " [ 1.25165081]\n",
      " [ 0.79712063]\n",
      " [ 0.23162203]\n",
      " [ 0.15996954]\n",
      " [ 0.18734635]\n",
      " [ 1.16397226]\n",
      " [ 0.11685833]\n",
      " [ 1.21353281]\n",
      " [ 1.31746733]\n",
      " [ 0.40075195]\n",
      " [ 1.42870152]\n",
      " [ 0.06349294]\n",
      " [ 0.97640699]\n",
      " [ 0.60984296]\n",
      " [ 0.06343756]\n",
      " [ 0.62211782]\n",
      " [ 0.38853171]\n",
      " [ 0.84851402]\n",
      " [ 0.37011087]\n",
      " [ 0.07055863]\n",
      " [ 0.47422343]\n",
      " [ 0.69794381]\n",
      " [ 0.17129117]\n",
      " [ 0.39473259]\n",
      " [ 1.12608516]\n",
      " [ 0.37719783]\n",
      " [ 1.09404624]\n",
      " [ 0.31379741]\n",
      " [ 0.9139061 ]\n",
      " [ 1.33193958]\n",
      " [ 0.72546715]\n",
      " [ 0.28496784]\n",
      " [ 0.852795  ]\n",
      " [ 0.61513472]\n",
      " [ 0.37322509]\n",
      " [ 0.38279095]\n",
      " [ 0.31454208]\n",
      " [ 0.45944971]\n",
      " [ 0.17270361]\n",
      " [ 1.28398716]\n",
      " [ 1.21737027]\n",
      " [ 0.71682847]\n",
      " [ 1.02862465]\n",
      " [ 0.28202915]\n",
      " [ 0.34861559]\n",
      " [ 0.09800241]\n",
      " [ 1.07724082]\n",
      " [ 1.13244915]\n",
      " [ 0.34616899]\n",
      " [ 0.98989969]\n",
      " [ 0.39794573]\n",
      " [ 0.1128375 ]\n",
      " [ 0.09528649]\n",
      " [ 0.15302317]\n",
      " [ 0.24030392]\n",
      " [ 0.70532149]\n",
      " [ 0.91986161]\n",
      " [ 0.1028288 ]\n",
      " [ 0.2867707 ]\n",
      " [ 0.41277826]\n",
      " [ 0.4266786 ]\n",
      " [ 0.66792536]\n",
      " [ 0.06076854]\n",
      " [ 0.65437931]\n",
      " [ 0.4867402 ]\n",
      " [ 0.77714813]\n",
      " [ 0.23642889]\n",
      " [ 1.65426636]\n",
      " [ 1.16041934]\n",
      " [ 1.41432643]\n",
      " [ 0.89667863]\n",
      " [ 0.05302309]\n",
      " [ 0.31603548]\n",
      " [ 0.9747842 ]\n",
      " [ 1.20064127]\n",
      " [ 0.78052944]\n",
      " [ 0.33768776]\n",
      " [ 0.86222327]\n",
      " [ 1.17296147]\n",
      " [ 1.55114794]\n",
      " [ 0.16990417]\n",
      " [ 0.13908871]\n",
      " [ 0.69247067]\n",
      " [ 0.64925921]\n",
      " [ 0.71616453]\n",
      " [ 0.13737465]\n",
      " [ 0.11095046]\n",
      " [ 0.20784566]\n",
      " [ 0.81030965]\n",
      " [ 0.90644819]\n",
      " [ 0.25564539]\n",
      " [ 0.29166991]\n",
      " [ 0.34911984]\n",
      " [ 0.73913121]\n",
      " [ 0.2736297 ]\n",
      " [ 0.46320346]\n",
      " [ 1.09767413]\n",
      " [ 0.9457745 ]\n",
      " [ 0.15566343]\n",
      " [ 0.08696814]\n",
      " [ 1.29003203]\n",
      " [ 0.39581287]\n",
      " [ 0.51301366]\n",
      " [ 0.44681504]\n",
      " [ 0.5832687 ]\n",
      " [ 0.51283532]\n",
      " [ 0.67649478]\n",
      " [ 0.72178406]\n",
      " [ 0.05370511]\n",
      " [ 0.35062626]\n",
      " [ 0.97066557]\n",
      " [ 0.06035415]\n",
      " [ 0.36984363]\n",
      " [ 0.42841139]\n",
      " [ 1.01608324]\n",
      " [ 0.89911139]\n",
      " [ 0.19357243]\n",
      " [ 0.99460256]\n",
      " [ 0.19922975]\n",
      " [ 0.43945518]\n",
      " [ 1.33138716]\n",
      " [ 0.69062269]\n",
      " [ 0.70612884]\n",
      " [ 1.55647624]\n",
      " [ 0.12447784]\n",
      " [ 1.39085317]\n",
      " [ 0.46403027]\n",
      " [ 0.65960878]\n",
      " [ 1.73044896]\n",
      " [ 0.5454163 ]\n",
      " [ 0.99973714]\n",
      " [ 0.49142238]\n",
      " [ 0.98116082]\n",
      " [ 1.21820796]\n",
      " [ 0.32814237]\n",
      " [ 0.27945721]\n",
      " [ 0.58609176]\n",
      " [ 0.24608886]\n",
      " [ 0.36878529]\n",
      " [ 0.72793263]\n",
      " [ 0.45720771]\n",
      " [ 1.24294591]\n",
      " [ 0.88981247]\n",
      " [ 0.12527326]\n",
      " [ 1.31722867]\n",
      " [ 0.69998014]\n",
      " [ 0.40094355]\n",
      " [ 1.24687552]\n",
      " [ 0.22508395]\n",
      " [ 0.18179551]\n",
      " [ 0.84046841]\n",
      " [ 1.34745109]\n",
      " [ 0.5056783 ]\n",
      " [ 0.47135878]\n",
      " [ 0.63191849]\n",
      " [ 0.76808691]\n",
      " [ 1.26346374]\n",
      " [ 0.98274291]\n",
      " [ 0.31845355]\n",
      " [ 0.62516254]\n",
      " [ 0.11579861]\n",
      " [ 0.39942491]\n",
      " [ 0.24948366]\n",
      " [ 0.44546866]\n",
      " [ 0.24093314]\n",
      " [ 0.58714467]\n",
      " [ 0.84073251]\n",
      " [ 0.87271911]\n",
      " [ 1.24125624]\n",
      " [ 1.24300468]\n",
      " [ 0.17427553]\n",
      " [ 0.24575509]\n",
      " [ 0.53971523]\n",
      " [ 0.0654275 ]\n",
      " [ 0.07094982]\n",
      " [ 1.17603862]\n",
      " [ 0.7565003 ]\n",
      " [ 0.60451639]\n",
      " [ 0.10881598]\n",
      " [ 0.09767474]\n",
      " [ 0.41560304]\n",
      " [ 0.26970679]\n",
      " [ 0.80866939]\n",
      " [ 1.24362862]\n",
      " [ 1.15011621]\n",
      " [ 0.3188892 ]\n",
      " [ 0.73254341]\n",
      " [ 0.80661881]\n",
      " [ 0.72458112]\n",
      " [ 0.47891304]\n",
      " [ 0.37744695]\n",
      " [ 0.68309456]\n",
      " [ 0.54127353]\n",
      " [ 1.04298604]\n",
      " [ 0.15889274]\n",
      " [ 0.86352783]\n",
      " [ 0.31013513]\n",
      " [ 0.73128116]\n",
      " [ 0.19565219]\n",
      " [ 0.5664866 ]\n",
      " [ 0.41557321]\n",
      " [ 0.84680611]\n",
      " [ 0.12711203]\n",
      " [ 0.98324555]\n",
      " [ 0.1362146 ]\n",
      " [ 0.27744278]\n",
      " [ 1.14197361]\n",
      " [ 0.33754316]\n",
      " [ 0.06922138]\n",
      " [ 0.1896006 ]\n",
      " [ 0.74282688]\n",
      " [ 1.02422833]\n",
      " [ 1.36822093]\n",
      " [ 0.55331701]\n",
      " [ 0.23486955]\n",
      " [ 0.80789387]\n",
      " [ 0.13557674]\n",
      " [ 0.16281742]\n",
      " [ 0.24686864]\n",
      " [ 0.44775313]\n",
      " [ 0.83336443]\n",
      " [ 0.32095245]\n",
      " [ 0.34347728]\n",
      " [ 1.02868843]\n",
      " [ 0.69928235]\n",
      " [ 1.03641868]\n",
      " [ 0.12833035]\n",
      " [ 1.06150651]\n",
      " [ 0.81540751]\n",
      " [ 0.6092937 ]\n",
      " [ 0.48198149]\n",
      " [ 0.99903512]\n",
      " [ 0.13748364]\n",
      " [ 1.18651116]\n",
      " [ 0.34583691]\n",
      " [ 0.71624774]\n",
      " [ 0.3191109 ]\n",
      " [ 0.76733989]\n",
      " [ 0.55535817]\n",
      " [ 0.40798968]\n",
      " [ 0.09029118]\n",
      " [ 0.58681977]\n",
      " [ 1.12499511]\n",
      " [ 0.09550693]\n",
      " [ 0.19731987]\n",
      " [ 0.2867915 ]\n",
      " [ 0.3519077 ]\n",
      " [ 0.07838567]\n",
      " [ 0.48977262]\n",
      " [ 0.52352536]\n",
      " [ 0.96009523]\n",
      " [ 0.97614098]\n",
      " [ 0.42261037]\n",
      " [ 0.21569528]\n",
      " [ 1.36840332]\n",
      " [ 1.16661894]\n",
      " [ 0.72102565]\n",
      " [ 1.0105269 ]\n",
      " [ 0.49060506]\n",
      " [ 0.26806498]\n",
      " [ 0.2217508 ]\n",
      " [ 0.59527838]\n",
      " [ 1.25020587]\n",
      " [ 1.39845634]\n",
      " [ 0.91135603]\n",
      " [ 0.54669929]\n",
      " [ 0.25311831]\n",
      " [ 0.87186182]\n",
      " [ 0.13908871]\n",
      " [ 0.87853831]\n",
      " [ 1.08941329]\n",
      " [ 1.23465741]\n",
      " [ 0.87443888]\n",
      " [ 1.73200417]\n",
      " [ 0.9376117 ]\n",
      " [ 0.24045518]\n",
      " [ 0.32282728]\n",
      " [ 1.16240966]\n",
      " [ 0.66638714]\n",
      " [ 0.32013744]\n",
      " [ 1.09672439]\n",
      " [ 0.14779869]\n",
      " [ 0.4103848 ]\n",
      " [ 0.10095271]\n",
      " [ 0.61706996]\n",
      " [ 1.37753177]\n",
      " [ 0.4027704 ]\n",
      " [ 1.53772163]\n",
      " [ 1.01042879]\n",
      " [ 0.9232257 ]\n",
      " [ 1.34434879]\n",
      " [ 0.14994368]\n",
      " [ 0.9598006 ]\n",
      " [ 0.43324926]\n",
      " [ 0.15169072]\n",
      " [ 0.309468  ]\n",
      " [ 0.57751197]\n",
      " [ 0.19671299]\n",
      " [ 0.99594182]\n",
      " [ 0.26670396]\n",
      " [ 0.17056939]\n",
      " [ 0.27138439]\n",
      " [ 0.93139291]\n",
      " [ 1.29409504]\n",
      " [ 0.33891216]\n",
      " [ 0.96114254]\n",
      " [ 0.50255144]\n",
      " [ 0.03949236]\n",
      " [ 0.15135454]\n",
      " [ 0.06369953]\n",
      " [ 0.60773474]\n",
      " [ 0.69088411]\n",
      " [ 0.7700038 ]\n",
      " [ 0.45678222]\n",
      " [ 0.27206406]\n",
      " [ 1.00405931]\n",
      " [ 0.34430471]\n",
      " [ 0.13138615]\n",
      " [ 1.05387759]\n",
      " [ 0.89563173]\n",
      " [ 1.0534122 ]\n",
      " [ 0.64224565]\n",
      " [ 0.26969671]\n",
      " [ 0.22910696]\n",
      " [ 1.03878605]\n",
      " [ 0.84092033]\n",
      " [ 1.49791181]\n",
      " [ 1.32191205]\n",
      " [ 0.4103848 ]\n",
      " [ 1.39598227]\n",
      " [ 0.32331234]\n",
      " [ 1.26070142]\n",
      " [ 1.00491571]\n",
      " [ 0.28059399]\n",
      " [ 0.19080202]\n",
      " [ 1.19638181]\n",
      " [ 0.70535618]\n",
      " [ 0.44949019]\n",
      " [ 0.12724881]\n",
      " [ 0.14921783]\n",
      " [ 0.49499846]\n",
      " [ 0.97279871]\n",
      " [ 0.44341466]\n",
      " [ 0.68364328]\n",
      " [ 0.37882775]\n",
      " [ 0.70932186]\n",
      " [ 0.93623096]\n",
      " [ 0.11096606]\n",
      " [ 0.47876793]\n",
      " [ 0.24591687]\n",
      " [ 0.39833552]\n",
      " [ 0.94512415]\n",
      " [ 1.19151044]\n",
      " [ 1.09637511]\n",
      " [ 0.78451335]\n",
      " [ 0.22842629]\n",
      " [ 0.04713082]\n",
      " [ 1.26399457]\n",
      " [ 0.08909336]\n",
      " [ 0.75847501]\n",
      " [ 0.95776808]\n",
      " [ 1.27569103]\n",
      " [ 0.65444815]\n",
      " [ 0.92712438]\n",
      " [ 0.33926058]\n",
      " [ 1.16769433]\n",
      " [ 0.3989085 ]\n",
      " [ 1.20713365]\n",
      " [ 0.41947874]\n",
      " [ 0.3783778 ]\n",
      " [ 0.37950927]\n",
      " [ 0.09498152]\n",
      " [ 1.26052856]\n",
      " [ 0.60451639]\n",
      " [ 0.89182699]\n",
      " [ 0.34317511]\n",
      " [ 0.08782926]\n",
      " [ 1.33220184]\n",
      " [ 1.12847543]\n",
      " [ 0.76842833]\n",
      " [ 0.32450065]\n",
      " [ 0.68024457]\n",
      " [ 0.82418591]\n",
      " [ 0.46728614]\n",
      " [ 0.31140652]\n",
      " [ 0.11863645]\n",
      " [ 0.04215796]\n",
      " [ 0.89290458]\n",
      " [ 1.45075607]\n",
      " [ 0.0916357 ]\n",
      " [ 0.39246303]\n",
      " [ 0.23879512]\n",
      " [ 0.46621427]\n",
      " [ 0.16637287]\n",
      " [ 1.50962079]\n",
      " [ 0.44243729]\n",
      " [ 1.58966053]\n",
      " [ 0.35403699]\n",
      " [ 0.40862456]\n",
      " [ 0.66820079]\n",
      " [ 0.57314777]\n",
      " [ 0.31870553]\n",
      " [ 0.43795916]\n",
      " [ 0.58118677]\n",
      " [ 0.85152036]\n",
      " [ 0.98086596]\n",
      " [ 0.52122694]\n",
      " [ 0.26780146]\n",
      " [ 0.15671779]\n",
      " [ 1.30623233]\n",
      " [ 0.11618125]\n",
      " [ 0.68746018]\n",
      " [ 0.34527373]\n",
      " [ 0.37523389]\n",
      " [ 0.17352256]\n",
      " [ 0.78261292]\n",
      " [ 0.59328485]\n",
      " [ 0.49205607]\n",
      " [ 0.17049181]\n",
      " [ 0.62747824]\n",
      " [ 0.48319879]\n",
      " [ 0.90570396]\n",
      " [ 0.11568465]\n",
      " [ 0.52697128]]\n",
      "[1 1 0 0 1 0 1 1 0 1 1 1 0 1 0 1 1 0 1 0 0 0 0 1 1 1 0 1 0 1 1 0 0 0 1 1 1\n",
      " 0 0 0 0 0 1 0 0 0 0 1 0 1 0 0 1 0 1 0 0 0 1 1 0 0 1 0 1 0 0 1 1 0 1 1 1 1\n",
      " 0 1 0 0 1 1 1 0 1 0 1 1 0 1 0 0 1 1 1 0 1 1 0 0 1 0 1 0 0 0 1 0 0 0 1 1 1\n",
      " 1 1 1 1 0 0 0 1 0 1 1 0 0 1 1 1 1 1 1 1 0 0 1 0 1 0 0 1 1 1 0 1 0 0 0 1 1\n",
      " 1 0 1 1 0 0 1 0 1 1 0 0 0 1 1 0 0 1 0 1 1 0 1 0 1 1 1 1 0 0 0 0 0 0 1 1 1\n",
      " 1 0 1 0 1 0 0 1 0 1 1 0 1 1 0 1 0 0 1 0 0 1 0 0 0 0 1 0 1 0 0 1 0 0 1 0 0\n",
      " 0 0 1 1 0 0 1 0 0 0 1 1 1 1 1 0 1 1 0 0 1 0 0 0 1 1 1 1 1 1 0 1 1 0 1 1 0\n",
      " 0 1 0 1 0 0 1 1 1 1 1 0 0 1 0 1 0 0 0 1 0 1 1 1 0 1 1 1 0 0 0 0 1 1 0 1 0\n",
      " 0 1 1 1 0 0 1 0 1 0 0 1 1 0 0 0 1 1 0 0 1 0 0 1 1 1 1 1 0 1 0 0 1 0 0 1 0\n",
      " 1 0 1 1 0 0 0 0 1 0 1 1 1 0 0 0 0 0 1 1 1 0 1 0 1 1 1 1 0 0 0 0 0 0 1 1 1\n",
      " 1 1 1 1 0 1 1 1 1 0 1 1 0 1 1 1 0 1 1 0 1 0 0 1 0 0 0 0 0 1 0 0 0 0 1 0 1\n",
      " 0 0 0 1 0 0 1 1 1 0 0 1 0 1 1 1 1 0 1 1 0 0 1 0 1 0 0 1 0 0 0 1 1 1 0 0 0\n",
      " 1 1 0 1 0 1 0 1 1 0 0 0 1 0 0 0 1 0 1 0 0 1 1 1 1 1 0 1 0 0 0 0 1 0 0 0 0\n",
      " 0 0 1 1 0 1 0 1 0 1 0 1 0 1 1 0 1 1 0]\n"
     ]
    }
   ],
   "source": [
    "print(tr_pred)\n",
    "print(tr_y)"
   ]
  },
  {
   "cell_type": "code",
   "execution_count": 1619,
   "metadata": {
    "collapsed": false,
    "deletable": true,
    "editable": true
   },
   "outputs": [
    {
     "data": {
      "text/plain": [
       "0.8571428571428571"
      ]
     },
     "execution_count": 1619,
     "metadata": {},
     "output_type": "execute_result"
    }
   ],
   "source": [
    "te_y[pred.ravel() < 0.5].mean()"
   ]
  },
  {
   "cell_type": "code",
   "execution_count": null,
   "metadata": {
    "collapsed": false,
    "deletable": true,
    "editable": true
   },
   "outputs": [],
   "source": [
    "np.vstack([tr_pairs, te_pairs]).shape"
   ]
  },
  {
   "cell_type": "code",
   "execution_count": 1020,
   "metadata": {
    "collapsed": false,
    "deletable": true,
    "editable": true
   },
   "outputs": [
    {
     "data": {
      "text/plain": [
       "(500, 2, 1200)"
      ]
     },
     "execution_count": 1020,
     "metadata": {},
     "output_type": "execute_result"
    }
   ],
   "source": [
    "tr_pairs.shape"
   ]
  },
  {
   "cell_type": "code",
   "execution_count": 1021,
   "metadata": {
    "collapsed": false,
    "deletable": true,
    "editable": true
   },
   "outputs": [
    {
     "data": {
      "text/plain": [
       "(100, 1200)"
      ]
     },
     "execution_count": 1021,
     "metadata": {},
     "output_type": "execute_result"
    }
   ],
   "source": [
    "te_pairs[:,0].shape"
   ]
  },
  {
   "cell_type": "code",
   "execution_count": 1022,
   "metadata": {
    "collapsed": false,
    "deletable": true,
    "editable": true
   },
   "outputs": [
    {
     "data": {
      "text/plain": [
       "array([1, 1, 0, 0, 1, 0, 1, 1, 0, 1, 1, 1, 0, 1, 0, 1, 1, 0, 1, 0, 0, 0, 0,\n",
       "       1, 1, 1, 0, 1, 0, 1, 1, 0, 0, 0, 1, 1, 1, 0, 0, 0, 0, 0, 1, 0, 0, 0,\n",
       "       0, 1, 0, 1, 0, 0, 1, 0, 1, 0, 0, 0, 1, 1, 0, 0, 1, 0, 1, 0, 0, 1, 1,\n",
       "       0, 1, 1, 1, 1, 0, 1, 0, 0, 1, 1, 1, 0, 1, 0, 1, 1, 0, 1, 0, 0, 1, 1,\n",
       "       1, 0, 1, 1, 0, 0, 1, 0, 1, 0, 0, 0, 1, 0, 0, 0, 1, 1, 1, 1, 1, 1, 1,\n",
       "       0, 0, 0, 1, 0, 1, 1, 0, 0, 1, 1, 1, 1, 1, 1, 1, 0, 0, 1, 0, 1, 0, 0,\n",
       "       1, 1, 1, 0, 1, 0, 0, 0, 1, 1, 1, 0, 1, 1, 0, 0, 1, 0, 1, 1, 0, 0, 0,\n",
       "       1, 1, 0, 0, 1, 0, 1, 1, 0, 1, 0, 1, 1, 1, 1, 0, 0, 0, 0, 0, 0, 1, 1,\n",
       "       1, 1, 0, 1, 0, 1, 0, 0, 1, 0, 1, 1, 0, 1, 1, 0, 1, 0, 0, 1, 0, 0, 1,\n",
       "       0, 0, 0, 0, 1, 0, 1, 0, 0, 1, 0, 0, 1, 0, 0, 0, 0, 1, 1, 0, 0, 1, 0,\n",
       "       0, 0, 1, 1, 1, 1, 1, 0, 1, 1, 0, 0, 1, 0, 0, 0, 1, 1, 1, 1, 1, 1, 0,\n",
       "       1, 1, 0, 1, 1, 0, 0, 1, 0, 1, 0, 0, 1, 1, 1, 1, 1, 0, 0, 1, 0, 1, 0,\n",
       "       0, 0, 1, 0, 1, 1, 1, 0, 1, 1, 1, 0, 0, 0, 0, 1, 1, 0, 1, 0, 0, 1, 1,\n",
       "       1, 0, 0, 1, 0, 1, 0, 0, 1, 1, 0, 0, 0, 1, 1, 0, 0, 1, 0, 0, 1, 1, 1,\n",
       "       1, 1, 0, 1, 0, 0, 1, 0, 0, 1, 0, 1, 0, 1, 1, 0, 0, 0, 0, 1, 0, 1, 1,\n",
       "       1, 0, 0, 0, 0, 0, 1, 1, 1, 0, 1, 0, 1, 1, 1, 1, 0, 0, 0, 0, 0, 0, 1,\n",
       "       1, 1, 1, 1, 1, 1, 0, 1, 1, 1, 1, 0, 1, 1, 0, 1, 1, 1, 0, 1, 1, 0, 1,\n",
       "       0, 0, 1, 0, 0, 0, 0, 0, 1, 0, 0, 0, 0, 1, 0, 1, 0, 0, 0, 1, 0, 0, 1,\n",
       "       1, 1, 0, 0, 1, 0, 1, 1, 1, 1, 0, 1, 1, 0, 0, 1, 0, 1, 0, 0, 1, 0, 0,\n",
       "       0, 1, 1, 1, 0, 0, 0, 1, 1, 0, 1, 0, 1, 0, 1, 1, 0, 0, 0, 1, 0, 0, 0,\n",
       "       1, 0, 1, 0, 0, 1, 1, 1, 1, 1, 0, 1, 0, 0, 0, 0, 1, 0, 0, 0, 0, 0, 0,\n",
       "       1, 1, 0, 1, 0, 1, 0, 1, 0, 1, 0, 1, 1, 0, 1, 1, 0, 1, 0, 0, 0, 1, 1,\n",
       "       1, 0, 1, 0, 0, 1, 1, 1, 0, 1, 0, 1, 1, 0, 1, 1, 0, 1, 0, 0, 0, 1, 0,\n",
       "       1, 0, 0, 0, 1, 0, 1, 1, 1, 1, 1, 1, 1, 0, 0, 0, 0, 0, 1, 1, 1, 0, 0,\n",
       "       1, 0, 0, 0, 0, 1, 1, 0, 0, 1, 1, 1, 1, 1, 1, 0, 1, 0, 0, 0, 0, 0, 1,\n",
       "       0, 1, 0, 0, 1, 1, 1, 0, 0, 1, 0, 0, 1, 0, 1, 0, 1, 0, 1, 1, 0, 1, 0,\n",
       "       0, 1])"
      ]
     },
     "execution_count": 1022,
     "metadata": {},
     "output_type": "execute_result"
    }
   ],
   "source": [
    "np.hstack([tr_y,te_y])"
   ]
  },
  {
   "cell_type": "code",
   "execution_count": 1834,
   "metadata": {
    "collapsed": false,
    "deletable": true,
    "editable": true
   },
   "outputs": [
    {
     "name": "stdout",
     "output_type": "stream",
     "text": [
      "Authors: 100\n"
     ]
    },
    {
     "data": {
      "text/plain": [
       "TfidfVectorizer(analyzer='char', binary=False, decode_error='strict',\n",
       "        dtype=<class 'numpy.int64'>, encoding='utf-8', input='content',\n",
       "        lowercase=True, max_df=1.0, max_features=None, min_df=1,\n",
       "        ngram_range=(1, 6), norm='l2', preprocessor=None, smooth_idf=True,\n",
       "        stop_words=None, strip_accents=None, sublinear_tf=False,\n",
       "        token_pattern='(?u)\\\\b\\\\w\\\\w+\\\\b', tokenizer=None, use_idf=True,\n",
       "        vocabulary=None)"
      ]
     },
     "execution_count": 1834,
     "metadata": {},
     "output_type": "execute_result"
    }
   ],
   "source": [
    "from sklearn.metrics.pairwise import cosine_distances\n",
    "from sklearn.feature_extraction.text import TfidfVectorizer\n",
    "\n",
    "vectorizer = TfidfVectorizer(analyzer='char', ngram_range=(1,6))\n",
    "\n",
    "\n",
    "tps = get_texts(pan15train)\n",
    "vectorizer.fit([tp.known for tp in tps] + [tp.unknown for tp in tps])\n",
    "\n"
   ]
  },
  {
   "cell_type": "code",
   "execution_count": 1835,
   "metadata": {
    "collapsed": true,
    "deletable": true,
    "editable": true
   },
   "outputs": [],
   "source": [
    "known_vectors = vectorizer.transform([tp.known for tp in tps])\n",
    "unknown_vectors = vectorizer.transform([tp.unknown for tp in tps])"
   ]
  },
  {
   "cell_type": "code",
   "execution_count": 1836,
   "metadata": {
    "collapsed": true,
    "deletable": true,
    "editable": true
   },
   "outputs": [],
   "source": [
    "labels = load_truth(pan15train)\n",
    "same_indices = labels\n",
    "diff_indices = [0 if x else 1 for x in labels]"
   ]
  },
  {
   "cell_type": "code",
   "execution_count": 1837,
   "metadata": {
    "collapsed": true,
    "deletable": true,
    "editable": true
   },
   "outputs": [],
   "source": [
    "distances = cosine_distances(known_vectors, unknown_vectors)"
   ]
  },
  {
   "cell_type": "code",
   "execution_count": 1840,
   "metadata": {
    "collapsed": false,
    "deletable": true,
    "editable": true
   },
   "outputs": [
    {
     "data": {
      "text/plain": [
       "0.32170328860606484"
      ]
     },
     "execution_count": 1840,
     "metadata": {},
     "output_type": "execute_result"
    }
   ],
   "source": [
    "np.mean([x for i,x in enumerate(distances.diagonal()) if labels[i]])"
   ]
  },
  {
   "cell_type": "code",
   "execution_count": 1839,
   "metadata": {
    "collapsed": false,
    "deletable": true,
    "editable": true
   },
   "outputs": [
    {
     "data": {
      "text/plain": [
       "array([1, 0, 0, 0, 1, 1, 1, 0, 1, 0, 0, 1, 1, 1, 0, 1, 0, 1, 1, 0, 1, 1, 0,\n",
       "       1, 0, 0, 0, 1, 0, 1, 0, 0, 0, 1, 0, 1, 1, 1, 1, 1, 1, 1, 0, 0, 0, 0,\n",
       "       0, 1, 1, 1, 0, 0, 1, 0, 0, 0, 0, 1, 1, 0, 0, 1, 1, 1, 1, 1, 1, 0, 1,\n",
       "       0, 0, 0, 0, 0, 1, 0, 1, 0, 0, 1, 1, 1, 0, 0, 1, 0, 0, 1, 0, 1, 0, 1,\n",
       "       0, 1, 1, 0, 1, 0, 0, 1])"
      ]
     },
     "execution_count": 1839,
     "metadata": {},
     "output_type": "execute_result"
    }
   ],
   "source": [
    "same_indices"
   ]
  },
  {
   "cell_type": "code",
   "execution_count": 1831,
   "metadata": {
    "collapsed": false,
    "deletable": true,
    "editable": true
   },
   "outputs": [
    {
     "data": {
      "text/plain": [
       "(100, 100)"
      ]
     },
     "execution_count": 1831,
     "metadata": {},
     "output_type": "execute_result"
    }
   ],
   "source": [
    "distances.shape"
   ]
  },
  {
   "cell_type": "code",
   "execution_count": null,
   "metadata": {
    "collapsed": false,
    "deletable": true,
    "editable": true
   },
   "outputs": [],
   "source": []
  },
  {
   "cell_type": "code",
   "execution_count": 1842,
   "metadata": {
    "collapsed": false,
    "deletable": true,
    "editable": true
   },
   "outputs": [
    {
     "data": {
      "text/plain": [
       "array([ 0.52,  0.58])"
      ]
     },
     "execution_count": 1842,
     "metadata": {},
     "output_type": "execute_result"
    }
   ],
   "source": [
    "from sklearn.svm import SVC\n",
    "from sklearn.tree import DecisionTreeClassifier\n",
    "from sklearn.naive_bayes import MultinomialNB\n",
    "from sklearn.linear_model import LinearRegression\n",
    "# from sklearn.model_selection import cross_val_score\n",
    "from sklearn.cross_validation import cross_val_score\n",
    "\n",
    "svc = SVC()\n",
    "\n",
    "cross_val_score(svc, distances, labels, cv=2)\n",
    "\n"
   ]
  },
  {
   "cell_type": "code",
   "execution_count": null,
   "metadata": {
    "collapsed": true,
    "deletable": true,
    "editable": true
   },
   "outputs": [],
   "source": []
  },
  {
   "cell_type": "code",
   "execution_count": null,
   "metadata": {
    "collapsed": true,
    "deletable": true,
    "editable": true
   },
   "outputs": [],
   "source": []
  }
 ],
 "metadata": {
  "kernelspec": {
   "display_name": "Python 3",
   "language": "python",
   "name": "python3"
  },
  "language_info": {
   "codemirror_mode": {
    "name": "ipython",
    "version": 3
   },
   "file_extension": ".py",
   "mimetype": "text/x-python",
   "name": "python",
   "nbconvert_exporter": "python",
   "pygments_lexer": "ipython3",
   "version": "3.6.0"
  }
 },
 "nbformat": 4,
 "nbformat_minor": 2
}
